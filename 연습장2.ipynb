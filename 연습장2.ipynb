{
 "cells": [
  {
   "cell_type": "code",
   "execution_count": 8,
   "metadata": {},
   "outputs": [
    {
     "name": "stdout",
     "output_type": "stream",
     "text": [
      "3\n",
      "5\n",
      "7\n",
      "11\n",
      "13\n",
      "[False, False, True, True, False, True, False, True, False, False, False, True, False, True, False, False, False]\n"
     ]
    }
   ],
   "source": [
    "# n = 3\n",
    "# m = 16\n",
    "# prime_list = []\n",
    "# for i in range(2, int(m**0.5)+1):\n",
    "#     if prime_list[i]:\n",
    "#         for j in range(i*2, m+1, i):\n",
    "#             prime_list[j] = False\n",
    "# print(prime_list)\n",
    "\n",
    "n = 3\n",
    "m = 16\n",
    "\n",
    "arr = [True]*(m+1)\n",
    "arr[0] = False\n",
    "arr[1] = False\n",
    "\n",
    "for i in range(2, int(m**0.5)+1):\n",
    "    if arr[i]:\n",
    "        for j in range(i*2, m+1, i):\n",
    "            arr[j] = False\n",
    "\n",
    "for i in range(n, m+1):\n",
    "    if arr[i]:\n",
    "        print(i)\n",
    "print(arr)"
   ]
  }
 ],
 "metadata": {
  "kernelspec": {
   "display_name": "Python 3",
   "language": "python",
   "name": "python3"
  },
  "language_info": {
   "codemirror_mode": {
    "name": "ipython",
    "version": 3
   },
   "file_extension": ".py",
   "mimetype": "text/x-python",
   "name": "python",
   "nbconvert_exporter": "python",
   "pygments_lexer": "ipython3",
   "version": "3.11.4"
  }
 },
 "nbformat": 4,
 "nbformat_minor": 2
}
