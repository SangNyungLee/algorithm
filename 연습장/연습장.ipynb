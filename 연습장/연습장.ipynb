{
 "cells": [
  {
   "cell_type": "code",
   "execution_count": null,
   "metadata": {},
   "outputs": [],
   "source": [
    "import sys\n",
    "input = sys.stdin.readline\n",
    "\n",
    "def prime_table(n):\n",
    "\tlst = [True] * (n + 1)\n",
    "\tlst[0] = False\n",
    "\tlst[1] = False\n",
    "\tlst2 = [0] * (n + 1)\n",
    "\tp = 0\n",
    "\tfor i in range(len(lst)):\n",
    "\t\tif lst[i]:\n",
    "\t\t\tfor j in range(i + i, len(lst), i):\n",
    "\t\t\t\tlst[j] = False\n",
    "\t\t\tp += 1\n",
    "\t\tlst2[i] = p\n",
    "\treturn lst2\n",
    "\n",
    "primes = prime_table(123456*2)\n",
    "while 1:\n",
    "\tn = int(input())\n",
    "\tif n == 0:\n",
    "\t\tbreak\n",
    "\tprint(primes[n * 2] - primes[n])"
   ]
  },
  {
   "cell_type": "code",
   "execution_count": null,
   "metadata": {},
   "outputs": [],
   "source": [
    "import sys\n",
    "data_temp = sys.stdin if sys.platform == 'linux' else open('입력.txt', 'r')\n",
    "input_data = data_temp.read().splitlines()\n",
    "\n",
    "def solution (data) :\n",
    "  data.pop()\n",
    "  table = makingTable()\n",
    "  result = list(map(lambda x : countPrimes(table,int(x)), data))\n",
    "  print('\\n'.join(result))\n",
    "\n",
    "# 에리스토테네스의 체\n",
    "def makingTable () :\n",
    "  n = 123456 * 2 + 1\n",
    "  table = [True] * n\n",
    "  table[0] = table[1] = False\n",
    "  \n",
    "  i = 2\n",
    "  while (i**2 <= n) :\n",
    "    if table[i] :\n",
    "      for j in range(i**2, n, i) :\n",
    "        table[j] = False\n",
    "    i += 1\n",
    "  return table\n",
    "  \n",
    "def countPrimes (table,n) :\n",
    "  return str(table[n+1:2*n+1].count(True))\n",
    "\n",
    "solution(input_data)"
   ]
  },
  {
   "cell_type": "code",
   "execution_count": 3,
   "metadata": {},
   "outputs": [
    {
     "name": "stdout",
     "output_type": "stream",
     "text": [
      "5\n",
      "deque([2, 3, 4])\n"
     ]
    }
   ],
   "source": [
    "from collections import deque\n",
    "queue = deque([1,2,3,4,5])\n",
    "element = queue.popleft()\n",
    "print(queue.pop())\n",
    "print(queue)"
   ]
  },
  {
   "cell_type": "code",
   "execution_count": 1,
   "metadata": {},
   "outputs": [
    {
     "name": "stdout",
     "output_type": "stream",
     "text": [
      "-1\n"
     ]
    }
   ],
   "source": [
    "aq = 4%(-5)\n",
    "print(aq)"
   ]
  },
  {
   "cell_type": "code",
   "execution_count": 4,
   "metadata": {},
   "outputs": [
    {
     "name": "stdout",
     "output_type": "stream",
     "text": [
      "1\n"
     ]
    }
   ],
   "source": [
    "qq = -2\n",
    "print(abs(qq)-1)"
   ]
  },
  {
   "cell_type": "code",
   "execution_count": 2,
   "metadata": {},
   "outputs": [
    {
     "name": "stdout",
     "output_type": "stream",
     "text": [
      "9\n"
     ]
    }
   ],
   "source": [
    "n = 3\n",
    "print(n**2)"
   ]
  },
  {
   "cell_type": "code",
   "execution_count": 12,
   "metadata": {},
   "outputs": [
    {
     "name": "stdout",
     "output_type": "stream",
     "text": [
      "Case_#{i}: {su1m}\n"
     ]
    }
   ],
   "source": [
    "T = int(input())\n",
    "for i in range(1, T+1):\n",
    "    a,b = map(int, input().split())\n",
    "    hap = a + b\n",
    "    print(\"Case_#{}: {}\", format())"
   ]
  },
  {
   "cell_type": "code",
   "execution_count": 22,
   "metadata": {},
   "outputs": [
    {
     "ename": "TypeError",
     "evalue": "'int' object is not callable",
     "output_type": "error",
     "traceback": [
      "\u001b[1;31m---------------------------------------------------------------------------\u001b[0m",
      "\u001b[1;31mTypeError\u001b[0m                                 Traceback (most recent call last)",
      "Cell \u001b[1;32mIn[22], line 1\u001b[0m\n\u001b[1;32m----> 1\u001b[0m result1 \u001b[38;5;241m=\u001b[39m \u001b[38;5;28;43msum\u001b[39;49m\u001b[43m(\u001b[49m\u001b[43m[\u001b[49m\u001b[38;5;241;43m1\u001b[39;49m\u001b[43m,\u001b[49m\u001b[43m \u001b[49m\u001b[38;5;241;43m2\u001b[39;49m\u001b[43m,\u001b[49m\u001b[43m \u001b[49m\u001b[38;5;241;43m3\u001b[39;49m\u001b[43m,\u001b[49m\u001b[43m \u001b[49m\u001b[38;5;241;43m4\u001b[39;49m\u001b[43m,\u001b[49m\u001b[43m \u001b[49m\u001b[38;5;241;43m5\u001b[39;49m\u001b[43m,\u001b[49m\u001b[43m \u001b[49m\u001b[38;5;241;43m6\u001b[39;49m\u001b[43m,\u001b[49m\u001b[43m \u001b[49m\u001b[38;5;241;43m7\u001b[39;49m\u001b[43m,\u001b[49m\u001b[43m \u001b[49m\u001b[38;5;241;43m8\u001b[39;49m\u001b[43m,\u001b[49m\u001b[43m \u001b[49m\u001b[38;5;241;43m9\u001b[39;49m\u001b[43m,\u001b[49m\u001b[43m \u001b[49m\u001b[38;5;241;43m10\u001b[39;49m\u001b[43m]\u001b[49m\u001b[43m)\u001b[49m\n\u001b[0;32m      3\u001b[0m \u001b[38;5;28mprint\u001b[39m(result1)  \u001b[38;5;66;03m# 출력 : 55\u001b[39;00m\n",
      "\u001b[1;31mTypeError\u001b[0m: 'int' object is not callable"
     ]
    }
   ],
   "source": [
    "result1 = sum([1, 2, 3, 4, 5, 6, 7, 8, 9, 10])\n",
    "\n",
    "print(result1)  # 출력 : 55"
   ]
  },
  {
   "cell_type": "code",
   "execution_count": 4,
   "metadata": {},
   "outputs": [
    {
     "name": "stdout",
     "output_type": "stream",
     "text": [
      "93326215443944152681699238856266700490715968264381621468592963895217599993229915608941463976156518286253697920827223758251185210916864000000000000000000000000\n"
     ]
    }
   ],
   "source": [
    "n = int(input())\n",
    "\n",
    "def fact(n):\n",
    "    if n <= 1:\n",
    "        ans = 1\n",
    "    else:\n",
    "        ans = fact(n-1) * n\n",
    "     \n",
    "    return ans\n",
    "\n",
    "print(fact(n))"
   ]
  },
  {
   "cell_type": "code",
   "execution_count": 3,
   "metadata": {},
   "outputs": [
    {
     "name": "stdout",
     "output_type": "stream",
     "text": [
      "1 2\n",
      "[(1, 2)]\n"
     ]
    }
   ],
   "source": [
    "n = int(input())\n",
    "graph = []\n",
    "for _ in range(n):\n",
    "    a,b = map(int, input().split())\n",
    "    graph.append((a,b))\n",
    "print(graph)"
   ]
  },
  {
   "cell_type": "code",
   "execution_count": 7,
   "metadata": {},
   "outputs": [
    {
     "name": "stdout",
     "output_type": "stream",
     "text": [
      "['S', 'S', 'S', 'S', 'L', 'L']\n"
     ]
    }
   ],
   "source": [
    "data = 'SSSSLL'\n",
    "newData = [i for i in data]\n",
    "print(newData)"
   ]
  },
  {
   "cell_type": "code",
   "execution_count": 7,
   "metadata": {},
   "outputs": [
    {
     "name": "stdout",
     "output_type": "stream",
     "text": [
      "[3, 4, 5, 6, 7, 1, 2]\n"
     ]
    }
   ],
   "source": [
    "queue = [1,2,3,4,5,6,7]\n",
    "n = 3\n",
    "result = []\n",
    "# 3번부터 큐에서 순서대로 제거\n",
    "while len(queue) != 0:\n",
    "    move = (n-1) % len(queue)\n",
    "    result.append(queue.pop(move))\n",
    "\n",
    "print(result)\n",
    "\n"
   ]
  },
  {
   "cell_type": "code",
   "execution_count": 19,
   "metadata": {},
   "outputs": [
    {
     "name": "stdout",
     "output_type": "stream",
     "text": [
      "<3, 6, 2, 7, 5, 1, 4>\n"
     ]
    }
   ],
   "source": [
    "n,k = map(int, input().split())\n",
    "queue = [(i+1) for i in range(n)]\n",
    "result = []\n",
    "move = 0\n",
    "while len(queue) != 0:\n",
    "    move += k-1\n",
    "    move = move % len(queue)\n",
    "    result.append(queue.pop(move))\n",
    "\n",
    "print(\"<\", end='')\n",
    "for i in result:\n",
    "    if i != result[-1]:\n",
    "        print(\"%d, \"%i, end='')\n",
    "    else:\n",
    "        print(\"%d\"%i,end='')\n",
    "print(\">\")"
   ]
  },
  {
   "cell_type": "code",
   "execution_count": 22,
   "metadata": {},
   "outputs": [
    {
     "name": "stdout",
     "output_type": "stream",
     "text": [
      "deque([10, 11])\n",
      "10\n"
     ]
    }
   ],
   "source": [
    "queue = deque()\n",
    "queue.append(10)\n",
    "queue.append(11)\n",
    "print(queue)\n",
    "print(queue.appendleft())\n"
   ]
  },
  {
   "cell_type": "code",
   "execution_count": 26,
   "metadata": {},
   "outputs": [
    {
     "name": "stdout",
     "output_type": "stream",
     "text": [
      "0\n"
     ]
    }
   ],
   "source": [
    "n = 0\n",
    "for i in range(1):\n",
    "    print(i)"
   ]
  },
  {
   "cell_type": "code",
   "execution_count": 29,
   "metadata": {},
   "outputs": [
    {
     "name": "stdout",
     "output_type": "stream",
     "text": [
      "!!\n"
     ]
    }
   ],
   "source": [
    "i = 2\n",
    "\n",
    "if i % 2 == 0:\n",
    "    print(\"!!\")"
   ]
  },
  {
   "cell_type": "code",
   "execution_count": 6,
   "metadata": {},
   "outputs": [
    {
     "name": "stdout",
     "output_type": "stream",
     "text": [
      "Isosceles\n"
     ]
    }
   ],
   "source": [
    "a = int(input())\n",
    "b = int(input())\n",
    "c = int(input())\n",
    "\n",
    "if a == b == c == 60:\n",
    "    print(\"Equilateral\")\n",
    "elif (a + b + c) == 180:\n",
    "    if a == b or b == c or c == a:\n",
    "        print(\"Isosceles\")\n",
    "    else:\n",
    "        print(\"Scalene\")\n",
    "else:\n",
    "    print(\"Error\")"
   ]
  },
  {
   "cell_type": "code",
   "execution_count": 1,
   "metadata": {},
   "outputs": [
    {
     "name": "stdout",
     "output_type": "stream",
     "text": [
      "[1, 2, 99, 99, 99, 5]\n"
     ]
    }
   ],
   "source": [
    "arr = [1,2,3,4,5]\n",
    "arr2 = [99,99,99]\n",
    "arr[2:4] = arr2\n",
    "print(arr)"
   ]
  },
  {
   "cell_type": "code",
   "execution_count": 14,
   "metadata": {},
   "outputs": [
    {
     "name": "stdout",
     "output_type": "stream",
     "text": [
      "Equilateral\n",
      "Scalene\n",
      "Invalid\n",
      "Scalene\n"
     ]
    }
   ],
   "source": [
    "while True:\n",
    "    a,b,c = map(int, input().split())\n",
    "    if a==0 and b==0 and c==0:\n",
    "        break\n",
    "    if ((a+b+c) - max(a,b,c)) <= max(a,b,c):\n",
    "        print(\"Invalid\")\n",
    "    elif a == b ==c:\n",
    "        print(\"Equilateral\")\n",
    "    elif a == b or b == c or c == a:\n",
    "        print(\"Isosceles\")\n",
    "    else:\n",
    "        print(\"Scalene\")\n"
   ]
  },
  {
   "cell_type": "code",
   "execution_count": 19,
   "metadata": {},
   "outputs": [
    {
     "name": "stdout",
     "output_type": "stream",
     "text": [
      "113\n"
     ]
    }
   ],
   "source": [
    "arr = list(map(int, input().split()))\n",
    "arr.sort()\n",
    "if arr[2] >= (arr[0] + arr[1]):\n",
    "    print((arr[0] + arr[1])*2 -1)\n",
    "else:\n",
    "    print(sum(arr))"
   ]
  },
  {
   "cell_type": "code",
   "execution_count": 1,
   "metadata": {},
   "outputs": [
    {
     "name": "stdout",
     "output_type": "stream",
     "text": [
      "-1\n",
      "1\n",
      "2\n"
     ]
    }
   ],
   "source": [
    "for i in [-1, 1, 2]:\n",
    "    print(i)"
   ]
  },
  {
   "cell_type": "code",
   "execution_count": 8,
   "metadata": {},
   "outputs": [
    {
     "name": "stdout",
     "output_type": "stream",
     "text": [
      "prac 값은 2이고 aa값은입니다.\n"
     ]
    }
   ],
   "source": [
    "prac = 1\n",
    "aa = 2\n",
    "print(\"prac 값은 %d이고 aa값은입니다.\" %aa)"
   ]
  },
  {
   "cell_type": "code",
   "execution_count": 11,
   "metadata": {},
   "outputs": [
    {
     "ename": "TypeError",
     "evalue": "argument of type 'int' is not iterable",
     "output_type": "error",
     "traceback": [
      "\u001b[1;31m---------------------------------------------------------------------------\u001b[0m",
      "\u001b[1;31mTypeError\u001b[0m                                 Traceback (most recent call last)",
      "Cell \u001b[1;32mIn[11], line 2\u001b[0m\n\u001b[0;32m      1\u001b[0m array \u001b[38;5;241m=\u001b[39m [[(\u001b[38;5;241m1\u001b[39m,\u001b[38;5;241m2\u001b[39m), (\u001b[38;5;241m2\u001b[39m,\u001b[38;5;241m3\u001b[39m), (\u001b[38;5;241m3\u001b[39m,\u001b[38;5;241m4\u001b[39m)], [(\u001b[38;5;241m1\u001b[39m,\u001b[38;5;241m1\u001b[39m),(\u001b[38;5;241m2\u001b[39m,\u001b[38;5;241m2\u001b[39m),(\u001b[38;5;241m3\u001b[39m,\u001b[38;5;241m3\u001b[39m)]]\n\u001b[1;32m----> 2\u001b[0m \u001b[38;5;28;01mif\u001b[39;00m \u001b[43marray\u001b[49m\u001b[43m[\u001b[49m\u001b[38;5;241;43m0\u001b[39;49m\u001b[43m]\u001b[49m\u001b[43m \u001b[49m\u001b[38;5;129;43;01min\u001b[39;49;00m\u001b[43m \u001b[49m\u001b[38;5;241;43m5\u001b[39;49m:\n\u001b[0;32m      3\u001b[0m     \u001b[38;5;28mprint\u001b[39m(\u001b[38;5;124m\"\u001b[39m\u001b[38;5;124m!!\u001b[39m\u001b[38;5;124m\"\u001b[39m)\n",
      "\u001b[1;31mTypeError\u001b[0m: argument of type 'int' is not iterable"
     ]
    }
   ],
   "source": [
    "array = [[(1,2), (2,3), (3,4)], [(1,1),(2,2),(3,3)]]\n",
    "if array[0] in 5:\n",
    "    print(\"!!\")"
   ]
  },
  {
   "cell_type": "code",
   "execution_count": 17,
   "metadata": {},
   "outputs": [
    {
     "name": "stdout",
     "output_type": "stream",
     "text": [
      "[1, [False]]\n"
     ]
    }
   ],
   "source": [
    "graph = [[False], [False]]\n",
    "graph[0] = 1\n",
    "print(graph)"
   ]
  },
  {
   "cell_type": "code",
   "execution_count": 3,
   "metadata": {},
   "outputs": [
    {
     "data": {
      "text/plain": [
       "{4, 5, 6, 7}"
      ]
     },
     "execution_count": 3,
     "metadata": {},
     "output_type": "execute_result"
    }
   ],
   "source": [
    "count = [(0,4),(0,5),(0,6),(1,5),(1,6),(2,6),(2,7)]\n",
    "set(y for x,y in count)"
   ]
  },
  {
   "cell_type": "code",
   "execution_count": 12,
   "metadata": {},
   "outputs": [
    {
     "name": "stdout",
     "output_type": "stream",
     "text": [
      "1\n"
     ]
    }
   ],
   "source": [
    "cnt = [1,2,3]\n",
    "print(cnt[0])"
   ]
  },
  {
   "cell_type": "code",
   "execution_count": 1,
   "metadata": {},
   "outputs": [
    {
     "name": "stdout",
     "output_type": "stream",
     "text": [
      "(\n",
      ")\n",
      "(\n",
      ")\n"
     ]
    }
   ],
   "source": [
    "s = \"()()\"\n",
    "for i in s:\n",
    "    print(i)"
   ]
  },
  {
   "cell_type": "code",
   "execution_count": 9,
   "metadata": {},
   "outputs": [
    {
     "name": "stdout",
     "output_type": "stream",
     "text": [
      "['1', '2', '3', '4', '-1', '-2', '-3', '-4']\n",
      "-1 4\n"
     ]
    }
   ],
   "source": [
    "s = \"1 2 3 4 -1 -2 -3 -4\"\n",
    "res = s.split(\" \")\n",
    "print(res)\n",
    "print(min(res) + \" \" + max(res))"
   ]
  },
  {
   "cell_type": "code",
   "execution_count": 18,
   "metadata": {},
   "outputs": [
    {
     "name": "stdout",
     "output_type": "stream",
     "text": [
      "12 a\n"
     ]
    }
   ],
   "source": [
    "s = [\"1\", \"2\", \" \", \"a\"]\n",
    "s = \"\".join(s)\n",
    "print(s)"
   ]
  },
  {
   "cell_type": "code",
   "execution_count": 4,
   "metadata": {},
   "outputs": [
    {
     "ename": "IndexError",
     "evalue": "list index out of range",
     "output_type": "error",
     "traceback": [
      "\u001b[1;31m---------------------------------------------------------------------------\u001b[0m",
      "\u001b[1;31mIndexError\u001b[0m                                Traceback (most recent call last)",
      "Cell \u001b[1;32mIn[4], line 4\u001b[0m\n\u001b[0;32m      2\u001b[0m res \u001b[38;5;241m=\u001b[39m \u001b[38;5;28mlist\u001b[39m(\u001b[38;5;28mmap\u001b[39m(\u001b[38;5;28mint\u001b[39m, \u001b[38;5;28minput\u001b[39m()\u001b[38;5;241m.\u001b[39msplit()))\n\u001b[0;32m      3\u001b[0m \u001b[38;5;28;01mfor\u001b[39;00m j \u001b[38;5;129;01min\u001b[39;00m \u001b[38;5;28mrange\u001b[39m(\u001b[38;5;241m3\u001b[39m):\n\u001b[1;32m----> 4\u001b[0m     \u001b[38;5;28mprint\u001b[39m(i, j, \u001b[43mres\u001b[49m\u001b[43m[\u001b[49m\u001b[43mj\u001b[49m\u001b[43m]\u001b[49m)\n",
      "\u001b[1;31mIndexError\u001b[0m: list index out of range"
     ]
    }
   ],
   "source": [
    "for i in range(3):\n",
    "    res = list(map(int, input().split()))\n",
    "    for j in range(3):\n",
    "        print(i, j, res[j])"
   ]
  },
  {
   "cell_type": "code",
   "execution_count": 6,
   "metadata": {},
   "outputs": [
    {
     "name": "stdout",
     "output_type": "stream",
     "text": [
      "없음\n",
      "잇음\n",
      "잇음\n",
      "없음\n"
     ]
    }
   ],
   "source": [
    "arr = [0,1,1,0]\n",
    "for i in arr:\n",
    "    if not i:\n",
    "        print(\"없음\")\n",
    "    else:\n",
    "        print(\"잇음\")"
   ]
  },
  {
   "cell_type": "code",
   "execution_count": 1,
   "metadata": {},
   "outputs": [
    {
     "name": "stdout",
     "output_type": "stream",
     "text": [
      "[0, 0, 0]\n",
      "[0, 0, 0]\n"
     ]
    }
   ],
   "source": [
    "n = 3\n",
    "check = [0 for _ in range(n)]\n",
    "visited = [0] * n\n",
    "print(check)\n",
    "print(visited)"
   ]
  },
  {
   "cell_type": "code",
   "execution_count": 22,
   "metadata": {},
   "outputs": [
    {
     "name": "stdout",
     "output_type": "stream",
     "text": [
      "[[1, 3], [1, 2], [3, 2], [1, 3], [2, 1], [2, 3], [1, 3]]\n"
     ]
    }
   ],
   "source": [
    "def hanoi(num, fro, to, other):\n",
    "    # num : 원반의 수\n",
    "    # from : 원반들이 위치한 곳의 번호\n",
    "    # to : 원반들을 옮길 목적지 번호\n",
    "    # other : 나머지 한 곳(목적지가 아닌)곳 번호\n",
    "    \n",
    "    if num == 0:\n",
    "        return\n",
    "    hanoi(num -1, fro, other, to)\n",
    "    result.append([fro,to])\n",
    "    hanoi(num -1, other, to, fro)\n",
    "result = []\n",
    "hanoi(3,1,3,2)\n",
    "print(result)"
   ]
  }
 ],
 "metadata": {
  "kernelspec": {
   "display_name": "Python 3",
   "language": "python",
   "name": "python3"
  },
  "language_info": {
   "codemirror_mode": {
    "name": "ipython",
    "version": 3
   },
   "file_extension": ".py",
   "mimetype": "text/x-python",
   "name": "python",
   "nbconvert_exporter": "python",
   "pygments_lexer": "ipython3",
   "version": "3.11.4"
  }
 },
 "nbformat": 4,
 "nbformat_minor": 2
}
