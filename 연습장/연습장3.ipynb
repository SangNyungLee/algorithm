{
 "cells": [
  {
   "cell_type": "code",
   "execution_count": 11,
   "metadata": {},
   "outputs": [
    {
     "name": "stdout",
     "output_type": "stream",
     "text": [
      "True\n"
     ]
    }
   ],
   "source": [
    "def prac1(arr):\n",
    "    if len(set(arr)) != len(arr):\n",
    "        return False\n",
    "    else:\n",
    "        for i in range(len(arr)):\n",
    "            if arr[i] != i+1:\n",
    "                return False\n",
    "        return True\n",
    "\n",
    "arr = [4,1,2,3]\n",
    "arr.sort()\n",
    "\n",
    "print(prac1(arr))\n",
    "\n"
   ]
  },
  {
   "cell_type": "code",
   "execution_count": 3,
   "metadata": {},
   "outputs": [
    {
     "name": "stdout",
     "output_type": "stream",
     "text": [
      "deque([3, 7, 1, 4])\n",
      "deque([4, 1, 7, 3])\n"
     ]
    }
   ],
   "source": [
    "from collections import deque\n",
    "\n",
    "queue = deque()\n",
    "\n",
    "queue.append(5)\n",
    "queue.append(2)\n",
    "queue.append(3)\n",
    "queue.append(7)\n",
    "queue.popleft()\n",
    "queue.append(1)\n",
    "queue.append(4)\n",
    "queue.popleft()\n",
    "\n",
    "print(queue)\n",
    "queue.reverse()\n",
    "print(queue)"
   ]
  },
  {
   "cell_type": "code",
   "execution_count": 9,
   "metadata": {},
   "outputs": [
    {
     "name": "stdout",
     "output_type": "stream",
     "text": [
      "120\n"
     ]
    }
   ],
   "source": [
    "def factorial(i):\n",
    "    if i <= 1:\n",
    "        return 1\n",
    "    return i * factorial(i - 1)\n",
    "print(factorial(5))"
   ]
  },
  {
   "cell_type": "code",
   "execution_count": 13,
   "metadata": {},
   "outputs": [
    {
     "name": "stdout",
     "output_type": "stream",
     "text": [
      "6\n"
     ]
    }
   ],
   "source": [
    "def uclid(a,b):\n",
    "    if a%b ==0:\n",
    "        return b\n",
    "    else:\n",
    "        return uclid(b, a%b)\n",
    "print(uclid(192, 162))"
   ]
  },
  {
   "cell_type": "code",
   "execution_count": 26,
   "metadata": {},
   "outputs": [
    {
     "name": "stdout",
     "output_type": "stream",
     "text": [
      "1 2 3 8 7 4 5 6 "
     ]
    }
   ],
   "source": [
    "# DFS(Depth First Search)\n",
    "def dfs(graph, v, visited):\n",
    "    #현재 노드 방문처리\n",
    "    visited[v] = True\n",
    "    print(\"v:\", v)\n",
    "    #현재 노드와 연결된 다른 노드를 재귀적으로 방문\n",
    "    for i in graph[v]:\n",
    "        print(\"i는?\", i)\n",
    "        if not visited[i]:\n",
    "            print(\"방문안함:\",i)\n",
    "            print(\"dfs(\", \"graph:\", graph,\"i:\", i,\"visited:\", visited,\")\")\n",
    "            dfs(graph, i, visited)\n",
    "        else:\n",
    "            print(\"방문함\", i)\n",
    "\n",
    "#BFS(Breath First Search)\n",
    "def bfs(graph, start, visited):\n",
    "    # 큐(queue) 구현을 위해 deque 라이브러리 사용\n",
    "    queue = deque([start])\n",
    "    # 현재 노드를 방문 처리\n",
    "    visited[start] = True\n",
    "    # 큐가 빌 때까지 반복\n",
    "    while queue:\n",
    "        # 큐에서 하나의 원소를 뽑아 출력\n",
    "        v = queue.popleft()\n",
    "        print(v, end=' ')\n",
    "        # 해당 원소와 연결된, 아직 방문하지 않은 원소들을 큐에 삽입\n",
    "        for i in graph[v]:\n",
    "            if not visited[i]:\n",
    "                queue.append(i)\n",
    "                visited[i] = True\n",
    "\n",
    "graph = [[],[2,3,8],[1,7],[1,4,5],[3,5],[3,4],[7],[2,6,8],[1,7]]\n",
    "\n",
    "visited = [False] * 9\n",
    "\n",
    "# 정의된 dfs 함수 호출\n",
    "# dfs(graph, 1, visited)\n",
    "\n",
    "bfs(graph, 1, visited)\n"
   ]
  }
 ],
 "metadata": {
  "kernelspec": {
   "display_name": "Python 3",
   "language": "python",
   "name": "python3"
  },
  "language_info": {
   "codemirror_mode": {
    "name": "ipython",
    "version": 3
   },
   "file_extension": ".py",
   "mimetype": "text/x-python",
   "name": "python",
   "nbconvert_exporter": "python",
   "pygments_lexer": "ipython3",
   "version": "3.11.4"
  }
 },
 "nbformat": 4,
 "nbformat_minor": 2
}
