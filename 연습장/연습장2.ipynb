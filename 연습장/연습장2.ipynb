{
 "cells": [
  {
   "cell_type": "code",
   "execution_count": 8,
   "metadata": {},
   "outputs": [
    {
     "name": "stdout",
     "output_type": "stream",
     "text": [
      "3\n",
      "5\n",
      "7\n",
      "11\n",
      "13\n",
      "[False, False, True, True, False, True, False, True, False, False, False, True, False, True, False, False, False]\n"
     ]
    }
   ],
   "source": [
    "while True:\n",
    "    a = input()\n",
    "    big = 0\n",
    "    middle = 0\n",
    "    stack = []\n",
    "    if a == \".\":\n",
    "        break\n",
    "    for i in a:\n",
    "        if i == \"(\":\n",
    "            stack.append(i)\n",
    "            middle +=1\n",
    "        elif i == \")\":\n",
    "            if len(stack) > 1:\n",
    "                if stack[-1] == \"[\":            \n",
    "                    break\n",
    "            stack.append(i)\n",
    "            middle -=1\n",
    "        if i == \"[\":\n",
    "            stack.append(i)\n",
    "            big +=1\n",
    "        elif i == \"]\":\n",
    "            if len(stack) > 1:\n",
    "                if stack[-1] == \"(\":\n",
    "                    break\n",
    "            stack.append(i)\n",
    "            big -=1\n",
    "\n",
    "        if big == -1 or middle == -1:\n",
    "            break\n",
    "    if big ==0 and middle == 0:\n",
    "        print(\"yes\")\n",
    "    else:\n",
    "        print(\"no\")"
   ]
  }
 ],
 "metadata": {
  "kernelspec": {
   "display_name": "Python 3",
   "language": "python",
   "name": "python3"
  },
  "language_info": {
   "codemirror_mode": {
    "name": "ipython",
    "version": 3
   },
   "file_extension": ".py",
   "mimetype": "text/x-python",
   "name": "python",
   "nbconvert_exporter": "python",
   "pygments_lexer": "ipython3",
   "version": "3.11.4"
  }
 },
 "nbformat": 4,
 "nbformat_minor": 2
}
