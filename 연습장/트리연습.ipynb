{
 "cells": [
  {
   "cell_type": "code",
   "execution_count": 31,
   "metadata": {},
   "outputs": [
    {
     "name": "stdout",
     "output_type": "stream",
     "text": [
      "1 2 4 3 \n",
      "1 2 3 4 1 "
     ]
    }
   ],
   "source": [
    "from collections import deque\n",
    "\n",
    "def dfs(idx):\n",
    "    visited[idx] = True\n",
    "    print(idx, end=' ')\n",
    "    for i in range(N + 1):\n",
    "        if not visited[i] and graph[idx][i]:\n",
    "            dfs(i)\n",
    "\n",
    "def bfs():\n",
    "    while q:\n",
    "        cur = q.popleft()\n",
    "        print(cur, end=' ')\n",
    "        for i in range(N + 1):\n",
    "            if not visited[i] and graph[cur][i]:\n",
    "                visited[i] = True\n",
    "                q.append(i)\n",
    "N,M,V = list(map(int, input().split()))\n",
    "graph = [[False] * (N + 1) for _ in range(N + 1)]\n",
    "visited = [False] * (N + 1)\n",
    "\n",
    "for _ in range(M):\n",
    "    a,b = map(int, input().split())\n",
    "    graph[a][b] = True\n",
    "    graph[b][a] = True\n",
    "\n",
    "dfs(V)\n",
    "print()\n",
    "\n",
    "visited = [False] * (N + 1)\n",
    "q = deque([V])\n",
    "visited[V] = True\n",
    "bfs()"
   ]
  }
 ],
 "metadata": {
  "kernelspec": {
   "display_name": "Python 3",
   "language": "python",
   "name": "python3"
  },
  "language_info": {
   "codemirror_mode": {
    "name": "ipython",
    "version": 3
   },
   "file_extension": ".py",
   "mimetype": "text/x-python",
   "name": "python",
   "nbconvert_exporter": "python",
   "pygments_lexer": "ipython3",
   "version": "3.11.4"
  }
 },
 "nbformat": 4,
 "nbformat_minor": 2
}
