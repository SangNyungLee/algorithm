{
 "cells": [
  {
   "cell_type": "code",
   "execution_count": 31,
   "metadata": {},
   "outputs": [
    {
     "name": "stdout",
     "output_type": "stream",
     "text": [
      "7\n",
      "8\n",
      "9\n"
     ]
    }
   ],
   "source": [
    "# from collections import deque\n",
    "\n",
    "# dx = [-1, 1, 0, 0]\n",
    "# dy = [0, 0, -1, 1]\n",
    "\n",
    "# def bfs(graph, x, y):\n",
    "#     n = len(graph)\n",
    "#     queue = deque()\n",
    "#     queue.append((x,y))\n",
    "#     graph[x][y] = 0\n",
    "#     count = 1\n",
    "#     while queue:\n",
    "#         x,y = queue.popleft()\n",
    "#         for i in range(4):\n",
    "#             nx = x + dx[i]\n",
    "#             ny = y + dy[i]\n",
    "#             if nx < 0 or ny < 0 or nx >= n or ny >= n:\n",
    "#                 continue\n",
    "#             if graph[nx][ny] == 1:\n",
    "#                 graph[nx][ny] = 0\n",
    "#                 queue.append((nx,ny))\n",
    "#                 count += 1\n",
    "#     return count\n",
    "\n",
    "# # 지도의 크기\n",
    "# N = int(input())\n",
    "# graph = []\n",
    "# for _ in range(N):\n",
    "#     graph.append(list(map(int, input())))\n",
    "\n",
    "# #BFS\n",
    "# for i in range(N):\n",
    "#     for j in range(N):\n",
    "#         if graph[i][j] == 1:\n",
    "#             print(bfs(graph,i,j))"
   ]
  },
  {
   "cell_type": "code",
   "execution_count": 71,
   "metadata": {},
   "outputs": [
    {
     "name": "stdout",
     "output_type": "stream",
     "text": [
      "5\n"
     ]
    }
   ],
   "source": [
    "from collections import deque\n",
    "\n",
    "T = int(input())\n",
    "for i in range(T):\n",
    "    # M : 가로길이, N : 세로길이, K : 배추가 심어져있는 위치의 개수\n",
    "    M, N, K = list(map(int, input().split()))\n",
    "    graph = [[0] * (N) for _ in range(M)]\n",
    "\n",
    "    for i in range(K):\n",
    "        a, b = map(int, input().split())\n",
    "        graph[a][b] = 1\n",
    "    dx = [-1, 1, 0, 0]\n",
    "    dy = [0, 0, -1, 1]\n",
    "\n",
    "    def bfs(x,y):\n",
    "        queue = deque()\n",
    "        queue.append((x,y))\n",
    "        while queue:\n",
    "            x,y = queue.popleft()\n",
    "            for i in range(4):\n",
    "                nx = x + dx[i]\n",
    "                ny = y + dy[i]\n",
    "                if nx < 0 or ny < 0 or nx >= M or ny >= N:\n",
    "                    continue\n",
    "                if graph[nx][ny] == 1:\n",
    "                    graph[nx][ny] = 0\n",
    "                    queue.append((nx,ny))\n",
    "        return 1\n",
    "    count = 0\n",
    "    for i in range(M):\n",
    "        for j in range(N):\n",
    "            if graph[i][j] == 1:\n",
    "                count += bfs(i,j)\n",
    "    print(count)"
   ]
  },
  {
   "cell_type": "code",
   "execution_count": 9,
   "metadata": {},
   "outputs": [
    {
     "name": "stdout",
     "output_type": "stream",
     "text": [
      "3\n"
     ]
    }
   ],
   "source": [
    "from collections import deque\n",
    "\n",
    "def bfs(x, y):\n",
    "    queue = deque()\n",
    "    queue.append((x,y))\n",
    "    while queue:\n",
    "        x,y = queue.popleft()\n",
    "        for i in range(4):\n",
    "            nx = x + dx[i]\n",
    "            ny = y + dy[i]\n",
    "            if nx < 0 or ny < 0 or nx >= M or ny >= N:\n",
    "                continue\n",
    "            if graph[nx][ny] == 1:\n",
    "                graph[nx][ny] = 0\n",
    "                queue.append((nx,ny))\n",
    "    return 1\n",
    "T = int(input())\n",
    "M, N, K = map(int, input().split())\n",
    "graph = [[0] * (N) for _ in range(M)]\n",
    "count = 0\n",
    "dx = [-1, 1, 0, 0]\n",
    "dy = [0, 0, -1, 1]\n",
    "\n",
    "for i in range(K):\n",
    "    a, b = map(int, input().split())\n",
    "    graph[a][b] = 1\n",
    "\n",
    "for i in range(M):\n",
    "    for j in range(N):\n",
    "        if graph[i][j] == 1:\n",
    "            count += bfs(i, j)\n",
    "\n",
    "print(count)"
   ]
  },
  {
   "cell_type": "code",
   "execution_count": 24,
   "metadata": {},
   "outputs": [
    {
     "name": "stdout",
     "output_type": "stream",
     "text": [
      "5\n",
      "1\n"
     ]
    }
   ],
   "source": [
    "#\n",
    "T = int(input())\n",
    "for _ in range(T):\n",
    "    M, N, K = map(int, input().split())\n",
    "    graph = [[0] * (N) for _ in range(M)]\n",
    "    result = 0\n",
    "    dx = [-1, 1, 0, 0]\n",
    "    dy = [0, 0, -1, 1]\n",
    "\n",
    "    def dfs(x,y):\n",
    "        if x < 0 or y < 0 or x >= M or y >= N or graph[x][y] == 0:\n",
    "            return False\n",
    "        graph[x][y] = 0\n",
    "        for i in range(4):\n",
    "            nx = x + dx[i]\n",
    "            ny = y + dy[i]\n",
    "            dfs(nx, ny)\n",
    "        return True\n",
    "\n",
    "    for i in range(K):\n",
    "        a,b = map(int, input().split())\n",
    "        graph[a][b] = 1\n",
    "\n",
    "    for i in range(M):\n",
    "        for j in range(N):\n",
    "            if dfs(i,j):\n",
    "                result += 1\n",
    "    print(result)"
   ]
  }
 ],
 "metadata": {
  "kernelspec": {
   "display_name": "Python 3",
   "language": "python",
   "name": "python3"
  },
  "language_info": {
   "codemirror_mode": {
    "name": "ipython",
    "version": 3
   },
   "file_extension": ".py",
   "mimetype": "text/x-python",
   "name": "python",
   "nbconvert_exporter": "python",
   "pygments_lexer": "ipython3",
   "version": "3.11.4"
  }
 },
 "nbformat": 4,
 "nbformat_minor": 2
}
