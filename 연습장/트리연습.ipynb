{
 "cells": [
  {
   "cell_type": "code",
   "execution_count": 31,
   "metadata": {},
   "outputs": [
    {
     "name": "stdout",
     "output_type": "stream",
     "text": [
      "7\n",
      "8\n",
      "9\n"
     ]
    }
   ],
   "source": [
    "# from collections import deque\n",
    "\n",
    "# dx = [-1, 1, 0, 0]\n",
    "# dy = [0, 0, -1, 1]\n",
    "\n",
    "# def bfs(graph, x, y):\n",
    "#     n = len(graph)\n",
    "#     queue = deque()\n",
    "#     queue.append((x,y))\n",
    "#     graph[x][y] = 0\n",
    "#     count = 1\n",
    "#     while queue:\n",
    "#         x,y = queue.popleft()\n",
    "#         for i in range(4):\n",
    "#             nx = x + dx[i]\n",
    "#             ny = y + dy[i]\n",
    "#             if nx < 0 or ny < 0 or nx >= n or ny >= n:\n",
    "#                 continue\n",
    "#             if graph[nx][ny] == 1:\n",
    "#                 graph[nx][ny] = 0\n",
    "#                 queue.append((nx,ny))\n",
    "#                 count += 1\n",
    "#     return count\n",
    "\n",
    "# # 지도의 크기\n",
    "# N = int(input())\n",
    "# graph = []\n",
    "# for _ in range(N):\n",
    "#     graph.append(list(map(int, input())))\n",
    "\n",
    "# #BFS\n",
    "# for i in range(N):\n",
    "#     for j in range(N):\n",
    "#         if graph[i][j] == 1:\n",
    "#             print(bfs(graph,i,j))"
   ]
  },
  {
   "cell_type": "code",
   "execution_count": 32,
   "metadata": {},
   "outputs": [
    {
     "ename": "IndentationError",
     "evalue": "expected an indented block after 'for' statement on line 8 (212917706.py, line 10)",
     "output_type": "error",
     "traceback": [
      "\u001b[1;36m  Cell \u001b[1;32mIn[32], line 10\u001b[1;36m\u001b[0m\n\u001b[1;33m    graph = []\u001b[0m\n\u001b[1;37m              ^\u001b[0m\n\u001b[1;31mIndentationError\u001b[0m\u001b[1;31m:\u001b[0m expected an indented block after 'for' statement on line 8\n"
     ]
    }
   ],
   "source": []
  },
  {
   "cell_type": "code",
   "execution_count": null,
   "metadata": {},
   "outputs": [],
   "source": []
  }
 ],
 "metadata": {
  "kernelspec": {
   "display_name": "Python 3",
   "language": "python",
   "name": "python3"
  },
  "language_info": {
   "codemirror_mode": {
    "name": "ipython",
    "version": 3
   },
   "file_extension": ".py",
   "mimetype": "text/x-python",
   "name": "python",
   "nbconvert_exporter": "python",
   "pygments_lexer": "ipython3",
   "version": "3.11.4"
  }
 },
 "nbformat": 4,
 "nbformat_minor": 2
}
