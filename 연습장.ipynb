{
 "cells": [
  {
   "cell_type": "code",
   "execution_count": null,
   "metadata": {},
   "outputs": [],
   "source": [
    "import sys\n",
    "input = sys.stdin.readline\n",
    "\n",
    "def prime_table(n):\n",
    "\tlst = [True] * (n + 1)\n",
    "\tlst[0] = False\n",
    "\tlst[1] = False\n",
    "\tlst2 = [0] * (n + 1)\n",
    "\tp = 0\n",
    "\tfor i in range(len(lst)):\n",
    "\t\tif lst[i]:\n",
    "\t\t\tfor j in range(i + i, len(lst), i):\n",
    "\t\t\t\tlst[j] = False\n",
    "\t\t\tp += 1\n",
    "\t\tlst2[i] = p\n",
    "\treturn lst2\n",
    "\n",
    "primes = prime_table(123456*2)\n",
    "while 1:\n",
    "\tn = int(input())\n",
    "\tif n == 0:\n",
    "\t\tbreak\n",
    "\tprint(primes[n * 2] - primes[n])"
   ]
  },
  {
   "cell_type": "code",
   "execution_count": null,
   "metadata": {},
   "outputs": [],
   "source": [
    "import sys\n",
    "data_temp = sys.stdin if sys.platform == 'linux' else open('입력.txt', 'r')\n",
    "input_data = data_temp.read().splitlines()\n",
    "\n",
    "def solution (data) :\n",
    "  data.pop()\n",
    "  table = makingTable()\n",
    "  result = list(map(lambda x : countPrimes(table,int(x)), data))\n",
    "  print('\\n'.join(result))\n",
    "\n",
    "# 에리스토테네스의 체\n",
    "def makingTable () :\n",
    "  n = 123456 * 2 + 1\n",
    "  table = [True] * n\n",
    "  table[0] = table[1] = False\n",
    "  \n",
    "  i = 2\n",
    "  while (i**2 <= n) :\n",
    "    if table[i] :\n",
    "      for j in range(i**2, n, i) :\n",
    "        table[j] = False\n",
    "    i += 1\n",
    "  return table\n",
    "  \n",
    "def countPrimes (table,n) :\n",
    "  return str(table[n+1:2*n+1].count(True))\n",
    "\n",
    "solution(input_data)"
   ]
  }
 ],
 "metadata": {
  "language_info": {
   "name": "python"
  }
 },
 "nbformat": 4,
 "nbformat_minor": 2
}
