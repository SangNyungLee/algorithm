{
 "cells": [
  {
   "cell_type": "code",
   "execution_count": 3,
   "metadata": {},
   "outputs": [
    {
     "name": "stdout",
     "output_type": "stream",
     "text": [
      "abcdefg\n"
     ]
    }
   ],
   "source": [
    "str = 'aBcDeFg'\n",
    "print(str.upper().lower())"
   ]
  },
  {
   "cell_type": "code",
   "execution_count": 16,
   "metadata": {},
   "outputs": [
    {
     "name": "stdout",
     "output_type": "stream",
     "text": [
      "AbCdEfG\n"
     ]
    }
   ],
   "source": [
    "str = 'aBcDeFg'\n",
    "str2 = ''\n",
    "for i in str:\n",
    "    if i.islower():\n",
    "        str2 += i.upper()\n",
    "    elif i.isupper():\n",
    "        str2 += i.lower()\n",
    "print(str2)"
   ]
  },
  {
   "cell_type": "code",
   "execution_count": 8,
   "metadata": {},
   "outputs": [
    {
     "name": "stdout",
     "output_type": "stream",
     "text": [
      "!@#$%^&*(\\'\"<>?:;\n"
     ]
    }
   ],
   "source": [
    "print('!@#$%^&*(\\\\\\'\"<>?:;')"
   ]
  },
  {
   "cell_type": "code",
   "execution_count": 18,
   "metadata": {},
   "outputs": [
    {
     "name": "stdout",
     "output_type": "stream",
     "text": [
      "4 + 5 = 9\n"
     ]
    }
   ],
   "source": [
    "a, b = map(int, input().strip().split(' '))\n",
    "print(a, '+', b, '=', a + b)"
   ]
  },
  {
   "cell_type": "code",
   "execution_count": 19,
   "metadata": {},
   "outputs": [
    {
     "name": "stdout",
     "output_type": "stream",
     "text": [
      "applepen\n"
     ]
    }
   ],
   "source": [
    "str1, str2 = input().strip().split(' ')\n",
    "print(str1 + str2)"
   ]
  },
  {
   "cell_type": "code",
   "execution_count": 25,
   "metadata": {},
   "outputs": [
    {
     "name": "stdout",
     "output_type": "stream",
     "text": [
      "a\n",
      "b\n",
      "c\n",
      "d\n",
      "e\n"
     ]
    }
   ],
   "source": [
    "str = input()\n",
    "for i in str:\n",
    "    print(i)"
   ]
  },
  {
   "cell_type": "code",
   "execution_count": 27,
   "metadata": {},
   "outputs": [
    {
     "name": "stdout",
     "output_type": "stream",
     "text": [
      "101 is odd\n"
     ]
    }
   ],
   "source": [
    "a = int(input())\n",
    "if a %2 == 0:\n",
    "    print(a,\"is even\")\n",
    "elif a % 2 != 0:\n",
    "    print(a, \"is odd\")"
   ]
  },
  {
   "cell_type": "code",
   "execution_count": 49,
   "metadata": {},
   "outputs": [
    {
     "name": "stdout",
     "output_type": "stream",
     "text": [
      "HelloWorld\n"
     ]
    }
   ],
   "source": [
    "my_string = 'He11oWor1d'\n",
    "overwrite_string = 'lloWorl'\n",
    "s = 2\n",
    "mylist = list(my_string)\n",
    "overlist = list(overwrite_string)\n",
    "s2 = len(overlist)\n",
    "mylist[s:s2+s] = overlist\n",
    "str = \"\".join(mylist)\n",
    "print(str)"
   ]
  },
  {
   "cell_type": "code",
   "execution_count": 1,
   "metadata": {},
   "outputs": [
    {
     "name": "stdout",
     "output_type": "stream",
     "text": [
      "ababababab\n"
     ]
    }
   ],
   "source": [
    "str1 = 'aaaaa'\n",
    "str2 = 'bbbbb'\n",
    "str3 = ''\n",
    "\n",
    "list_str = list(str1)\n",
    "s = len(str1)\n",
    "list_str2 = list(str2)\n",
    "for i in range (s):\n",
    "    str3 += list_str[i]+list_str2[i]\n",
    "    \n",
    "print(str3)"
   ]
  },
  {
   "cell_type": "code",
   "execution_count": 4,
   "metadata": {},
   "outputs": [
    {
     "name": "stdout",
     "output_type": "stream",
     "text": [
      "1\n"
     ]
    }
   ],
   "source": [
    "number = 60\n",
    "n = 2\n",
    "m = 3\n",
    "\n",
    "if number %n == 0 and number % m == 0:\n",
    "    result = 1\n",
    "else:\n",
    "    result = 0\n",
    "    \n",
    "print(result)"
   ]
  },
  {
   "cell_type": "code",
   "execution_count": 14,
   "metadata": {},
   "outputs": [
    {
     "name": "stdout",
     "output_type": "stream",
     "text": [
      "0\n"
     ]
    }
   ],
   "source": [
    "n = 9\n",
    "num = 0\n",
    "\n",
    "if n/2 == 1:\n",
    "    for i in range(1, n+1, 2):\n",
    "        num+= i\n",
    "elif n / 2 == 0:\n",
    "    for i in range(0, n+1, 2):\n",
    "        num+= i*i\n",
    "        print(num)\n",
    "print(num)"
   ]
  },
  {
   "cell_type": "code",
   "execution_count": 20,
   "metadata": {},
   "outputs": [
    {
     "ename": "NameError",
     "evalue": "name 'num2' is not defined",
     "output_type": "error",
     "traceback": [
      "\u001b[1;31m---------------------------------------------------------------------------\u001b[0m",
      "\u001b[1;31mNameError\u001b[0m                                 Traceback (most recent call last)",
      "Cell \u001b[1;32mIn[20], line 2\u001b[0m\n\u001b[0;32m      1\u001b[0m \u001b[39mfor\u001b[39;00m i \u001b[39min\u001b[39;00m \u001b[39mrange\u001b[39m(\u001b[39m0\u001b[39m, \u001b[39m10\u001b[39m, \u001b[39m2\u001b[39m):\n\u001b[1;32m----> 2\u001b[0m     num2\u001b[39m+\u001b[39m\u001b[39m=\u001b[39mi\n\u001b[0;32m      3\u001b[0m     \u001b[39mprint\u001b[39m(i)\n\u001b[0;32m      4\u001b[0m     \u001b[39mprint\u001b[39m(num2)\n",
      "\u001b[1;31mNameError\u001b[0m: name 'num2' is not defined"
     ]
    }
   ],
   "source": [
    "for i in range(0, 10, 2):\n",
    "    num2+=i\n",
    "    print(i)\n",
    "    print(num2)"
   ]
  }
 ],
 "metadata": {
  "kernelspec": {
   "display_name": "Python 3",
   "language": "python",
   "name": "python3"
  },
  "language_info": {
   "codemirror_mode": {
    "name": "ipython",
    "version": 3
   },
   "file_extension": ".py",
   "mimetype": "text/x-python",
   "name": "python",
   "nbconvert_exporter": "python",
   "pygments_lexer": "ipython3",
   "version": "3.11.4"
  },
  "orig_nbformat": 4
 },
 "nbformat": 4,
 "nbformat_minor": 2
}
