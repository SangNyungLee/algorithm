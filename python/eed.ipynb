{
 "cells": [
  {
   "cell_type": "code",
   "execution_count": 23,
   "metadata": {},
   "outputs": [],
   "source": [
    "def calculate(power, fuel, time):\n",
    "    if fuel > time:\n",
    "        return  power * fuel * time /2\n",
    "    else:\n",
    "        return (power * fuel * fuel / 2) + power * fuel * (time-fuel)\n",
    "\n",
    "def calculate2(power, fuel, distance):\n",
    "    time = 0\n",
    "    while True:\n",
    "        if distance <= calculate(power, fuel, time):\n",
    "            return time\n",
    "        else:\n",
    "            time += 1\n",
    "\n",
    "def divide(n, m):\n",
    "    result = []\n",
    "\n",
    "    def rec(newN, newM, current_partition):\n",
    "        if newM == 0 and newN == 0:\n",
    "            result.append(list(current_partition))\n",
    "            return\n",
    "\n",
    "        if newM <= 0 or newN <= 0:\n",
    "            return\n",
    "\n",
    "        for i in range(1, newN + 1):\n",
    "            rec(newN - i, newM - 1, current_partition + [i])\n",
    "\n",
    "    rec(n, m, [])\n",
    "    return result\n",
    "\n",
    "def solution(fuel, powers, distances):\n",
    "    answer=[]\n",
    "    n = len(powers)\n",
    "    fuel_list = divide(fuel, n)\n",
    "    for i in fuel_list:\n",
    "        result = []\n",
    "        for j in range(0, n):\n",
    "            result.append(calculate2(powers[j], i[j], distances[j]))\n",
    "        answer.append(max(result))\n",
    "    return min(answer)"
   ]
  },
  {
   "cell_type": "code",
   "execution_count": null,
   "metadata": {},
   "outputs": [],
   "source": []
  }
 ],
 "metadata": {
  "kernelspec": {
   "display_name": "Python 3",
   "language": "python",
   "name": "python3"
  },
  "language_info": {
   "codemirror_mode": {
    "name": "ipython",
    "version": 3
   },
   "file_extension": ".py",
   "mimetype": "text/x-python",
   "name": "python",
   "nbconvert_exporter": "python",
   "pygments_lexer": "ipython3",
   "version": "3.11.4"
  }
 },
 "nbformat": 4,
 "nbformat_minor": 2
}
