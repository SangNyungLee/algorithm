{
 "cells": [
  {
   "cell_type": "code",
   "execution_count": 11,
   "metadata": {},
   "outputs": [
    {
     "ename": "IndexError",
     "evalue": "pop from empty list",
     "output_type": "error",
     "traceback": [
      "\u001b[1;31m---------------------------------------------------------------------------\u001b[0m",
      "\u001b[1;31mIndexError\u001b[0m                                Traceback (most recent call last)",
      "\u001b[1;32mc:\\Users\\SangNyung\\Desktop\\github\\algorithm\\python\\백준\\1305_주유소.ipynb Cell 1\u001b[0m line \u001b[0;36m1\n\u001b[0;32m      <a href='vscode-notebook-cell:/c%3A/Users/SangNyung/Desktop/github/algorithm/python/%EB%B0%B1%EC%A4%80/1305_%EC%A3%BC%EC%9C%A0%EC%86%8C.ipynb#W0sZmlsZQ%3D%3D?line=7'>8</a>\u001b[0m city \u001b[39m=\u001b[39m \u001b[39mlist\u001b[39m(\u001b[39mmap\u001b[39m(\u001b[39mint\u001b[39m, \u001b[39minput\u001b[39m()\u001b[39m.\u001b[39msplit()))\n\u001b[0;32m      <a href='vscode-notebook-cell:/c%3A/Users/SangNyung/Desktop/github/algorithm/python/%EB%B0%B1%EC%A4%80/1305_%EC%A3%BC%EC%9C%A0%EC%86%8C.ipynb#W0sZmlsZQ%3D%3D?line=8'>9</a>\u001b[0m \u001b[39m# city = [1,1,1,1]\u001b[39;00m\n\u001b[1;32m---> <a href='vscode-notebook-cell:/c%3A/Users/SangNyung/Desktop/github/algorithm/python/%EB%B0%B1%EC%A4%80/1305_%EC%A3%BC%EC%9C%A0%EC%86%8C.ipynb#W0sZmlsZQ%3D%3D?line=9'>10</a>\u001b[0m city\u001b[39m.\u001b[39;49mpop()\n\u001b[0;32m     <a href='vscode-notebook-cell:/c%3A/Users/SangNyung/Desktop/github/algorithm/python/%EB%B0%B1%EC%A4%80/1305_%EC%A3%BC%EC%9C%A0%EC%86%8C.ipynb#W0sZmlsZQ%3D%3D?line=11'>12</a>\u001b[0m \u001b[39m# 제일 처음 도시에서 다음 도시로 가는 비용은 필수임\u001b[39;00m\n\u001b[0;32m     <a href='vscode-notebook-cell:/c%3A/Users/SangNyung/Desktop/github/algorithm/python/%EB%B0%B1%EC%A4%80/1305_%EC%A3%BC%EC%9C%A0%EC%86%8C.ipynb#W0sZmlsZQ%3D%3D?line=12'>13</a>\u001b[0m num \u001b[39m=\u001b[39m city[\u001b[39m0\u001b[39m]\n",
      "\u001b[1;31mIndexError\u001b[0m: pop from empty list"
     ]
    }
   ],
   "source": [
    "#도시를 나타내는 정수\n",
    "n = input() \n",
    "# n = 4\n",
    "# 도시를 잇는 다리\n",
    "bridge = list(map(int, input().split()))\n",
    "# bridge = [3,3,4]\n",
    "# 도시\n",
    "city = list(map(int, input().split()))\n",
    "# city = [1,1,1,1]\n",
    "city.pop()\n",
    "\n",
    "# 제일 처음 도시에서 다음 도시로 가는 비용은 필수임\n",
    "num = city[0]\n",
    "gas = 0\n",
    "for idx, ct in enumerate(city):\n",
    "    if(num > ct):\n",
    "        num = ct\n",
    "    gas += num*bridge[idx]\n",
    "print(gas)"
   ]
  },
  {
   "cell_type": "code",
   "execution_count": null,
   "metadata": {},
   "outputs": [],
   "source": []
  }
 ],
 "metadata": {
  "kernelspec": {
   "display_name": "Python 3",
   "language": "python",
   "name": "python3"
  },
  "language_info": {
   "codemirror_mode": {
    "name": "ipython",
    "version": 3
   },
   "file_extension": ".py",
   "mimetype": "text/x-python",
   "name": "python",
   "nbconvert_exporter": "python",
   "pygments_lexer": "ipython3",
   "version": "3.11.4"
  },
  "orig_nbformat": 4
 },
 "nbformat": 4,
 "nbformat_minor": 2
}
