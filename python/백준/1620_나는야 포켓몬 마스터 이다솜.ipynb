{
 "cells": [
  {
   "cell_type": "code",
   "execution_count": 62,
   "metadata": {},
   "outputs": [
    {
     "ename": "ValueError",
     "evalue": "not enough values to unpack (expected 2, got 0)",
     "output_type": "error",
     "traceback": [
      "\u001b[1;31m---------------------------------------------------------------------------\u001b[0m",
      "\u001b[1;31mValueError\u001b[0m                                Traceback (most recent call last)",
      "\u001b[1;32mc:\\Users\\SANGYOUNG\\Desktop\\github\\algorithm\\python\\백준\\1620_나는야 포켓몬 마스터 이다솜.ipynb Cell 1\u001b[0m line \u001b[0;36m1\n\u001b[1;32m----> <a href='vscode-notebook-cell:/c%3A/Users/SANGYOUNG/Desktop/github/algorithm/python/%EB%B0%B1%EC%A4%80/1620_%EB%82%98%EB%8A%94%EC%95%BC%20%ED%8F%AC%EC%BC%93%EB%AA%AC%20%EB%A7%88%EC%8A%A4%ED%84%B0%20%EC%9D%B4%EB%8B%A4%EC%86%9C.ipynb#W0sZmlsZQ%3D%3D?line=0'>1</a>\u001b[0m n, m \u001b[39m=\u001b[39m \u001b[39mlist\u001b[39m(\u001b[39mmap\u001b[39m(\u001b[39mint\u001b[39m, \u001b[39minput\u001b[39m()\u001b[39m.\u001b[39msplit()))\n\u001b[0;32m      <a href='vscode-notebook-cell:/c%3A/Users/SANGYOUNG/Desktop/github/algorithm/python/%EB%B0%B1%EC%A4%80/1620_%EB%82%98%EB%8A%94%EC%95%BC%20%ED%8F%AC%EC%BC%93%EB%AA%AC%20%EB%A7%88%EC%8A%A4%ED%84%B0%20%EC%9D%B4%EB%8B%A4%EC%86%9C.ipynb#W0sZmlsZQ%3D%3D?line=1'>2</a>\u001b[0m arr \u001b[39m=\u001b[39m[]\n\u001b[0;32m      <a href='vscode-notebook-cell:/c%3A/Users/SANGYOUNG/Desktop/github/algorithm/python/%EB%B0%B1%EC%A4%80/1620_%EB%82%98%EB%8A%94%EC%95%BC%20%ED%8F%AC%EC%BC%93%EB%AA%AC%20%EB%A7%88%EC%8A%A4%ED%84%B0%20%EC%9D%B4%EB%8B%A4%EC%86%9C.ipynb#W0sZmlsZQ%3D%3D?line=2'>3</a>\u001b[0m dic1\u001b[39m=\u001b[39m{}\n",
      "\u001b[1;31mValueError\u001b[0m: not enough values to unpack (expected 2, got 0)"
     ]
    }
   ],
   "source": [
    "n, m = list(map(int, input().split()))\n",
    "arr =[]\n",
    "dic1={}\n",
    "dic2={}\n",
    "for i in range(n):\n",
    "    inp = input()\n",
    "    dic1[i+1] = inp\n",
    "    dic2[inp] = i+1\n",
    "for i in range(m):\n",
    "    gg = input()\n",
    "    if gg.isdigit():\n",
    "        print(dic1[int(gg)])\n",
    "    elif gg.isalpha():\n",
    "        print(dic2[gg])"
   ]
  },
  {
   "cell_type": "code",
   "execution_count": null,
   "metadata": {},
   "outputs": [],
   "source": [
    "import sys\n",
    "\n",
    "n,m = list(map(int, sys.stdin.readline().split()))"
   ]
  }
 ],
 "metadata": {
  "kernelspec": {
   "display_name": "Python 3",
   "language": "python",
   "name": "python3"
  },
  "language_info": {
   "codemirror_mode": {
    "name": "ipython",
    "version": 3
   },
   "file_extension": ".py",
   "mimetype": "text/x-python",
   "name": "python",
   "nbconvert_exporter": "python",
   "pygments_lexer": "ipython3",
   "version": "3.11.4"
  }
 },
 "nbformat": 4,
 "nbformat_minor": 2
}
