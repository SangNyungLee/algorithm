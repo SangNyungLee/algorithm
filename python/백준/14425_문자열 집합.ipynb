{
 "cells": [
  {
   "cell_type": "code",
   "execution_count": 1,
   "metadata": {},
   "outputs": [
    {
     "name": "stdout",
     "output_type": "stream",
     "text": [
      "4\n"
     ]
    }
   ],
   "source": [
    "n,m = list(map(int, input().split()))\n",
    "check =[]\n",
    "find = []\n",
    "for i in range(n):\n",
    "    check.append(input())\n",
    "for i in range(m):\n",
    "    find.append(input())\n",
    "result = 0\n",
    "dic = {i:0 for i in check}\n",
    "for i in find:\n",
    "    if i in dic:\n",
    "        result +=1\n",
    "print(result)"
   ]
  }
 ],
 "metadata": {
  "kernelspec": {
   "display_name": "Python 3",
   "language": "python",
   "name": "python3"
  },
  "language_info": {
   "codemirror_mode": {
    "name": "ipython",
    "version": 3
   },
   "file_extension": ".py",
   "mimetype": "text/x-python",
   "name": "python",
   "nbconvert_exporter": "python",
   "pygments_lexer": "ipython3",
   "version": "3.11.4"
  }
 },
 "nbformat": 4,
 "nbformat_minor": 2
}
