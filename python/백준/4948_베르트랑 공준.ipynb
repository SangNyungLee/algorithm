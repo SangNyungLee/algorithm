{
 "cells": [
  {
   "cell_type": "code",
   "execution_count": 5,
   "metadata": {},
   "outputs": [
    {
     "name": "stdout",
     "output_type": "stream",
     "text": [
      "1\n",
      "5\n",
      "26\n",
      "161\n",
      "1194\n",
      "9586\n"
     ]
    },
    {
     "ename": "ValueError",
     "evalue": "invalid literal for int() with base 10: ''",
     "output_type": "error",
     "traceback": [
      "\u001b[1;31m---------------------------------------------------------------------------\u001b[0m",
      "\u001b[1;31mValueError\u001b[0m                                Traceback (most recent call last)",
      "\u001b[1;32mc:\\Users\\SangNyung\\Desktop\\github\\algorithm\\python\\백준\\4948_베르트랑 공준.ipynb Cell 1\u001b[0m line \u001b[0;36m4\n\u001b[0;32m      <a href='vscode-notebook-cell:/c%3A/Users/SangNyung/Desktop/github/algorithm/python/%EB%B0%B1%EC%A4%80/4948_%EB%B2%A0%EB%A5%B4%ED%8A%B8%EB%9E%91%20%EA%B3%B5%EC%A4%80.ipynb#W0sZmlsZQ%3D%3D?line=1'>2</a>\u001b[0m result \u001b[39m=\u001b[39m \u001b[39m0\u001b[39m\n\u001b[0;32m      <a href='vscode-notebook-cell:/c%3A/Users/SangNyung/Desktop/github/algorithm/python/%EB%B0%B1%EC%A4%80/4948_%EB%B2%A0%EB%A5%B4%ED%8A%B8%EB%9E%91%20%EA%B3%B5%EC%A4%80.ipynb#W0sZmlsZQ%3D%3D?line=2'>3</a>\u001b[0m \u001b[39mwhile\u001b[39;00m(\u001b[39mTrue\u001b[39;00m):\n\u001b[1;32m----> <a href='vscode-notebook-cell:/c%3A/Users/SangNyung/Desktop/github/algorithm/python/%EB%B0%B1%EC%A4%80/4948_%EB%B2%A0%EB%A5%B4%ED%8A%B8%EB%9E%91%20%EA%B3%B5%EC%A4%80.ipynb#W0sZmlsZQ%3D%3D?line=3'>4</a>\u001b[0m     a \u001b[39m=\u001b[39m \u001b[39mint\u001b[39;49m(\u001b[39minput\u001b[39;49m())\n\u001b[0;32m      <a href='vscode-notebook-cell:/c%3A/Users/SangNyung/Desktop/github/algorithm/python/%EB%B0%B1%EC%A4%80/4948_%EB%B2%A0%EB%A5%B4%ED%8A%B8%EB%9E%91%20%EA%B3%B5%EC%A4%80.ipynb#W0sZmlsZQ%3D%3D?line=4'>5</a>\u001b[0m     \u001b[39mif\u001b[39;00m(a \u001b[39m==\u001b[39m \u001b[39m0\u001b[39m):\n\u001b[0;32m      <a href='vscode-notebook-cell:/c%3A/Users/SangNyung/Desktop/github/algorithm/python/%EB%B0%B1%EC%A4%80/4948_%EB%B2%A0%EB%A5%B4%ED%8A%B8%EB%9E%91%20%EA%B3%B5%EC%A4%80.ipynb#W0sZmlsZQ%3D%3D?line=5'>6</a>\u001b[0m         \u001b[39mbreak\u001b[39;00m\n",
      "\u001b[1;31mValueError\u001b[0m: invalid literal for int() with base 10: ''"
     ]
    }
   ],
   "source": [
    "import math;\n",
    "\n",
    "while(True):\n",
    "    result = 0\n",
    "    a = int(input())\n",
    "    if(a == 0):\n",
    "        break\n",
    "    for i in range(a, a*2+1):\n",
    "        newA = int(math.sqrt(i))\n",
    "        cnt = 0\n",
    "        for j in range(2, newA+1):\n",
    "            if i%j == 0:\n",
    "                cnt +=1\n",
    "                break\n",
    "        if(cnt == 0 and i != 1):\n",
    "            result+=1\n",
    "    print(result)"
   ]
  }
 ],
 "metadata": {
  "kernelspec": {
   "display_name": "Python 3",
   "language": "python",
   "name": "python3"
  },
  "language_info": {
   "codemirror_mode": {
    "name": "ipython",
    "version": 3
   },
   "file_extension": ".py",
   "mimetype": "text/x-python",
   "name": "python",
   "nbconvert_exporter": "python",
   "pygments_lexer": "ipython3",
   "version": "3.11.4"
  }
 },
 "nbformat": 4,
 "nbformat_minor": 2
}
