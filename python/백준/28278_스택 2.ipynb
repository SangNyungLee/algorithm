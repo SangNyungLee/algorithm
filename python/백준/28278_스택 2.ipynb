{
 "cells": [
  {
   "cell_type": "code",
   "execution_count": 18,
   "metadata": {},
   "outputs": [
    {
     "name": "stdout",
     "output_type": "stream",
     "text": [
      "1\n",
      "2\n",
      "5\n",
      "3\n",
      "3\n",
      "-1\n",
      "-1\n"
     ]
    }
   ],
   "source": [
    "# 1 X: 정수 X를 스택에 넣는다. (1 ≤ X ≤ 100,000)\n",
    "# 2: 스택에 정수가 있다면 맨 위의 정수를 빼고 출력한다. 없다면 -1을 대신 출력한다.\n",
    "# 3: 스택에 들어있는 정수의 개수를 출력한다.\n",
    "# 4: 스택이 비어있으면 1, 아니면 0을 출력한다.\n",
    "# 5: 스택에 정수가 있다면 맨 위의 정수를 출력한다. 없다면 -1을 대신 출력한다.\n",
    "\n",
    "stack =[]\n",
    "n = int(input())\n",
    "for i in range(n):\n",
    "    t = list(map(int, input().split()))\n",
    "    if(t[0] == 1):\n",
    "        stack.append(t[1])\n",
    "    if(t[0] == 2):\n",
    "        if len(stack) != 0:\n",
    "            print(stack[-1])\n",
    "            stack.pop()\n",
    "        else:\n",
    "            print(-1)\n",
    "    if(t[0] == 3):\n",
    "        print(len(stack))\n",
    "    if(t[0] == 4):\n",
    "        if len(stack) == 0:\n",
    "            print(1)\n",
    "        else:\n",
    "            print(0)\n",
    "    if(t[0] == 5):\n",
    "        if len(stack) != 0:\n",
    "            print(stack[-1])\n",
    "        else:\n",
    "            print(-1)"
   ]
  }
 ],
 "metadata": {
  "kernelspec": {
   "display_name": "Python 3",
   "language": "python",
   "name": "python3"
  },
  "language_info": {
   "codemirror_mode": {
    "name": "ipython",
    "version": 3
   },
   "file_extension": ".py",
   "mimetype": "text/x-python",
   "name": "python",
   "nbconvert_exporter": "python",
   "pygments_lexer": "ipython3",
   "version": "3.11.4"
  }
 },
 "nbformat": 4,
 "nbformat_minor": 2
}
