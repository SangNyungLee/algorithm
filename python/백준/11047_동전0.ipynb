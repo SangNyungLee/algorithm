{
 "cells": [
  {
   "cell_type": "code",
   "execution_count": 13,
   "metadata": {},
   "outputs": [
    {
     "name": "stdout",
     "output_type": "stream",
     "text": [
      "4200\n"
     ]
    }
   ],
   "source": [
    "# n, k = map(int, input().split())\n",
    "# arr=[]\n",
    "\n",
    "# for i in range(n):\n",
    "#     arr.append(int(input()))\n",
    "n = 10\n",
    "k = 4200\n",
    "a=0\n",
    "arr = [1, 5, 10, 50, 100, 500, 1000, 5000, 10000, 50000]\n",
    "arr2 = sorted(arr, reverse=True)\n",
    "\n",
    "while(k == 0):\n",
    "   for i in arr2:\n",
    "      if(i <= k):\n",
    "         k-i\n",
    "         a+=1\n",
    "         break  "
   ]
  }
 ],
 "metadata": {
  "kernelspec": {
   "display_name": "Python 3",
   "language": "python",
   "name": "python3"
  },
  "language_info": {
   "codemirror_mode": {
    "name": "ipython",
    "version": 3
   },
   "file_extension": ".py",
   "mimetype": "text/x-python",
   "name": "python",
   "nbconvert_exporter": "python",
   "pygments_lexer": "ipython3",
   "version": "3.11.4"
  },
  "orig_nbformat": 4
 },
 "nbformat": 4,
 "nbformat_minor": 2
}
