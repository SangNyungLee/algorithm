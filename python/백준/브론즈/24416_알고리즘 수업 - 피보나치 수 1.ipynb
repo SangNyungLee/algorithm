{
 "cells": [
  {
   "cell_type": "code",
   "execution_count": 15,
   "metadata": {},
   "outputs": [
    {
     "name": "stdout",
     "output_type": "stream",
     "text": [
      "5 3\n"
     ]
    }
   ],
   "source": [
    "n = int(input())\n",
    "result1 = 0\n",
    "\n",
    "def fib(n):\n",
    "    ff = [0] * (n+1)\n",
    "    ff[1] = 1\n",
    "    ff[2] = 1\n",
    "    for i in range(3, n+1):\n",
    "        ff[i] = ff[i-1] + ff[i-2]\n",
    "    return ff[i]\n",
    "\n",
    "def fibonacci(n):\n",
    "    f = [0] * 100   \n",
    "    f[1] = 1\n",
    "    f[2] = 1\n",
    "    result2 = 0\n",
    "    for i in range(3, n+1):\n",
    "        result2 +=1\n",
    "        f[i] = f[i-1] + f[i-2]\n",
    "    return result2\n",
    "\n",
    "print(fib(n), fibonacci(n))"
   ]
  }
 ],
 "metadata": {
  "kernelspec": {
   "display_name": "Python 3",
   "language": "python",
   "name": "python3"
  },
  "language_info": {
   "codemirror_mode": {
    "name": "ipython",
    "version": 3
   },
   "file_extension": ".py",
   "mimetype": "text/x-python",
   "name": "python",
   "nbconvert_exporter": "python",
   "pygments_lexer": "ipython3",
   "version": "3.11.4"
  }
 },
 "nbformat": 4,
 "nbformat_minor": 2
}
