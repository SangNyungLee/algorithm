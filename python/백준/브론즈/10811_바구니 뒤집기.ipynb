{
 "cells": [
  {
   "cell_type": "code",
   "execution_count": 15,
   "metadata": {},
   "outputs": [
    {
     "name": "stdout",
     "output_type": "stream",
     "text": [
      "3 4 1 2 5 "
     ]
    }
   ],
   "source": [
    "n,m = map(int, input().split())\n",
    "\n",
    "arr = [i for i in range(1,n+1)]\n",
    "for i in range(m):\n",
    "    a,b = map(int, input().split())\n",
    "    newArr = arr[a-1:b]\n",
    "    newArr.reverse()\n",
    "    arr[a-1:b] = newArr\n",
    "for i in arr:\n",
    "    print(i, end=' ')"
   ]
  }
 ],
 "metadata": {
  "kernelspec": {
   "display_name": "Python 3",
   "language": "python",
   "name": "python3"
  },
  "language_info": {
   "codemirror_mode": {
    "name": "ipython",
    "version": 3
   },
   "file_extension": ".py",
   "mimetype": "text/x-python",
   "name": "python",
   "nbconvert_exporter": "python",
   "pygments_lexer": "ipython3",
   "version": "3.11.4"
  }
 },
 "nbformat": 4,
 "nbformat_minor": 2
}
