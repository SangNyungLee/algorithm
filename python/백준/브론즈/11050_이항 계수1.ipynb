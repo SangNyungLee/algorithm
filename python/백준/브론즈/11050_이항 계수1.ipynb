{
 "cells": [
  {
   "cell_type": "code",
   "execution_count": 21,
   "metadata": {},
   "outputs": [
    {
     "name": "stdout",
     "output_type": "stream",
     "text": [
      "5\n"
     ]
    }
   ],
   "source": [
    "n,k = list(map(int, input().split()))\n",
    "result = 1\n",
    "result2 = 1\n",
    "#분모의 값\n",
    "for i in range(n,n-k,-1):\n",
    "    result *= i\n",
    "for i in range(k,1,-1):\n",
    "    result2 *= i\n",
    "print(result//result2)"
   ]
  }
 ],
 "metadata": {
  "kernelspec": {
   "display_name": "Python 3",
   "language": "python",
   "name": "python3"
  },
  "language_info": {
   "codemirror_mode": {
    "name": "ipython",
    "version": 3
   },
   "file_extension": ".py",
   "mimetype": "text/x-python",
   "name": "python",
   "nbconvert_exporter": "python",
   "pygments_lexer": "ipython3",
   "version": "3.11.4"
  }
 },
 "nbformat": 4,
 "nbformat_minor": 2
}
