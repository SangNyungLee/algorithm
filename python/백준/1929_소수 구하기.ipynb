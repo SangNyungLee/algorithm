{
 "cells": [
  {
   "cell_type": "code",
   "execution_count": 23,
   "metadata": {},
   "outputs": [
    {
     "name": "stdout",
     "output_type": "stream",
     "text": [
      "i 1 j 2 cnt 0 rootNum 1\n",
      "i 2 j 2 cnt 0 rootNum 1\n",
      "i 3 j 2 cnt 0 rootNum 1\n",
      "i 4 j 2 cnt 0 rootNum 2\n",
      "i 5 j 2 cnt 1 rootNum 2\n",
      "i 6 j 2 cnt 0 rootNum 2\n",
      "i 7 j 2 cnt 1 rootNum 2\n",
      "i 8 j 2 cnt 0 rootNum 2\n",
      "i 9 j 3 cnt 1 rootNum 3\n",
      "i 10 j 2 cnt 0 rootNum 3\n"
     ]
    }
   ],
   "source": [
    "import math;\n",
    "a,b = map(int, input().split())\n",
    "arr = []\n",
    "for i in range(a,b+1):\n",
    "    rootNum = int(math.sqrt(i))\n",
    "    cnt = 0\n",
    "    for j in range(2, rootNum+1):\n",
    "        if(i%j ==0):\n",
    "            break\n",
    "        else:\n",
    "            cnt+=1\n",
    "    print(\"i\", i, \"j\",j, \"cnt\", cnt, \"rootNum\", rootNum)\n",
    "        \n"
   ]
  }
 ],
 "metadata": {
  "kernelspec": {
   "display_name": "Python 3",
   "language": "python",
   "name": "python3"
  },
  "language_info": {
   "codemirror_mode": {
    "name": "ipython",
    "version": 3
   },
   "file_extension": ".py",
   "mimetype": "text/x-python",
   "name": "python",
   "nbconvert_exporter": "python",
   "pygments_lexer": "ipython3",
   "version": "3.11.4"
  }
 },
 "nbformat": 4,
 "nbformat_minor": 2
}
