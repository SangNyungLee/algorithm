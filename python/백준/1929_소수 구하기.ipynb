{
 "cells": [
  {
   "cell_type": "code",
   "execution_count": 3,
   "metadata": {},
   "outputs": [
    {
     "name": "stdout",
     "output_type": "stream",
     "text": [
      "1\n",
      "2\n",
      "3\n",
      "4\n",
      "5\n",
      "6\n",
      "0\n"
     ]
    }
   ],
   "source": [
    "import math;\n",
    "b,c = map(int, input().split())\n",
    "num = b\n",
    "arr=[]\n",
    "\n",
    "for i in range(b, c+1):\n",
    "    num = i\n",
    "    newA = int(math.sqrt(num))\n",
    "    cnt = 0\n",
    "    for i in range(2, newA+1):\n",
    "        if num%i == 0:\n",
    "            cnt += 1\n",
    "            break\n",
    "    if(cnt == 0 and num != 1):\n",
    "        arr.append(num)\n",
    "for i in arr:\n",
    "    print(i)"
   ]
  }
 ],
 "metadata": {
  "kernelspec": {
   "display_name": "Python 3",
   "language": "python",
   "name": "python3"
  },
  "language_info": {
   "codemirror_mode": {
    "name": "ipython",
    "version": 3
   },
   "file_extension": ".py",
   "mimetype": "text/x-python",
   "name": "python",
   "nbconvert_exporter": "python",
   "pygments_lexer": "ipython3",
   "version": "3.11.4"
  }
 },
 "nbformat": 4,
 "nbformat_minor": 2
}
