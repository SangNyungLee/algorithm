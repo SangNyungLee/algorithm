{
 "cells": [
  {
   "cell_type": "code",
   "execution_count": 47,
   "metadata": {},
   "outputs": [
    {
     "ename": "IndexError",
     "evalue": "list index out of range",
     "output_type": "error",
     "traceback": [
      "\u001b[1;31m---------------------------------------------------------------------------\u001b[0m",
      "\u001b[1;31mIndexError\u001b[0m                                Traceback (most recent call last)",
      "\u001b[1;32mc:\\Users\\SANGYOUNG\\Desktop\\github\\algorithm\\python\\백준\\2485_가로수.ipynb Cell 1\u001b[0m line \u001b[0;36m6\n\u001b[0;32m      <a href='vscode-notebook-cell:/c%3A/Users/SANGYOUNG/Desktop/github/algorithm/python/%EB%B0%B1%EC%A4%80/2485_%EA%B0%80%EB%A1%9C%EC%88%98.ipynb#W0sZmlsZQ%3D%3D?line=3'>4</a>\u001b[0m \u001b[39mfor\u001b[39;00m i \u001b[39min\u001b[39;00m \u001b[39mrange\u001b[39m(n):\n\u001b[0;32m      <a href='vscode-notebook-cell:/c%3A/Users/SANGYOUNG/Desktop/github/algorithm/python/%EB%B0%B1%EC%A4%80/2485_%EA%B0%80%EB%A1%9C%EC%88%98.ipynb#W0sZmlsZQ%3D%3D?line=4'>5</a>\u001b[0m     num \u001b[39m=\u001b[39m \u001b[39mint\u001b[39m(\u001b[39minput\u001b[39m())\n\u001b[1;32m----> <a href='vscode-notebook-cell:/c%3A/Users/SANGYOUNG/Desktop/github/algorithm/python/%EB%B0%B1%EC%A4%80/2485_%EA%B0%80%EB%A1%9C%EC%88%98.ipynb#W0sZmlsZQ%3D%3D?line=5'>6</a>\u001b[0m     arr\u001b[39m.\u001b[39mappend(num\u001b[39m-\u001b[39marr[\u001b[39m0\u001b[39;49m])\n\u001b[0;32m      <a href='vscode-notebook-cell:/c%3A/Users/SANGYOUNG/Desktop/github/algorithm/python/%EB%B0%B1%EC%A4%80/2485_%EA%B0%80%EB%A1%9C%EC%88%98.ipynb#W0sZmlsZQ%3D%3D?line=6'>7</a>\u001b[0m     a \u001b[39m=\u001b[39m num\n\u001b[0;32m      <a href='vscode-notebook-cell:/c%3A/Users/SANGYOUNG/Desktop/github/algorithm/python/%EB%B0%B1%EC%A4%80/2485_%EA%B0%80%EB%A1%9C%EC%88%98.ipynb#W0sZmlsZQ%3D%3D?line=8'>9</a>\u001b[0m g \u001b[39m=\u001b[39m arr[\u001b[39m0\u001b[39m]\n",
      "\u001b[1;31mIndexError\u001b[0m: list index out of range"
     ]
    }
   ],
   "source": [
    "import math\n",
    "n = int(input())\n",
    "arr = []\n",
    "a = int(input())\n",
    "for i in range(n-1):\n",
    "    num = int(input())\n",
    "    arr.append(num-a)\n",
    "    a = num\n",
    "\n",
    "g = arr[0]\n",
    "for j in range(1, len(arr)):\n",
    "    g = math.gcd(g, arr[j])\n",
    "result = 0\n",
    "for i in arr:\n",
    "    result += i//g-1\n",
    "print(result)"
   ]
  }
 ],
 "metadata": {
  "kernelspec": {
   "display_name": "Python 3",
   "language": "python",
   "name": "python3"
  },
  "language_info": {
   "codemirror_mode": {
    "name": "ipython",
    "version": 3
   },
   "file_extension": ".py",
   "mimetype": "text/x-python",
   "name": "python",
   "nbconvert_exporter": "python",
   "pygments_lexer": "ipython3",
   "version": "3.11.4"
  }
 },
 "nbformat": 4,
 "nbformat_minor": 2
}
