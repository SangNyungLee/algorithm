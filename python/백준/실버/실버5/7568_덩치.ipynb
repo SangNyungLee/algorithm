{
 "cells": [
  {
   "cell_type": "code",
   "execution_count": 11,
   "metadata": {},
   "outputs": [
    {
     "name": "stdout",
     "output_type": "stream",
     "text": [
      "[(88, 186, 0), (60, 175, 0), (58, 183, 0), (55, 185, 0), (46, 155, 0)]\n"
     ]
    }
   ],
   "source": [
    "import math\n",
    "# n = int(input())\n",
    "n = 5\n",
    "arr = [(55,185,0),(58,183,0),(88,186,0),(60,175,0),(46,155,0)]\n",
    "# for i in range(n):\n",
    "#     a,b = list(map(int, input().split()))\n",
    "#     arr.append(a,b)s\n",
    "print(sorted(arr, key=lambda x : -x[0]))\n"
   ]
  }
 ],
 "metadata": {
  "kernelspec": {
   "display_name": "Python 3",
   "language": "python",
   "name": "python3"
  },
  "language_info": {
   "codemirror_mode": {
    "name": "ipython",
    "version": 3
   },
   "file_extension": ".py",
   "mimetype": "text/x-python",
   "name": "python",
   "nbconvert_exporter": "python",
   "pygments_lexer": "ipython3",
   "version": "3.11.4"
  }
 },
 "nbformat": 4,
 "nbformat_minor": 2
}
