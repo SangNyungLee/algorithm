{
 "cells": [
  {
   "cell_type": "code",
   "execution_count": 51,
   "metadata": {},
   "outputs": [
    {
     "name": "stdout",
     "output_type": "stream",
     "text": [
      "1/4\n"
     ]
    }
   ],
   "source": [
    "#어떠한 값을 입력받았을 때 그게 몇번 째 줄에 있고 어디 위치에 있는지 확인\n",
    "n = int(input())\n",
    "num = 1\n",
    "hap = 1\n",
    "while(True):\n",
    "    if(num >= n):\n",
    "        break\n",
    "    hap+=1\n",
    "    num += hap\n",
    "k = num-n\n",
    "if hap%2 == 0:\n",
    "    print(hap-k, end=\"/\")\n",
    "    print(1+k)\n",
    "\n",
    "if hap%2 != 0:\n",
    "    print(1+k, end=\"/\")\n",
    "    print(hap-k)"
   ]
  }
 ],
 "metadata": {
  "kernelspec": {
   "display_name": "Python 3",
   "language": "python",
   "name": "python3"
  },
  "language_info": {
   "codemirror_mode": {
    "name": "ipython",
    "version": 3
   },
   "file_extension": ".py",
   "mimetype": "text/x-python",
   "name": "python",
   "nbconvert_exporter": "python",
   "pygments_lexer": "ipython3",
   "version": "3.11.4"
  }
 },
 "nbformat": 4,
 "nbformat_minor": 2
}
