{
 "cells": [
  {
   "cell_type": "code",
   "execution_count": 52,
   "metadata": {},
   "outputs": [
    {
     "name": "stdout",
     "output_type": "stream",
     "text": [
      "!!\n",
      "!!\n",
      "!!\n",
      "<1, 2, 3>"
     ]
    }
   ],
   "source": [
    "n, k = list(map(int, input().split()))\n",
    "queue = []\n",
    "result = []\n",
    "move = 0\n",
    "for i in range(1, n+1):\n",
    "    queue.append(i)\n",
    "\n",
    "for i in range(1, n+1):\n",
    "    move += k-1\n",
    "    if move <= len(queue):\n",
    "        print(\"??\")\n",
    "        result.append(queue.pop(move))\n",
    "    else:\n",
    "        print(\"!!\")\n",
    "        move = move%len(queue)    \n",
    "        result.append(queue.pop(move))\n",
    "\n",
    "print(\"<\", end=\"\")\n",
    "for i in result:\n",
    "    if result[-1] == i:\n",
    "        print(i, end=\"\")\n",
    "    else:\n",
    "        print(i, end=\", \")\n",
    "print(\">\", end=\"\")"
   ]
  }
 ],
 "metadata": {
  "kernelspec": {
   "display_name": "Python 3",
   "language": "python",
   "name": "python3"
  },
  "language_info": {
   "codemirror_mode": {
    "name": "ipython",
    "version": 3
   },
   "file_extension": ".py",
   "mimetype": "text/x-python",
   "name": "python",
   "nbconvert_exporter": "python",
   "pygments_lexer": "ipython3",
   "version": "3.11.4"
  }
 },
 "nbformat": 4,
 "nbformat_minor": 2
}
