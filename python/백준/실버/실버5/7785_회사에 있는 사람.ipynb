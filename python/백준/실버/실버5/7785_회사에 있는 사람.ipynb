{
 "cells": [
  {
   "cell_type": "code",
   "execution_count": 16,
   "metadata": {},
   "outputs": [
    {
     "name": "stdout",
     "output_type": "stream",
     "text": [
      "A\n",
      "AAA\n",
      "Aa\n",
      "a\n",
      "aA\n"
     ]
    }
   ],
   "source": [
    "n = int(input())\n",
    "dic ={}\n",
    "for i in range(n):\n",
    "    a,b = list(map(str, input().split()))\n",
    "    if(b == 'enter'):\n",
    "        dic[a] = b\n",
    "    else:\n",
    "        del dic[a]\n",
    "sort_key = sorted(dic.keys())\n",
    "for i in reversed(sort_key):\n",
    "    print(i)\n"
   ]
  }
 ],
 "metadata": {
  "kernelspec": {
   "display_name": "Python 3",
   "language": "python",
   "name": "python3"
  },
  "language_info": {
   "codemirror_mode": {
    "name": "ipython",
    "version": 3
   },
   "file_extension": ".py",
   "mimetype": "text/x-python",
   "name": "python",
   "nbconvert_exporter": "python",
   "pygments_lexer": "ipython3",
   "version": "3.11.4"
  }
 },
 "nbformat": 4,
 "nbformat_minor": 2
}
