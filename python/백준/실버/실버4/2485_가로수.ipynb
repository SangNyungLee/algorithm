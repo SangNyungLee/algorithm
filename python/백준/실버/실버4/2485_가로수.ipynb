{
 "cells": [
  {
   "cell_type": "code",
   "execution_count": 48,
   "metadata": {},
   "outputs": [
    {
     "name": "stdout",
     "output_type": "stream",
     "text": [
      "2\n"
     ]
    }
   ],
   "source": [
    "import math\n",
    "n = int(input())\n",
    "arr = []\n",
    "a = int(input())\n",
    "for i in range(n-1):\n",
    "    num = int(input())\n",
    "    arr.append(num-a)\n",
    "    a = num\n",
    "\n",
    "g = arr[0]\n",
    "for j in range(1, len(arr)):\n",
    "    g = math.gcd(g, arr[j])\n",
    "result = 0\n",
    "for i in arr:\n",
    "    result += i//g-1\n",
    "print(result)"
   ]
  }
 ],
 "metadata": {
  "kernelspec": {
   "display_name": "Python 3",
   "language": "python",
   "name": "python3"
  },
  "language_info": {
   "codemirror_mode": {
    "name": "ipython",
    "version": 3
   },
   "file_extension": ".py",
   "mimetype": "text/x-python",
   "name": "python",
   "nbconvert_exporter": "python",
   "pygments_lexer": "ipython3",
   "version": "3.11.4"
  }
 },
 "nbformat": 4,
 "nbformat_minor": 2
}
