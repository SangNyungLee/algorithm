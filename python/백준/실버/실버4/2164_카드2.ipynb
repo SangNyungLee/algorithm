{
 "cells": [
  {
   "cell_type": "code",
   "execution_count": 1,
   "metadata": {},
   "outputs": [
    {
     "ename": "IndexError",
     "evalue": "pop from an empty deque",
     "output_type": "error",
     "traceback": [
      "\u001b[1;31m---------------------------------------------------------------------------\u001b[0m",
      "\u001b[1;31mIndexError\u001b[0m                                Traceback (most recent call last)",
      "\u001b[1;32mc:\\Users\\SangNyung\\Desktop\\github\\algorithm\\python\\백준\\실버\\실버4\\2164_카드2.ipynb Cell 1\u001b[0m line \u001b[0;36m9\n\u001b[0;32m      <a href='vscode-notebook-cell:/c%3A/Users/SangNyung/Desktop/github/algorithm/python/%EB%B0%B1%EC%A4%80/%EC%8B%A4%EB%B2%84/%EC%8B%A4%EB%B2%844/2164_%EC%B9%B4%EB%93%9C2.ipynb#W1sZmlsZQ%3D%3D?line=6'>7</a>\u001b[0m \u001b[39mwhile\u001b[39;00m \u001b[39mTrue\u001b[39;00m:\n\u001b[0;32m      <a href='vscode-notebook-cell:/c%3A/Users/SangNyung/Desktop/github/algorithm/python/%EB%B0%B1%EC%A4%80/%EC%8B%A4%EB%B2%84/%EC%8B%A4%EB%B2%844/2164_%EC%B9%B4%EB%93%9C2.ipynb#W1sZmlsZQ%3D%3D?line=7'>8</a>\u001b[0m     queue\u001b[39m.\u001b[39mpopleft()\n\u001b[1;32m----> <a href='vscode-notebook-cell:/c%3A/Users/SangNyung/Desktop/github/algorithm/python/%EB%B0%B1%EC%A4%80/%EC%8B%A4%EB%B2%84/%EC%8B%A4%EB%B2%844/2164_%EC%B9%B4%EB%93%9C2.ipynb#W1sZmlsZQ%3D%3D?line=8'>9</a>\u001b[0m     value \u001b[39m=\u001b[39m queue\u001b[39m.\u001b[39;49mpopleft()\n\u001b[0;32m     <a href='vscode-notebook-cell:/c%3A/Users/SangNyung/Desktop/github/algorithm/python/%EB%B0%B1%EC%A4%80/%EC%8B%A4%EB%B2%84/%EC%8B%A4%EB%B2%844/2164_%EC%B9%B4%EB%93%9C2.ipynb#W1sZmlsZQ%3D%3D?line=9'>10</a>\u001b[0m     queue\u001b[39m.\u001b[39mappend(value)\n\u001b[0;32m     <a href='vscode-notebook-cell:/c%3A/Users/SangNyung/Desktop/github/algorithm/python/%EB%B0%B1%EC%A4%80/%EC%8B%A4%EB%B2%84/%EC%8B%A4%EB%B2%844/2164_%EC%B9%B4%EB%93%9C2.ipynb#W1sZmlsZQ%3D%3D?line=10'>11</a>\u001b[0m     \u001b[39mif\u001b[39;00m(\u001b[39mlen\u001b[39m(queue) \u001b[39m==\u001b[39m \u001b[39m1\u001b[39m):\n",
      "\u001b[1;31mIndexError\u001b[0m: pop from an empty deque"
     ]
    }
   ],
   "source": [
    "from collections import deque\n",
    "a = int(input())\n",
    "queue = deque()\n",
    "for i in range(1, a+1):\n",
    "    queue.append(i)\n",
    "\n",
    "if a == 1:\n",
    "    print(1)\n",
    "else:\n",
    "    while True:\n",
    "        queue.popleft()\n",
    "        value = queue.popleft()\n",
    "        queue.append(value)\n",
    "        if(len(queue) == 1):\n",
    "            break\n",
    "    print(queue[0])"
   ]
  },
  {
   "cell_type": "code",
   "execution_count": null,
   "metadata": {},
   "outputs": [],
   "source": []
  }
 ],
 "metadata": {
  "kernelspec": {
   "display_name": "Python 3",
   "language": "python",
   "name": "python3"
  },
  "language_info": {
   "codemirror_mode": {
    "name": "ipython",
    "version": 3
   },
   "file_extension": ".py",
   "mimetype": "text/x-python",
   "name": "python",
   "nbconvert_exporter": "python",
   "pygments_lexer": "ipython3",
   "version": "3.11.4"
  }
 },
 "nbformat": 4,
 "nbformat_minor": 2
}
