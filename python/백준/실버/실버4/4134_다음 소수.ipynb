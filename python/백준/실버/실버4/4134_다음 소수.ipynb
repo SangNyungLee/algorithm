{
 "cells": [
  {
   "cell_type": "code",
   "execution_count": 48,
   "metadata": {},
   "outputs": [
    {
     "name": "stdout",
     "output_type": "stream",
     "text": [
      "2\n"
     ]
    }
   ],
   "source": [
    "import math;\n",
    "a = int(input())\n",
    "for i in range(a):\n",
    "    n = int(input())\n",
    "    num = int(math.sqrt(n))\n",
    "    cnt = 0\n",
    "    while(True):\n",
    "        cnt = 0\n",
    "        if n == 1:\n",
    "            n+=1\n",
    "        if n == 0:\n",
    "            n+=2\n",
    "        for i in range(2, num+1):\n",
    "            if n%i == 0:\n",
    "                n +=1\n",
    "                cnt = 1\n",
    "                num = int(math.sqrt(n))\n",
    "                break\n",
    "        if cnt == 0:\n",
    "            break\n",
    "    print(n)\n"
   ]
  }
 ],
 "metadata": {
  "kernelspec": {
   "display_name": "Python 3",
   "language": "python",
   "name": "python3"
  },
  "language_info": {
   "codemirror_mode": {
    "name": "ipython",
    "version": 3
   },
   "file_extension": ".py",
   "mimetype": "text/x-python",
   "name": "python",
   "nbconvert_exporter": "python",
   "pygments_lexer": "ipython3",
   "version": "3.11.4"
  }
 },
 "nbformat": 4,
 "nbformat_minor": 2
}
