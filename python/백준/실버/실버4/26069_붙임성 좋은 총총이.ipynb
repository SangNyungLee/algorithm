{
 "cells": [
  {
   "cell_type": "code",
   "execution_count": null,
   "metadata": {},
   "outputs": [],
   "source": [
    "n = int(input())\n",
    "arr = set()\n",
    "for _ in range(n):\n",
    "    a,b = input().split()\n",
    "    if a == \"ChongChong\" or b == \"ChongChong\":\n",
    "        arr.add(a)\n",
    "        arr.add(b)\n",
    "    if a in arr or b in arr:\n",
    "        arr.add(a)\n",
    "        arr.add(b)\n",
    "print(len(arr))\n"
   ]
  }
 ],
 "metadata": {
  "language_info": {
   "name": "python"
  }
 },
 "nbformat": 4,
 "nbformat_minor": 2
}
