{
 "cells": [
  {
   "cell_type": "code",
   "execution_count": null,
   "metadata": {},
   "outputs": [],
   "source": [
    "import sys\n",
    "\n",
    "arr = []\n",
    "\n",
    "n = int(sys.stdin.readline().rstrip())\n",
    "for i in range(n):\n",
    "    t = list(map(int, sys.stdin.readline().rstrip().split()))\n",
    "    if t[0] == 1:\n",
    "        arr.append(t[1])\n",
    "    if t[0] == 2:\n",
    "        if len(arr) != 0:\n",
    "            print(arr[-1])\n",
    "            arr.pop()\n",
    "        else:\n",
    "            print(-1)\n",
    "    if t[0] == 3:\n",
    "        print(len(arr))\n",
    "    if t[0] == 4:\n",
    "        if len(arr) == 0:\n",
    "            print(1)\n",
    "        else:\n",
    "            print(0)\n",
    "    if t[0] == 5:\n",
    "        if len(arr) != 0:\n",
    "            print(arr[-1])\n",
    "        else:\n",
    "            print(-1)\n"
   ]
  }
 ],
 "metadata": {
  "language_info": {
   "name": "python"
  }
 },
 "nbformat": 4,
 "nbformat_minor": 2
}
