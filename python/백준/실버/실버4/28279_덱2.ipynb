{
 "cells": [
  {
   "cell_type": "code",
   "execution_count": 9,
   "metadata": {},
   "outputs": [
    {
     "name": "stdout",
     "output_type": "stream",
     "text": [
      "[3]\n"
     ]
    }
   ],
   "source": [
    "import sys\n",
    "from collections import deque\n",
    "n = int(input())\n",
    "\n",
    "dequeue = deque()\n",
    "for i in range(n):\n",
    "    num = list(map(int, sys.stdin.readline().strip().split()))\n",
    "    l = len(dequeue)\n",
    "    if num[0] == 1:\n",
    "        dequeue.appendleft(num[1])\n",
    "    elif num[0] == 2:\n",
    "        dequeue.append(num[1])\n",
    "    elif num[0] == 3:\n",
    "        print(dequeue.popleft() if l else -1)\n",
    "    elif num[0] == 4:\n",
    "        print(dequeue.pop() if l else -1)\n",
    "    elif num[0] == 5:\n",
    "        print(len(dequeue))\n",
    "    elif num[0] == 6:\n",
    "        print(0 if l else 1)\n",
    "    elif num[0] == 7:\n",
    "        print(dequeue[0] if l else -1)\n",
    "    elif num[0] == 8:\n",
    "        print(dequeue[-1] if l else -1)"
   ]
  }
 ],
 "metadata": {
  "kernelspec": {
   "display_name": "Python 3",
   "language": "python",
   "name": "python3"
  },
  "language_info": {
   "codemirror_mode": {
    "name": "ipython",
    "version": 3
   },
   "file_extension": ".py",
   "mimetype": "text/x-python",
   "name": "python",
   "nbconvert_exporter": "python",
   "pygments_lexer": "ipython3",
   "version": "3.11.4"
  }
 },
 "nbformat": 4,
 "nbformat_minor": 2
}
