{
 "cells": [
  {
   "cell_type": "code",
   "execution_count": 5,
   "metadata": {},
   "outputs": [
    {
     "name": "stdout",
     "output_type": "stream",
     "text": [
      "3 0 0 1 2 0 0 2\n",
      "3 0 0 1 2 0 0 2 "
     ]
    }
   ],
   "source": [
    "# n = int(input())\n",
    "# arr = list(map(int, input().split()))\n",
    "# m = int(input())\n",
    "# arr2 = list(map(int, input().split()))\n",
    "\n",
    "n = 10\n",
    "arr = [6, 3, 2, 10, 10, 10, -10, -10, 7, 3]\n",
    "m = 8\n",
    "arr2 = [10, 9, -5, 2, 3, 4, 5, -10]\n",
    "\n",
    "dic = {i: 0 for i in arr2}\n",
    "for i in arr:\n",
    "    if i in dic:\n",
    "        dic[i] += 1\n",
    "print(\" \".join(map(str, dic.values())))\n",
    "for i in dic.values():\n",
    "    print(i, end=\" \")"
   ]
  },
  {
   "cell_type": "code",
   "execution_count": null,
   "metadata": {},
   "outputs": [],
   "source": []
  }
 ],
 "metadata": {
  "kernelspec": {
   "display_name": "Python 3",
   "language": "python",
   "name": "python3"
  },
  "language_info": {
   "codemirror_mode": {
    "name": "ipython",
    "version": 3
   },
   "file_extension": ".py",
   "mimetype": "text/x-python",
   "name": "python",
   "nbconvert_exporter": "python",
   "pygments_lexer": "ipython3",
   "version": "3.11.4"
  },
  "orig_nbformat": 4
 },
 "nbformat": 4,
 "nbformat_minor": 2
}
