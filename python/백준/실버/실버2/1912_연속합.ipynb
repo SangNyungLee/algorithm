{
 "cells": [
  {
   "cell_type": "code",
   "execution_count": 7,
   "metadata": {},
   "outputs": [
    {
     "name": "stdout",
     "output_type": "stream",
     "text": [
      "21\n",
      "[10, 6, 9, 10, 15, 21]\n"
     ]
    }
   ],
   "source": [
    "# n = int(input())\n",
    "# a = list(map(int, input().split()))\n",
    "\n",
    "n = 10\n",
    "a =[10, -4, 3, 1, 5, 6, -35, 12, 21, -1 ]\n",
    "# a =[2, 1, -4, 3, 4, -4, 6, 5, -5, 1]\n",
    "for i in range(1, n):\n",
    "    a[i] = max(a[i], a[i-1] + a[i])\n",
    "print(max(a))\n",
    "print(a)"
   ]
  }
 ],
 "metadata": {
  "kernelspec": {
   "display_name": "Python 3",
   "language": "python",
   "name": "python3"
  },
  "language_info": {
   "codemirror_mode": {
    "name": "ipython",
    "version": 3
   },
   "file_extension": ".py",
   "mimetype": "text/x-python",
   "name": "python",
   "nbconvert_exporter": "python",
   "pygments_lexer": "ipython3",
   "version": "3.11.4"
  }
 },
 "nbformat": 4,
 "nbformat_minor": 2
}
