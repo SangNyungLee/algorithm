{
 "cells": [
  {
   "cell_type": "code",
   "execution_count": 15,
   "metadata": {},
   "outputs": [
    {
     "name": "stdout",
     "output_type": "stream",
     "text": [
      "1048576\n"
     ]
    }
   ],
   "source": [
    "memo = {}\n",
    "\n",
    "def w(a, b, c):\n",
    "    if a <= 0 or b <= 0 or c <= 0:\n",
    "        # print(memo)\n",
    "        if (a, b, c) in memo:\n",
    "            return memo[(a, b, c)]\n",
    "        else:\n",
    "            memo[(a, b, c)] = 1\n",
    "            return memo[(a, b, c)]\n",
    "    elif a > 20 or b > 20 or c > 20:\n",
    "        return memo[(20,20,20)]\n",
    "    elif a < b and b < c:\n",
    "        if (a, b, c) not in memo:\n",
    "            memo[(a, b, c)] = w(a, b, c - 1) + w(a, b - 1, c - 1) - w(a, b - 1, c)\n",
    "        return memo[(a, b, c)]\n",
    "    else:       \n",
    "        if (a, b, c) not in memo:\n",
    "             memo[(a, b, c)] = w(a - 1, b, c) + w(a - 1, b - 1, c) + w(a - 1, b, c - 1) - w(a - 1, b - 1, c - 1)\n",
    "        return memo[(a, b, c)]\n",
    "\n",
    "print(w(20,20,20))\n"
   ]
  },
  {
   "cell_type": "code",
   "execution_count": 5,
   "metadata": {},
   "outputs": [
    {
     "name": "stdout",
     "output_type": "stream",
     "text": [
      "w(10, 10, 10) = 1024\n"
     ]
    }
   ],
   "source": [
    "import sys\n",
    "memo = {}\n",
    "\n",
    "def w(a, b, c):\n",
    "    if (a, b, c) in memo:\n",
    "        return memo[(a, b, c)]\n",
    "    elif a <= 0 or b <= 0 or c <= 0:\n",
    "        return 1\n",
    "    elif a > 20 or b > 20 or c > 20:\n",
    "        result = w(20, 20, 20)\n",
    "    elif a < b and b < c:\n",
    "        result = w(a, b, c - 1) + w(a, b - 1, c - 1) - w(a, b - 1, c)\n",
    "    else:\n",
    "        result = w(a - 1, b, c) + w(a - 1, b - 1, c) + w(a - 1, b, c - 1) - w(a - 1, b - 1, c - 1)\n",
    "    \n",
    "    memo[(a, b, c)] = result\n",
    "    return result\n",
    "\n",
    "while True:\n",
    "    a,b,c = list(map(int, sys.stdin.readline.rstrip().split()))\n",
    "    if a == -1 and b == -1 and c == -1:\n",
    "        break\n",
    "    else:\n",
    "        result = w(a,b,c)\n",
    "        print(\"w(\" + str(a) + \", \" + str(b) + \", \" + str(c) + \") = \" + str(result))"
   ]
  }
 ],
 "metadata": {
  "kernelspec": {
   "display_name": "Python 3",
   "language": "python",
   "name": "python3"
  },
  "language_info": {
   "codemirror_mode": {
    "name": "ipython",
    "version": 3
   },
   "file_extension": ".py",
   "mimetype": "text/x-python",
   "name": "python",
   "nbconvert_exporter": "python",
   "pygments_lexer": "ipython3",
   "version": "3.11.4"
  }
 },
 "nbformat": 4,
 "nbformat_minor": 2
}
