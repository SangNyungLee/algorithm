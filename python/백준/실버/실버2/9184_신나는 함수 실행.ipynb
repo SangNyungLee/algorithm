{
 "cells": [
  {
   "cell_type": "code",
   "execution_count": 13,
   "metadata": {},
   "outputs": [
    {
     "name": "stdout",
     "output_type": "stream",
     "text": [
      "2 2 2\n",
      "1 2 2\n",
      "1 1 2\n"
     ]
    },
    {
     "ename": "TypeError",
     "evalue": "unsupported operand type(s) for +: 'NoneType' and 'NoneType'",
     "output_type": "error",
     "traceback": [
      "\u001b[1;31m---------------------------------------------------------------------------\u001b[0m",
      "\u001b[1;31mTypeError\u001b[0m                                 Traceback (most recent call last)",
      "\u001b[1;32mc:\\Users\\SangNyung\\Desktop\\github\\algorithm\\python\\백준\\실버\\실버2\\9184_신나는 함수 실행.ipynb Cell 1\u001b[0m line \u001b[0;36m2\n\u001b[0;32m     <a href='vscode-notebook-cell:/c%3A/Users/SangNyung/Desktop/github/algorithm/python/%EB%B0%B1%EC%A4%80/%EC%8B%A4%EB%B2%84/%EC%8B%A4%EB%B2%842/9184_%EC%8B%A0%EB%82%98%EB%8A%94%20%ED%95%A8%EC%88%98%20%EC%8B%A4%ED%96%89.ipynb#W0sZmlsZQ%3D%3D?line=20'>21</a>\u001b[0m         \u001b[39mif\u001b[39;00m (a, b, c) \u001b[39mnot\u001b[39;00m \u001b[39min\u001b[39;00m memo:\n\u001b[0;32m     <a href='vscode-notebook-cell:/c%3A/Users/SangNyung/Desktop/github/algorithm/python/%EB%B0%B1%EC%A4%80/%EC%8B%A4%EB%B2%84/%EC%8B%A4%EB%B2%842/9184_%EC%8B%A0%EB%82%98%EB%8A%94%20%ED%95%A8%EC%88%98%20%EC%8B%A4%ED%96%89.ipynb#W0sZmlsZQ%3D%3D?line=21'>22</a>\u001b[0m             \u001b[39mreturn\u001b[39;00m memo[(a, b, c)]\n\u001b[1;32m---> <a href='vscode-notebook-cell:/c%3A/Users/SangNyung/Desktop/github/algorithm/python/%EB%B0%B1%EC%A4%80/%EC%8B%A4%EB%B2%84/%EC%8B%A4%EB%B2%842/9184_%EC%8B%A0%EB%82%98%EB%8A%94%20%ED%95%A8%EC%88%98%20%EC%8B%A4%ED%96%89.ipynb#W0sZmlsZQ%3D%3D?line=23'>24</a>\u001b[0m \u001b[39mprint\u001b[39m(w(\u001b[39m2\u001b[39;49m,\u001b[39m2\u001b[39;49m,\u001b[39m2\u001b[39;49m))\n",
      "\u001b[1;32mc:\\Users\\SangNyung\\Desktop\\github\\algorithm\\python\\백준\\실버\\실버2\\9184_신나는 함수 실행.ipynb Cell 1\u001b[0m line \u001b[0;36m2\n\u001b[0;32m     <a href='vscode-notebook-cell:/c%3A/Users/SangNyung/Desktop/github/algorithm/python/%EB%B0%B1%EC%A4%80/%EC%8B%A4%EB%B2%84/%EC%8B%A4%EB%B2%842/9184_%EC%8B%A0%EB%82%98%EB%8A%94%20%ED%95%A8%EC%88%98%20%EC%8B%A4%ED%96%89.ipynb#W0sZmlsZQ%3D%3D?line=17'>18</a>\u001b[0m \u001b[39melse\u001b[39;00m:\n\u001b[0;32m     <a href='vscode-notebook-cell:/c%3A/Users/SangNyung/Desktop/github/algorithm/python/%EB%B0%B1%EC%A4%80/%EC%8B%A4%EB%B2%84/%EC%8B%A4%EB%B2%842/9184_%EC%8B%A0%EB%82%98%EB%8A%94%20%ED%95%A8%EC%88%98%20%EC%8B%A4%ED%96%89.ipynb#W0sZmlsZQ%3D%3D?line=18'>19</a>\u001b[0m     \u001b[39mprint\u001b[39m(a,b,c)\n\u001b[1;32m---> <a href='vscode-notebook-cell:/c%3A/Users/SangNyung/Desktop/github/algorithm/python/%EB%B0%B1%EC%A4%80/%EC%8B%A4%EB%B2%84/%EC%8B%A4%EB%B2%842/9184_%EC%8B%A0%EB%82%98%EB%8A%94%20%ED%95%A8%EC%88%98%20%EC%8B%A4%ED%96%89.ipynb#W0sZmlsZQ%3D%3D?line=19'>20</a>\u001b[0m     memo[(a, b, c)] \u001b[39m=\u001b[39m w(a \u001b[39m-\u001b[39;49m \u001b[39m1\u001b[39;49m, b, c) \u001b[39m+\u001b[39;49m w(a \u001b[39m-\u001b[39;49m \u001b[39m1\u001b[39;49m, b \u001b[39m-\u001b[39;49m \u001b[39m1\u001b[39;49m, c) \u001b[39m+\u001b[39m w(a \u001b[39m-\u001b[39m \u001b[39m1\u001b[39m, b, c \u001b[39m-\u001b[39m \u001b[39m1\u001b[39m) \u001b[39m-\u001b[39m w(a \u001b[39m-\u001b[39m \u001b[39m1\u001b[39m, b \u001b[39m-\u001b[39m \u001b[39m1\u001b[39m, c \u001b[39m-\u001b[39m \u001b[39m1\u001b[39m)\n\u001b[0;32m     <a href='vscode-notebook-cell:/c%3A/Users/SangNyung/Desktop/github/algorithm/python/%EB%B0%B1%EC%A4%80/%EC%8B%A4%EB%B2%84/%EC%8B%A4%EB%B2%842/9184_%EC%8B%A0%EB%82%98%EB%8A%94%20%ED%95%A8%EC%88%98%20%EC%8B%A4%ED%96%89.ipynb#W0sZmlsZQ%3D%3D?line=20'>21</a>\u001b[0m     \u001b[39mif\u001b[39;00m (a, b, c) \u001b[39mnot\u001b[39;00m \u001b[39min\u001b[39;00m memo:\n\u001b[0;32m     <a href='vscode-notebook-cell:/c%3A/Users/SangNyung/Desktop/github/algorithm/python/%EB%B0%B1%EC%A4%80/%EC%8B%A4%EB%B2%84/%EC%8B%A4%EB%B2%842/9184_%EC%8B%A0%EB%82%98%EB%8A%94%20%ED%95%A8%EC%88%98%20%EC%8B%A4%ED%96%89.ipynb#W0sZmlsZQ%3D%3D?line=21'>22</a>\u001b[0m         \u001b[39mreturn\u001b[39;00m memo[(a, b, c)]\n",
      "\u001b[1;31mTypeError\u001b[0m: unsupported operand type(s) for +: 'NoneType' and 'NoneType'"
     ]
    }
   ],
   "source": [
    "memo = {}\n",
    "\n",
    "def w(a, b, c):\n",
    "    if a <= 0 or b <= 0 or c <= 0:\n",
    "        # print(memo)\n",
    "        if (a, b, c) in memo:\n",
    "            return memo[(a, b, c)]\n",
    "        else:\n",
    "            memo[(a, b, c)] = 1\n",
    "            return memo[(a, b, c)]\n",
    "    elif a > 20 or b > 20 or c > 20:\n",
    "        return memo[(20,20,20)]\n",
    "    elif a < b and b < c:\n",
    "        if (a, b, c) not in memo:\n",
    "            memo[(a, b, c)] = w(a, b, c - 1) + w(a, b - 1, c - 1) - w(a, b - 1, c)\n",
    "        return memo[(a, b, c)]\n",
    "    else:       \n",
    "        if (a, b, c) not in memo:\n",
    "             memo[(a, b, c)] = w(a - 1, b, c) + w(a - 1, b - 1, c) + w(a - 1, b, c - 1) - w(a - 1, b - 1, c - 1)\n",
    "        return memo[(a, b, c)]\n",
    "\n",
    "print(w(2,2,2))\n"
   ]
  },
  {
   "cell_type": "code",
   "execution_count": 5,
   "metadata": {},
   "outputs": [
    {
     "name": "stdout",
     "output_type": "stream",
     "text": [
      "w(10, 10, 10) = 1024\n"
     ]
    }
   ],
   "source": [
    "import sys\n",
    "memo = {}\n",
    "\n",
    "def w(a, b, c):\n",
    "    if (a, b, c) in memo:\n",
    "        return memo[(a, b, c)]\n",
    "    elif a <= 0 or b <= 0 or c <= 0:\n",
    "        return 1\n",
    "    elif a > 20 or b > 20 or c > 20:\n",
    "        result = w(20, 20, 20)\n",
    "    elif a < b and b < c:\n",
    "        result = w(a, b, c - 1) + w(a, b - 1, c - 1) - w(a, b - 1, c)\n",
    "    else:\n",
    "        result = w(a - 1, b, c) + w(a - 1, b - 1, c) + w(a - 1, b, c - 1) - w(a - 1, b - 1, c - 1)\n",
    "    \n",
    "    memo[(a, b, c)] = result\n",
    "    return result\n",
    "\n",
    "while True:\n",
    "    a,b,c = list(map(int, sys.stdin.readline.rstrip().split()))\n",
    "    if a == -1 and b == -1 and c == -1:\n",
    "        break\n",
    "    else:\n",
    "        result = w(a,b,c)\n",
    "        print(\"w(\" + str(a) + \", \" + str(b) + \", \" + str(c) + \") = \" + str(result))"
   ]
  }
 ],
 "metadata": {
  "kernelspec": {
   "display_name": "Python 3",
   "language": "python",
   "name": "python3"
  },
  "language_info": {
   "codemirror_mode": {
    "name": "ipython",
    "version": 3
   },
   "file_extension": ".py",
   "mimetype": "text/x-python",
   "name": "python",
   "nbconvert_exporter": "python",
   "pygments_lexer": "ipython3",
   "version": "3.11.4"
  }
 },
 "nbformat": 4,
 "nbformat_minor": 2
}
