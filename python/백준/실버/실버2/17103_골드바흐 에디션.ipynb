{
 "cells": [
  {
   "cell_type": "code",
   "execution_count": 2,
   "metadata": {},
   "outputs": [],
   "source": [
    "import sys\n",
    "input = sys.stdin.readline\n",
    "\n",
    "#소수 골라내기 (에라토스테네스의 체 활용)\n",
    "primeNum = [False, False] + [True]*999999\n",
    "\n",
    "for i in range(2, 1000001):\n",
    "    if primeNum[i]:\n",
    "        for j in range(i*2, 1000001, i):\n",
    "            primeNum[j] = False\n",
    "\n",
    "T = int(input())\n",
    "\n",
    "#문제 풀이\n",
    "for i in range(T):\n",
    "    count = 0\n",
    "    N = int(input())\n",
    "    for j in range(2, N//2+1):\n",
    "        if primeNum[j] and primeNum[N-j]:\n",
    "            count += 1\n",
    "    print(count)"
   ]
  }
 ],
 "metadata": {
  "kernelspec": {
   "display_name": "Python 3",
   "language": "python",
   "name": "python3"
  },
  "language_info": {
   "codemirror_mode": {
    "name": "ipython",
    "version": 3
   },
   "file_extension": ".py",
   "mimetype": "text/x-python",
   "name": "python",
   "nbconvert_exporter": "python",
   "pygments_lexer": "ipython3",
   "version": "3.11.4"
  }
 },
 "nbformat": 4,
 "nbformat_minor": 2
}
