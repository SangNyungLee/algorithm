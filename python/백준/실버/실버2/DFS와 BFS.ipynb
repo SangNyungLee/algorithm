{
 "cells": [
  {
   "cell_type": "code",
   "execution_count": 13,
   "metadata": {},
   "outputs": [
    {
     "name": "stdout",
     "output_type": "stream",
     "text": [
      "1 2 4 3 \n",
      "1 2 3 4 "
     ]
    }
   ],
   "source": [
    "from collections import deque\n",
    "def dfs(idx):\n",
    "    global visited\n",
    "    visited[idx] = True\n",
    "    print(idx, end = ' ')\n",
    "    for next in range(1, N + 1):\n",
    "        if not visited[next] and graph[idx][next]:\n",
    "            dfs(next)\n",
    "\n",
    "def bfs():\n",
    "    global q, visited\n",
    "    while q:\n",
    "        cur = q.pop(0)\n",
    "        print(cur, end=' ')\n",
    "        for next in range(1, N + 1):\n",
    "            if not visited[next] and graph[cur][next]:\n",
    "                visited[next] = True\n",
    "                q.append(next)\n",
    "# n = 정점의 개수, m = 간선의 개수, v = 시작할 정점의 번호\n",
    "N,M,V = list(map(int, input().split()))\n",
    "graph = [[False] * (N + 1) for _ in range(N + 1)]\n",
    "visited = [False] * (N + 1)\n",
    "\n",
    "# 1. graph 정보 입력\n",
    "for _ in range(M):\n",
    "    a, b = map(int, input().split())\n",
    "    graph[a][b] = True\n",
    "    graph[b][a] = True\n",
    "\n",
    "# 2. dfs\n",
    "dfs(V)\n",
    "print()\n",
    "\n",
    "# 3. bfs\n",
    "visited = [False] * (N + 1)\n",
    "q = [V]\n",
    "visited[V] = True\n",
    "bfs()\n",
    "\n"
   ]
  }
 ],
 "metadata": {
  "kernelspec": {
   "display_name": "Python 3",
   "language": "python",
   "name": "python3"
  },
  "language_info": {
   "codemirror_mode": {
    "name": "ipython",
    "version": 3
   },
   "file_extension": ".py",
   "mimetype": "text/x-python",
   "name": "python",
   "nbconvert_exporter": "python",
   "pygments_lexer": "ipython3",
   "version": "3.11.4"
  }
 },
 "nbformat": 4,
 "nbformat_minor": 2
}
