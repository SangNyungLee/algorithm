{
 "cells": [
  {
   "cell_type": "code",
   "execution_count": 36,
   "metadata": {},
   "outputs": [
    {
     "name": "stdout",
     "output_type": "stream",
     "text": [
      "1\n",
      "4\n",
      "3\n",
      "21\n",
      "135\n",
      "8392\n"
     ]
    }
   ],
   "source": [
    "import math;\n",
    "dic ={i: 0 for i in range(0, 246913)}\n",
    "for i in dic:\n",
    "    num = i\n",
    "    newA = int(math.sqrt(num))\n",
    "    cnt = 0\n",
    "    for i in range(2, newA+1):\n",
    "        if num%i == 0:\n",
    "            cnt += 1\n",
    "            break\n",
    "    if(cnt == 0 and i != 1):\n",
    "        dic[num] = 1\n",
    "    if(num > 1):\n",
    "        dic[num] = dic[num]+dic[num-1]\n",
    "while True:\n",
    "    a = int(input())\n",
    "    if a == 0:\n",
    "        break\n",
    "    else:\n",
    "        print(dic[a*2] - dic[a])"
   ]
  }
 ],
 "metadata": {
  "kernelspec": {
   "display_name": "Python 3",
   "language": "python",
   "name": "python3"
  },
  "language_info": {
   "codemirror_mode": {
    "name": "ipython",
    "version": 3
   },
   "file_extension": ".py",
   "mimetype": "text/x-python",
   "name": "python",
   "nbconvert_exporter": "python",
   "pygments_lexer": "ipython3",
   "version": "3.11.4"
  }
 },
 "nbformat": 4,
 "nbformat_minor": 2
}
