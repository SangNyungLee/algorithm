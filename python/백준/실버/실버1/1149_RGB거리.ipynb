{
 "cells": [
  {
   "cell_type": "code",
   "execution_count": null,
   "metadata": {},
   "outputs": [],
   "source": [
    "n = int(input())\n",
    "fee = 0\n",
    "check = \"\"\n",
    "r,g,b = map(list(int, input().split()))\n",
    "for i in range(n-1):\n",
    "    r,g,b = map(list(int, input().split()))\n",
    "    min(r,g,b)\n",
    "\n",
    "    "
   ]
  }
 ],
 "metadata": {
  "language_info": {
   "name": "python"
  }
 },
 "nbformat": 4,
 "nbformat_minor": 2
}
