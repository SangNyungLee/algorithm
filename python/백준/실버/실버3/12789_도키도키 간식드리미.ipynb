{
 "cells": [
  {
   "cell_type": "code",
   "execution_count": 37,
   "metadata": {},
   "outputs": [
    {
     "name": "stdout",
     "output_type": "stream",
     "text": [
      "Nice\n"
     ]
    }
   ],
   "source": [
    "from collections import deque\n",
    "import copy\n",
    "a = int(input())\n",
    "arr = deque(list(map(int, input().split())))\n",
    "stack= deque()\n",
    "ticket = 1\n",
    "student = len(arr)\n",
    "newArr = deque()\n",
    "#반례\n",
    "#5, 3 2 1 5 4\n",
    "# 학생들이 줄 서있는 곳에서는 무조건 n만큼 움직임\n",
    "for i in copy.deepcopy(arr):\n",
    "    # 스택에서 들어갈 수 있는지 확인하기\n",
    "    if stack:\n",
    "        while True:\n",
    "            if not stack or stack[-1] != ticket:\n",
    "                break\n",
    "            if stack[-1] == ticket:\n",
    "                ticket +=1\n",
    "                stack.pop()\n",
    "\n",
    "    #먼저 줄 서 있는애들이 들어갈 수 있는지 확인하기\n",
    "    #들어갈 수 있으면 추가해주고 배열에서 빼기\n",
    "    if i == ticket:\n",
    "        ticket+=1\n",
    "        arr.popleft()\n",
    "    else:\n",
    "        arr.popleft()\n",
    "        stack.append(i)\n",
    "\n",
    "if stack:\n",
    "    while True:\n",
    "        if not stack:\n",
    "            break\n",
    "        element = stack.pop()\n",
    "        if element == ticket:\n",
    "            ticket+=1\n",
    "        else:\n",
    "            break\n",
    "if not arr and not stack:\n",
    "    print(\"Nice\")\n",
    "else:\n",
    "    print(\"Sad\")"
   ]
  }
 ],
 "metadata": {
  "kernelspec": {
   "display_name": "Python 3",
   "language": "python",
   "name": "python3"
  },
  "language_info": {
   "codemirror_mode": {
    "name": "ipython",
    "version": 3
   },
   "file_extension": ".py",
   "mimetype": "text/x-python",
   "name": "python",
   "nbconvert_exporter": "python",
   "pygments_lexer": "ipython3",
   "version": "3.11.4"
  }
 },
 "nbformat": 4,
 "nbformat_minor": 2
}
