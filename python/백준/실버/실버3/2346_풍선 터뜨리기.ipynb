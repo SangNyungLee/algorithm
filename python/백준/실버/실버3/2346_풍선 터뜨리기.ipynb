{
 "cells": [
  {
   "cell_type": "code",
   "execution_count": 6,
   "metadata": {},
   "outputs": [
    {
     "name": "stdout",
     "output_type": "stream",
     "text": [
      "1 5 3 2 4 "
     ]
    }
   ],
   "source": [
    "from collections import deque\n",
    "\n",
    "a = int(input())\n",
    "arr = list(map(int, input().split()))\n",
    "deq = deque((idx+1, value) for idx, value in enumerate(arr))\n",
    "result = []\n",
    "\n",
    "# 제일 처음에 움직이는 방향\n",
    "move = deq[0][1]\n",
    "result.append(deq.popleft())\n",
    "\n",
    "while deq:\n",
    "    # move가 양수일 때\n",
    "    \n",
    "    if move>0:\n",
    "        for i in range(move-1):\n",
    "            deq.append(deq.popleft())\n",
    "        move = deq[0][1]\n",
    "        result.append(deq.popleft())\n",
    "    \n",
    "    # move가 음수일 떄\n",
    "    else:\n",
    "        for i in range(abs(move)-1):\n",
    "            deq.appendleft(deq.pop())\n",
    "        move = deq[-1][1]\n",
    "        result.append(deq.pop())\n",
    "        \n",
    "for idx, value in result:\n",
    "    print(idx, end=\" \")"
   ]
  }
 ],
 "metadata": {
  "kernelspec": {
   "display_name": "Python 3",
   "language": "python",
   "name": "python3"
  },
  "language_info": {
   "codemirror_mode": {
    "name": "ipython",
    "version": 3
   },
   "file_extension": ".py",
   "mimetype": "text/x-python",
   "name": "python",
   "nbconvert_exporter": "python",
   "pygments_lexer": "ipython3",
   "version": "3.11.4"
  }
 },
 "nbformat": 4,
 "nbformat_minor": 2
}
