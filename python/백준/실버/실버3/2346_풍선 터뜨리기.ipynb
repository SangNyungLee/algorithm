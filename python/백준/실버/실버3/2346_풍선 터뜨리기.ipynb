{
 "cells": [
  {
   "cell_type": "code",
   "execution_count": 56,
   "metadata": {},
   "outputs": [
    {
     "name": "stdout",
     "output_type": "stream",
     "text": [
      "2\n",
      "[(1, -5), (5, -5)]\n",
      "2\n",
      "[(1, -5), (5, -5), (4, -5)]\n",
      "2\n",
      "[(1, -5), (5, -5), (4, -5), (3, -5)]\n",
      "2\n",
      "[(1, -5), (5, -5), (4, -5), (3, -5), (2, -5)]\n",
      "1 5 4 3 2 "
     ]
    }
   ],
   "source": [
    "from collections import deque\n",
    "\n",
    "result = []\n",
    "a = int(input())\n",
    "arr = list(map(int, input().split()))\n",
    "deq = deque()\n",
    "for idx, value in enumerate(arr):\n",
    "    deq.append((idx+1,value))\n",
    "first = deq[0][1]\n",
    "result.append(deq.popleft())\n",
    " \n",
    "while deq:\n",
    "    print(deq[0][0])\n",
    "    if deq[0][1] < 0:\n",
    "        count = len(deq)%first\n",
    "        for j in range(count):\n",
    "            deq.appendleft(deq.pop())\n",
    "            first = deq[0][1]\n",
    "        result.append(deq.pop())\n",
    "        print(result)\n",
    "    else:\n",
    "        count = len(deq)%first\n",
    "        print(count)\n",
    "        for j in range(abs(count)):\n",
    "            deq.append(deq.popleft())\n",
    "            first = deq[-1][1]\n",
    "        result.append(deq.popleft())\n",
    "        print(result)\n",
    "\n",
    "for idx, value in result:\n",
    "    print(idx, end=\" \")\n"
   ]
  }
 ],
 "metadata": {
  "kernelspec": {
   "display_name": "Python 3",
   "language": "python",
   "name": "python3"
  },
  "language_info": {
   "codemirror_mode": {
    "name": "ipython",
    "version": 3
   },
   "file_extension": ".py",
   "mimetype": "text/x-python",
   "name": "python",
   "nbconvert_exporter": "python",
   "pygments_lexer": "ipython3",
   "version": "3.11.4"
  }
 },
 "nbformat": 4,
 "nbformat_minor": 2
}
