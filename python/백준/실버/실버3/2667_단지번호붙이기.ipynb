{
 "cells": [
  {
   "cell_type": "code",
   "execution_count": 28,
   "metadata": {},
   "outputs": [
    {
     "name": "stdout",
     "output_type": "stream",
     "text": [
      "2\n",
      "1\n",
      "3\n"
     ]
    }
   ],
   "source": [
    "# DFS 풀이\n",
    "N = int(input())\n",
    "graph = []\n",
    "q = []\n",
    "num = 0\n",
    "for i in range(N):\n",
    "    graph.append(list(map(int,input())))\n",
    "\n",
    "dx = [0,0,1,-1]\n",
    "dy = [1,-1,0,0]\n",
    "def dfs(x,y):\n",
    "    global result\n",
    "    if x <= -1 or y <= -1 or x >= N or y >= N:\n",
    "        return False\n",
    "    if graph[x][y] == 1:\n",
    "        graph[x][y] = 0\n",
    "        result += 1\n",
    "        for i in range(4):\n",
    "            nx = x + dx[i]\n",
    "            ny = y + dy[i]\n",
    "            dfs(nx,ny)\n",
    "        return True\n",
    "    return False\n",
    "\n",
    "count = 0\n",
    "result = 0\n",
    "\n",
    "for i in range(N):\n",
    "    for j in range(N):\n",
    "        if dfs(i,j) == True:\n",
    "            q.append(result)\n",
    "            num += 1\n",
    "            result = 0\n",
    "print(num)\n",
    "q.sort()\n",
    "for i in q:\n",
    "    print(i)"
   ]
  },
  {
   "cell_type": "code",
   "execution_count": 1,
   "metadata": {},
   "outputs": [
    {
     "name": "stdout",
     "output_type": "stream",
     "text": [
      "3\n",
      "7\n",
      "8\n",
      "9\n"
     ]
    }
   ],
   "source": [
    "# BFS 풀이\n",
    "from collections import deque\n",
    "\n",
    "dx = [0,0,-1,1]\n",
    "dy = [1,-1,0,0]\n",
    "\n",
    "def bfs(graph, x, y):\n",
    "    queue = deque()\n",
    "    queue.append((x,y))\n",
    "    graph[x][y] = 0\n",
    "    count = 1\n",
    "\n",
    "    while queue:\n",
    "        x, y = queue.popleft()\n",
    "        for i in range(4):\n",
    "            nx = x + dx[i]\n",
    "            ny = y + dy[i]\n",
    "            if nx < 0 or ny < 0 or nx >= N or ny >= N:\n",
    "                continue\n",
    "            if graph[nx][ny] == 1:\n",
    "                graph[nx][ny] = 0\n",
    "                queue.append((nx,ny))\n",
    "                count += 1\n",
    "    return count\n",
    "\n",
    "N = int(input())\n",
    "graph = []\n",
    "for i in range(N):\n",
    "    graph.append(list(map(int, input())))\n",
    "\n",
    "cnt = []\n",
    "for i in range(N):\n",
    "    for j in range(N):\n",
    "        if graph[i][j] == 1:\n",
    "            cnt.append(bfs(graph, i, j))\n",
    "\n",
    "cnt.sort()\n",
    "print(len(cnt))\n",
    "for i in cnt:\n",
    "    print(i)"
   ]
  }
 ],
 "metadata": {
  "kernelspec": {
   "display_name": "Python 3",
   "language": "python",
   "name": "python3"
  },
  "language_info": {
   "codemirror_mode": {
    "name": "ipython",
    "version": 3
   },
   "file_extension": ".py",
   "mimetype": "text/x-python",
   "name": "python",
   "nbconvert_exporter": "python",
   "pygments_lexer": "ipython3",
   "version": "3.11.4"
  }
 },
 "nbformat": 4,
 "nbformat_minor": 2
}
