{
 "cells": [
  {
   "cell_type": "code",
   "execution_count": 28,
   "metadata": {},
   "outputs": [
    {
     "name": "stdout",
     "output_type": "stream",
     "text": [
      "2\n",
      "1\n",
      "3\n"
     ]
    }
   ],
   "source": [
    "# 지도의 크기\n",
    "N = int(input())\n",
    "graph = []\n",
    "q = []\n",
    "visited = [False]\n",
    "num = 0\n",
    "for i in range(N):\n",
    "    graph.append(list(map(int,input())))\n",
    "\n",
    "dx = [0,0,1,-1]\n",
    "dy = [1,-1,0,0]\n",
    "def dfs(x,y):\n",
    "    global result\n",
    "    if x <= -1 or y <= -1 or x >= N or y >= N:\n",
    "        return False\n",
    "    if graph[x][y] == 1:\n",
    "        graph[x][y] = 0\n",
    "        result += 1\n",
    "        for i in range(4):\n",
    "            nx = x + dx[i]\n",
    "            ny = y + dy[i]\n",
    "            dfs(nx,ny)\n",
    "        return True\n",
    "    return False\n",
    "\n",
    "count = 0\n",
    "result = 0\n",
    "\n",
    "for i in range(N):\n",
    "    for j in range(N):\n",
    "        if dfs(i,j) == True:\n",
    "            q.append(result)\n",
    "            num += 1\n",
    "            result = 0\n",
    "print(num)\n",
    "q.sort()\n",
    "for i in q:\n",
    "    print(i)"
   ]
  }
 ],
 "metadata": {
  "kernelspec": {
   "display_name": "Python 3",
   "language": "python",
   "name": "python3"
  },
  "language_info": {
   "codemirror_mode": {
    "name": "ipython",
    "version": 3
   },
   "file_extension": ".py",
   "mimetype": "text/x-python",
   "name": "python",
   "nbconvert_exporter": "python",
   "pygments_lexer": "ipython3",
   "version": "3.11.4"
  }
 },
 "nbformat": 4,
 "nbformat_minor": 2
}
