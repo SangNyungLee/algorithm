{
 "cells": [
  {
   "cell_type": "code",
   "execution_count": 1,
   "metadata": {},
   "outputs": [
    {
     "name": "stdout",
     "output_type": "stream",
     "text": [
      "1 2 3 5 6 4\n"
     ]
    }
   ],
   "source": [
    "def dfs(idx):\n",
    "    global result\n",
    "    visited[idx] = True\n",
    "    print(idx, end=' ')\n",
    "    for i in range(N + 1):\n",
    "        if not visited[i] and graph[idx][i]:\n",
    "            result = result + 1\n",
    "            dfs(i)            \n",
    "\n",
    "#컴퓨터의 수\n",
    "N = int(input())\n",
    "# 간선의 수\n",
    "M = int(input())\n",
    "\n",
    "graph = [[False] * (N + 1) for _ in range(N + 1)]\n",
    "visited = [False] * (N + 1)\n",
    "\n",
    "for _ in range(M):\n",
    "    a,b = map(int, input().split())\n",
    "    graph[a][b] = True\n",
    "    graph[b][a] = True\n",
    "\n",
    "result = 0\n",
    "dfs(1)\n",
    "print(result)"
   ]
  },
  {
   "cell_type": "code",
   "execution_count": 3,
   "metadata": {},
   "outputs": [
    {
     "name": "stdout",
     "output_type": "stream",
     "text": [
      "4\n"
     ]
    }
   ],
   "source": [
    "from collections import deque\n",
    "\n",
    "def bfs():\n",
    "    global result\n",
    "    while q:\n",
    "        cur = q.popleft()\n",
    "        for i in range(N + 1):\n",
    "            if not visited[i] and graph[cur][i]:\n",
    "                result = result + 1\n",
    "                visited[i] = True\n",
    "                q.append(i)\n",
    "\n",
    "N = int(input())\n",
    "M = int(input())\n",
    "\n",
    "graph = [[False] * (N + 1) for _ in range(N + 1)]\n",
    "visited = [False] * (N + 1)\n",
    "\n",
    "for _ in range(M):\n",
    "    a,b = map(int, input().split())\n",
    "    graph[a][b] = True\n",
    "    graph[b][a] = True\n",
    "\n",
    "result = 0\n",
    "q = deque([1])\n",
    "visited[1] = True\n",
    "bfs()\n",
    "print(result)"
   ]
  }
 ],
 "metadata": {
  "kernelspec": {
   "display_name": "Python 3",
   "language": "python",
   "name": "python3"
  },
  "language_info": {
   "codemirror_mode": {
    "name": "ipython",
    "version": 3
   },
   "file_extension": ".py",
   "mimetype": "text/x-python",
   "name": "python",
   "nbconvert_exporter": "python",
   "pygments_lexer": "ipython3",
   "version": "3.11.4"
  }
 },
 "nbformat": 4,
 "nbformat_minor": 2
}
