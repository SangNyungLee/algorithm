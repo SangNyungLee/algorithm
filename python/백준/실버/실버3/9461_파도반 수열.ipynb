{
 "cells": [
  {
   "cell_type": "code",
   "execution_count": 9,
   "metadata": {},
   "outputs": [
    {
     "name": "stdout",
     "output_type": "stream",
     "text": [
      "16\n"
     ]
    }
   ],
   "source": [
    "d = [0, 1, 1, 1, 2, 2] + [0]*95\n",
    "n = int(input())\n",
    "for i in range(n):\n",
    "    a = int(input())\n",
    "    if a >= 6:\n",
    "        for j in range(6,a+1):\n",
    "            d[j] = d[j-1] + d[j-5]\n",
    "    print(d[a])"
   ]
  }
 ],
 "metadata": {
  "kernelspec": {
   "display_name": "Python 3",
   "language": "python",
   "name": "python3"
  },
  "language_info": {
   "codemirror_mode": {
    "name": "ipython",
    "version": 3
   },
   "file_extension": ".py",
   "mimetype": "text/x-python",
   "name": "python",
   "nbconvert_exporter": "python",
   "pygments_lexer": "ipython3",
   "version": "3.11.4"
  }
 },
 "nbformat": 4,
 "nbformat_minor": 2
}
