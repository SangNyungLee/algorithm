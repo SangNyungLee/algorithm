{
 "cells": [
  {
   "cell_type": "code",
   "execution_count": 12,
   "metadata": {},
   "outputs": [
    {
     "name": "stdout",
     "output_type": "stream",
     "text": [
      "31 35\n",
      "31 35\n"
     ]
    }
   ],
   "source": [
    "#최대공약수\n",
    "def gcd(a,b):\n",
    "    if b==0:\n",
    "        return a\n",
    "    else:\n",
    "        return gcd(b,a%b)\n",
    "#최소공배수\n",
    "def lcm(a,b):\n",
    "    return (a*b)//gcd(a,b)\n",
    "a,b = list(map(int, input().split()))\n",
    "c,d = list(map(int, input().split()))\n",
    "\n",
    "\n",
    "#분모\n",
    "numer = (lcm(b,d)//b*a) + (lcm(b,d)//d*c)\n",
    "deno = lcm(b,d)\n",
    "print(numer//gcd(numer, deno), deno//gcd(numer, deno))"
   ]
  }
 ],
 "metadata": {
  "kernelspec": {
   "display_name": "Python 3",
   "language": "python",
   "name": "python3"
  },
  "language_info": {
   "codemirror_mode": {
    "name": "ipython",
    "version": 3
   },
   "file_extension": ".py",
   "mimetype": "text/x-python",
   "name": "python",
   "nbconvert_exporter": "python",
   "pygments_lexer": "ipython3",
   "version": "3.11.4"
  }
 },
 "nbformat": 4,
 "nbformat_minor": 2
}
