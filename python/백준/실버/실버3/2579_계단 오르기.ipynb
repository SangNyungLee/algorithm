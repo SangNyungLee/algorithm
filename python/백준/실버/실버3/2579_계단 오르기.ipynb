{
 "cells": [
  {
   "cell_type": "code",
   "execution_count": null,
   "metadata": {},
   "outputs": [],
   "source": [
    "n = int(input())\n",
    "dp =[]\n",
    "for i in range(n):\n",
    "    dp.append(int(input()))\n",
    "\n"
   ]
  }
 ],
 "metadata": {
  "language_info": {
   "name": "python"
  }
 },
 "nbformat": 4,
 "nbformat_minor": 2
}
