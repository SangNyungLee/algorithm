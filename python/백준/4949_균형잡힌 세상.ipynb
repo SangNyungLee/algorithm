{
 "cells": [
  {
   "cell_type": "code",
   "execution_count": 65,
   "metadata": {},
   "outputs": [
    {
     "name": "stdout",
     "output_type": "stream",
     "text": [
      "yes\n"
     ]
    }
   ],
   "source": [
    "while True:\n",
    "    a = input()\n",
    "    stack = []\n",
    "    count = 0\n",
    "    if a == \".\":\n",
    "        break\n",
    "    for i in a:\n",
    "        count +=1\n",
    "        if i == \"(\":\n",
    "            stack.append(i)\n",
    "        elif i == \")\":\n",
    "            if len(stack) == 0:\n",
    "                break\n",
    "            if stack[-1] == \"[\":\n",
    "                break\n",
    "            if stack[-1] == \"(\":\n",
    "                stack.pop()\n",
    "        elif i == \"[\":\n",
    "            stack.append(i)\n",
    "        elif i == \"]\":\n",
    "            if len(stack) == 0:\n",
    "                break\n",
    "            if stack[-1] == \"(\":\n",
    "                break\n",
    "            if stack[-1] == \"[\":\n",
    "                stack.pop()\n",
    "    if count == len(a) and len(stack)== 0:\n",
    "        print(\"yes\")\n",
    "    else:\n",
    "        print(\"no\")"
   ]
  }
 ],
 "metadata": {
  "kernelspec": {
   "display_name": "Python 3",
   "language": "python",
   "name": "python3"
  },
  "language_info": {
   "codemirror_mode": {
    "name": "ipython",
    "version": 3
   },
   "file_extension": ".py",
   "mimetype": "text/x-python",
   "name": "python",
   "nbconvert_exporter": "python",
   "pygments_lexer": "ipython3",
   "version": "3.11.4"
  }
 },
 "nbformat": 4,
 "nbformat_minor": 2
}
