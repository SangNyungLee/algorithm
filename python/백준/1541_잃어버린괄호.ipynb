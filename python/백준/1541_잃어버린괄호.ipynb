{
 "cells": [
  {
   "cell_type": "code",
   "execution_count": 86,
   "metadata": {},
   "outputs": [
    {
     "name": "stdout",
     "output_type": "stream",
     "text": [
      "0\n"
     ]
    }
   ],
   "source": [
    "exp = input().split('-')\n",
    "num = []\n",
    "\n",
    "for i in exp:\n",
    "    sum = 0\n",
    "    tmp = i.split('+')\n",
    "    for j in tmp:\n",
    "        sum += int(j)\n",
    "    num.append(sum)\n",
    "\n",
    "n = num[0]\n",
    "\n",
    "for i in range(1, len(num)):\n",
    "    n -= num[i]\n",
    "print(n)"
   ]
  }
 ],
 "metadata": {
  "kernelspec": {
   "display_name": "Python 3",
   "language": "python",
   "name": "python3"
  },
  "language_info": {
   "codemirror_mode": {
    "name": "ipython",
    "version": 3
   },
   "file_extension": ".py",
   "mimetype": "text/x-python",
   "name": "python",
   "nbconvert_exporter": "python",
   "pygments_lexer": "ipython3",
   "version": "3.11.4"
  },
  "orig_nbformat": 4
 },
 "nbformat": 4,
 "nbformat_minor": 2
}
