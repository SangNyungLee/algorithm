{
 "cells": [
  {
   "cell_type": "code",
   "execution_count": null,
   "metadata": {},
   "outputs": [],
   "source": [
    "import sys\n",
    "\n",
    "k = int(sys.stdin.readline().rstrip())\n",
    "result = 0\n",
    "stack = []\n",
    "for i in range(k):\n",
    "    num = int(sys.stdin.readline().rstrip())\n",
    "    if num == 0:\n",
    "        stack.pop()\n",
    "    else:\n",
    "        stack.append(num)   \n",
    "print(sum(stack))\n"
   ]
  }
 ],
 "metadata": {
  "language_info": {
   "name": "python"
  }
 },
 "nbformat": 4,
 "nbformat_minor": 2
}
