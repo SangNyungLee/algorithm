{
 "cells": [
  {
   "cell_type": "code",
   "execution_count": 22,
   "metadata": {},
   "outputs": [
    {
     "name": "stdout",
     "output_type": "stream",
     "text": [
      "1\n"
     ]
    }
   ],
   "source": [
    "import math;\n",
    "# a = int(input())\n",
    "# for i in range(a):\n",
    "#     num = int(input())\n",
    "\n",
    "#특정 짝수를 입력 받았을 때 그 짝수는 두 소수의 합으로 이뤄져 있어야 됨\n",
    "#범위는 100만까지\n",
    "#일단 입력받아서 다 저장?\n",
    "\n",
    "# 2부터 100만까지 소수인지 아닌지 판별한 후에 다 저장하기\n",
    "\n",
    "for sosu in range(2, 1000001):\n",
    "# sosu = 100\n",
    "    newSosu = int(math.sqrt(sosu))\n",
    "    cnt = 0\n",
    "    for i in range(2, newSosu+1):\n",
    "        if sosu % i == 0:\n",
    "            cnt += 1\n",
    "            break\n",
    "    if(cnt == 0):\n",
    "        dic = {sosu : 0}\n",
    "print(len(dic.items()))\n",
    "\n",
    "# 나보다 작은 소수를 뽑기\n",
    "# 그 소수에서 2개를 뽑아서 조합을 해서 값 만들기\n"
   ]
  }
 ],
 "metadata": {
  "kernelspec": {
   "display_name": "Python 3",
   "language": "python",
   "name": "python3"
  },
  "language_info": {
   "codemirror_mode": {
    "name": "ipython",
    "version": 3
   },
   "file_extension": ".py",
   "mimetype": "text/x-python",
   "name": "python",
   "nbconvert_exporter": "python",
   "pygments_lexer": "ipython3",
   "version": "3.11.4"
  }
 },
 "nbformat": 4,
 "nbformat_minor": 2
}
