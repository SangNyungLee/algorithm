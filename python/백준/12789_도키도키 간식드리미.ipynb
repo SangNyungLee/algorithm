{
 "cells": [
  {
   "cell_type": "code",
   "execution_count": 28,
   "metadata": {},
   "outputs": [
    {
     "name": "stdout",
     "output_type": "stream",
     "text": [
      "stack [2] arr deque([1, 3]) ticket 1\n",
      "stack [2] arr deque([3]) ticket 2\n",
      "stack [2, 3] arr deque([]) ticket 2\n",
      "다음 for문=====\n",
      "stack [2, 3] arr deque([]) ticket 2\n",
      "stack [2, 3] arr deque([]) ticket 2\n",
      "Sad\n"
     ]
    }
   ],
   "source": [
    "from collections import deque\n",
    "a = int(input())\n",
    "arr = deque(list(map(int, input().split())))\n",
    "stack=[]\n",
    "ticket = 1\n",
    "student = len(arr)\n",
    "for i in range(len(arr)):\n",
    "    if ticket == arr[0]:\n",
    "        arr.popleft()\n",
    "        ticket+=1\n",
    "    else:\n",
    "        t= arr[0]\n",
    "        arr.popleft()\n",
    "        stack.append(t)\n",
    "    print(\"stack\", stack, \"arr\", arr, \"ticket\", ticket)\n",
    "print(\"다음 for문=====\")\n",
    "for j in range(len(stack)):\n",
    "    if ticket == stack[-1]:\n",
    "        stack.pop()\n",
    "        ticket+=1\n",
    "    print(\"stack\", stack, \"arr\", arr, \"ticket\", ticket)\n",
    "if ticket > student:\n",
    "    print(\"Nice\")\n",
    "else:\n",
    "    print(\"Sad\")\n"
   ]
  }
 ],
 "metadata": {
  "kernelspec": {
   "display_name": "Python 3",
   "language": "python",
   "name": "python3"
  },
  "language_info": {
   "codemirror_mode": {
    "name": "ipython",
    "version": 3
   },
   "file_extension": ".py",
   "mimetype": "text/x-python",
   "name": "python",
   "nbconvert_exporter": "python",
   "pygments_lexer": "ipython3",
   "version": "3.11.4"
  }
 },
 "nbformat": 4,
 "nbformat_minor": 2
}
