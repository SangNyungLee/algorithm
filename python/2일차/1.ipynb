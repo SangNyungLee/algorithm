{
 "cells": [
  {
   "cell_type": "code",
   "execution_count": 18,
   "metadata": {},
   "outputs": [
    {
     "name": "stdout",
     "output_type": "stream",
     "text": [
      "result 8\n",
      "result2 22\n",
      "result3 62\n",
      "answer 176\n"
     ]
    }
   ],
   "source": [
    "a = 3\n",
    "b = 2\n",
    "c = 3\n",
    "\n",
    "result = a+b+c\n",
    "result2 = a**2 + b**2 + c**2\n",
    "result3 = a**3 + b**3 + c**3\n",
    "answer = 0\n",
    "\n",
    "print('result', result)\n",
    "print('result2', result2)\n",
    "print('result3', result3)\n",
    "\n",
    "if a != b != c != a:\n",
    "    answer = result\n",
    "elif a == b == c:\n",
    "    answer = result * result2 * result3\n",
    "else:\n",
    "    answer = result * result2\n",
    "    \n",
    "print('answer', answer)"
   ]
  }
 ],
 "metadata": {
  "kernelspec": {
   "display_name": "Python 3",
   "language": "python",
   "name": "python3"
  },
  "language_info": {
   "codemirror_mode": {
    "name": "ipython",
    "version": 3
   },
   "file_extension": ".py",
   "mimetype": "text/x-python",
   "name": "python",
   "nbconvert_exporter": "python",
   "pygments_lexer": "ipython3",
   "version": "3.11.4"
  },
  "orig_nbformat": 4
 },
 "nbformat": 4,
 "nbformat_minor": 2
}
