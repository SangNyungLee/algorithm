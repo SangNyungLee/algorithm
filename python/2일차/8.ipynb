{
 "cells": [
  {
   "cell_type": "code",
   "execution_count": 62,
   "metadata": {},
   "outputs": [
    {
     "name": "stdout",
     "output_type": "stream",
     "text": [
      "[3, 4, -1]\n"
     ]
    }
   ],
   "source": [
    "arr = [0, 1, 2, 4, 3]\n",
    "answer = []\n",
    "queries = [[0, 4, 2],[0, 3, 2],[0, 2, 2]]\n",
    "for a, b, c in queries:\n",
    "    arr2 = []\n",
    "\n",
    "    for i, alpha in enumerate(arr):\n",
    "        num = 0\n",
    "        # print(j, alpha)\n",
    "        if i>= a and i<=b and alpha > c:\n",
    "            num +=1\n",
    "            arr2.append(alpha)\n",
    "    \n",
    "    if not arr2:\n",
    "        arr2.append(-1) \n",
    "    answer.append(min(arr2))\n",
    "print(answer)    "
   ]
  },
  {
   "cell_type": "code",
   "execution_count": null,
   "metadata": {},
   "outputs": [],
   "source": []
  }
 ],
 "metadata": {
  "kernelspec": {
   "display_name": "Python 3",
   "language": "python",
   "name": "python3"
  },
  "language_info": {
   "codemirror_mode": {
    "name": "ipython",
    "version": 3
   },
   "file_extension": ".py",
   "mimetype": "text/x-python",
   "name": "python",
   "nbconvert_exporter": "python",
   "pygments_lexer": "ipython3",
   "version": "3.11.4"
  },
  "orig_nbformat": 4
 },
 "nbformat": 4,
 "nbformat_minor": 2
}
