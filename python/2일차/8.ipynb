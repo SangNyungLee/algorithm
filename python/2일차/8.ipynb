{
 "cells": [
  {
   "cell_type": "code",
   "execution_count": 22,
   "metadata": {},
   "outputs": [
    {
     "name": "stdout",
     "output_type": "stream",
     "text": [
      "\n",
      "0 0\n",
      "1 1\n",
      "2 2\n",
      "3 4\n",
      "4 3\n",
      "\n",
      "0 0\n",
      "1 1\n",
      "2 2\n",
      "3 4\n",
      "4 3\n",
      "\n",
      "0 0\n",
      "1 1\n",
      "2 2\n",
      "3 4\n",
      "4 3\n"
     ]
    }
   ],
   "source": [
    "arr = [0, 1, 2, 4, 3]\n",
    "arr2 = []\n",
    "result = []\n",
    "queries = [[0, 4, 2],[0, 3, 2],[0, 2, 2]]\n",
    "a = 0\n",
    "b = 0\n",
    "c = 0\n",
    "for i, alpha in enumerate(queries):\n",
    "    a = alpha[0]\n",
    "    b = alpha[1]\n",
    "    c = alpha[2]\n",
    "    # print(a,b,c)\n",
    "    print(\"\")\n",
    "    # 첫 번째 쿼리의 범위에는 0, 1, 2, 4, 3이 있으며 이 중 2보다 크면서 가장 작은 값은 3입니다.\n",
    "    for i, alpha in enumerate(arr):\n",
    "        print(i, alpha)\n",
    "    # for arr in enumerate(arr):"
   ]
  }
 ],
 "metadata": {
  "kernelspec": {
   "display_name": "Python 3",
   "language": "python",
   "name": "python3"
  },
  "language_info": {
   "codemirror_mode": {
    "name": "ipython",
    "version": 3
   },
   "file_extension": ".py",
   "mimetype": "text/x-python",
   "name": "python",
   "nbconvert_exporter": "python",
   "pygments_lexer": "ipython3",
   "version": "3.11.4"
  },
  "orig_nbformat": 4
 },
 "nbformat": 4,
 "nbformat_minor": 2
}
