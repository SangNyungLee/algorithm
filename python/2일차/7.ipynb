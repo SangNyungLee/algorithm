{
 "cells": [
  {
   "cell_type": "code",
   "execution_count": 12,
   "metadata": {},
   "outputs": [
    {
     "name": "stdout",
     "output_type": "stream",
     "text": [
      "[3, 1, 2, 0, 4]\n",
      "[3, 2, 1, 0, 4]\n",
      "[3, 4, 1, 0, 2]\n"
     ]
    }
   ],
   "source": [
    "arr = [0, 1, 2, 3, 4]\n",
    "queries = [[0, 3],[1, 2],[1, 4]]\n",
    "for i, b in enumerate(queries):\n",
    "    j = b[0]\n",
    "    k = b[1]\n",
    "    arr[j],arr[k] = arr[k],arr[j]\n",
    "    print(arr)\n"
   ]
  }
 ],
 "metadata": {
  "kernelspec": {
   "display_name": "Python 3",
   "language": "python",
   "name": "python3"
  },
  "language_info": {
   "codemirror_mode": {
    "name": "ipython",
    "version": 3
   },
   "file_extension": ".py",
   "mimetype": "text/x-python",
   "name": "python",
   "nbconvert_exporter": "python",
   "pygments_lexer": "ipython3",
   "version": "3.11.4"
  },
  "orig_nbformat": 4
 },
 "nbformat": 4,
 "nbformat_minor": 2
}
