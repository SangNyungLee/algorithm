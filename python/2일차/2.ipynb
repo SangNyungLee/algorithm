{
 "cells": [
  {
   "cell_type": "code",
   "execution_count": 8,
   "metadata": {},
   "outputs": [
    {
     "name": "stdout",
     "output_type": "stream",
     "text": [
      "120\n",
      "225\n"
     ]
    }
   ],
   "source": [
    "num_list = [3,4,5,2,1]\n",
    "result = 1\n",
    "result2 = 0\n",
    "for i in num_list:\n",
    "    result *= i\n",
    "    result2 += i\n",
    "    \n",
    "if result > result2**2:\n",
    "    answer = 0\n",
    "else:\n",
    "    answer = 1"
   ]
  }
 ],
 "metadata": {
  "kernelspec": {
   "display_name": "Python 3",
   "language": "python",
   "name": "python3"
  },
  "language_info": {
   "codemirror_mode": {
    "name": "ipython",
    "version": 3
   },
   "file_extension": ".py",
   "mimetype": "text/x-python",
   "name": "python",
   "nbconvert_exporter": "python",
   "pygments_lexer": "ipython3",
   "version": "3.11.4"
  },
  "orig_nbformat": 4
 },
 "nbformat": 4,
 "nbformat_minor": 2
}
