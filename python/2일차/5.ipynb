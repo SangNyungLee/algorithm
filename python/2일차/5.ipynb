{
 "cells": [
  {
   "cell_type": "code",
   "execution_count": 5,
   "metadata": {},
   "outputs": [
    {
     "name": "stdout",
     "output_type": "stream",
     "text": [
      "60\n"
     ]
    }
   ],
   "source": [
    "control = \"dddddd\"\n",
    "n=0\n",
    "for i in control:\n",
    "    if i == \"w\":\n",
    "        n+= 1\n",
    "    elif i == \"s\":\n",
    "        n-= 1\n",
    "    elif i == \"d\":\n",
    "        n+=10\n",
    "    elif i == \"a\":\n",
    "        n-=10\n",
    "print(n)"
   ]
  }
 ],
 "metadata": {
  "kernelspec": {
   "display_name": "Python 3",
   "language": "python",
   "name": "python3"
  },
  "language_info": {
   "codemirror_mode": {
    "name": "ipython",
    "version": 3
   },
   "file_extension": ".py",
   "mimetype": "text/x-python",
   "name": "python",
   "nbconvert_exporter": "python",
   "pygments_lexer": "ipython3",
   "version": "3.11.4"
  },
  "orig_nbformat": 4
 },
 "nbformat": 4,
 "nbformat_minor": 2
}
