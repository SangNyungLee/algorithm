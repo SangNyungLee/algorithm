{
 "cells": [
  {
   "cell_type": "code",
   "execution_count": 43,
   "metadata": {},
   "outputs": [
    {
     "name": "stdout",
     "output_type": "stream",
     "text": [
      "wsdawsdassw\n"
     ]
    }
   ],
   "source": [
    "numLog = [0, 1, 0, 10, 0, 1, 0, 10, 0, -1, -2, -1]\n",
    "answer =\"\"\n",
    "num = len(numLog)-1\n",
    "\n",
    "for i in range(0,num):\n",
    "    num = numLog[i+1] - numLog[i]\n",
    "    if num == 1:\n",
    "        answer += \"w\"\n",
    "    elif num == -1:\n",
    "        answer += \"s\"\n",
    "    elif num == 10:\n",
    "        answer += \"d\"\n",
    "    elif num == -10:\n",
    "        answer += \"a\"\n",
    "\n",
    "\n",
    "\n"
   ]
  }
 ],
 "metadata": {
  "kernelspec": {
   "display_name": "Python 3",
   "language": "python",
   "name": "python3"
  },
  "language_info": {
   "codemirror_mode": {
    "name": "ipython",
    "version": 3
   },
   "file_extension": ".py",
   "mimetype": "text/x-python",
   "name": "python",
   "nbconvert_exporter": "python",
   "pygments_lexer": "ipython3",
   "version": "3.11.4"
  },
  "orig_nbformat": 4
 },
 "nbformat": 4,
 "nbformat_minor": 2
}
