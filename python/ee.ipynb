{
 "cells": [
  {
   "cell_type": "code",
   "execution_count": 22,
   "metadata": {},
   "outputs": [
    {
     "name": "stdout",
     "output_type": "stream",
     "text": [
      "[[1, 5], [2, 4]]\n"
     ]
    }
   ],
   "source": [
    "data = [5, 2]\n",
    "result = [[i, data[0] - i + 1] for i in range(1, data[0] + 1)]\n",
    "result = result[:data[1]]\n",
    "print(result)\n"
   ]
  },
  {
   "cell_type": "code",
   "execution_count": 7,
   "metadata": {},
   "outputs": [
    {
     "name": "stdout",
     "output_type": "stream",
     "text": [
      "0b1010\n"
     ]
    }
   ],
   "source": [
    "a = bin(10)\n",
    "print(a)"
   ]
  },
  {
   "cell_type": "code",
   "execution_count": 10,
   "metadata": {},
   "outputs": [
    {
     "name": "stdout",
     "output_type": "stream",
     "text": [
      "334\n",
      "360\n",
      "394\n",
      "479\n",
      "479\n",
      "1139\n",
      "1149\n",
      "1379\n",
      "1380\n"
     ]
    }
   ],
   "source": [
    "import heapq\n",
    "\n",
    "queue = []\n",
    "cars = [0] * 10000\n",
    "records = [\"05:34 5961 IN\", \"06:00 0000 IN\", \"06:34 0000 OUT\", \"07:59 5961 OUT\", \"07:59 0148 IN\", \"18:59 0000 IN\", \"19:09 0148 OUT\", \"22:59 5961 IN\", \"23:00 5961 OUT\"]\n",
    "\n",
    "for i in records:\n",
    "    a,b,c = i.split()\n",
    "    hour, min = a.split(\":\")\n",
    "    print((int(hour) * 60) + int(min))"
   ]
  },
  {
   "cell_type": "code",
   "execution_count": 27,
   "metadata": {},
   "outputs": [
    {
     "ename": "IndexError",
     "evalue": "list index out of range",
     "output_type": "error",
     "traceback": [
      "\u001b[1;31m---------------------------------------------------------------------------\u001b[0m",
      "\u001b[1;31mIndexError\u001b[0m                                Traceback (most recent call last)",
      "Cell \u001b[1;32mIn[27], line 39\u001b[0m\n\u001b[0;32m     36\u001b[0m     \u001b[38;5;28mprint\u001b[39m(visited)\n\u001b[0;32m     37\u001b[0m     \u001b[38;5;28;01mreturn\u001b[39;00m answer\n\u001b[1;32m---> 39\u001b[0m \u001b[43msolution\u001b[49m\u001b[43m(\u001b[49m\u001b[38;5;241;43m4\u001b[39;49m\u001b[43m)\u001b[49m\n",
      "Cell \u001b[1;32mIn[27], line 15\u001b[0m, in \u001b[0;36msolution\u001b[1;34m(n)\u001b[0m\n\u001b[0;32m     13\u001b[0m     \u001b[38;5;28;01mbreak\u001b[39;00m\n\u001b[0;32m     14\u001b[0m \u001b[38;5;28;01mif\u001b[39;00m move \u001b[38;5;241m==\u001b[39m \u001b[38;5;241m0\u001b[39m: \u001b[38;5;66;03m# down\u001b[39;00m\n\u001b[1;32m---> 15\u001b[0m     \u001b[38;5;28;01mif\u001b[39;00m \u001b[38;5;129;01mnot\u001b[39;00m \u001b[43mvisited\u001b[49m\u001b[43m[\u001b[49m\u001b[43mx\u001b[49m\u001b[38;5;241;43m+\u001b[39;49m\u001b[38;5;241;43m1\u001b[39;49m\u001b[43m]\u001b[49m[y] \u001b[38;5;129;01mand\u001b[39;00m ((x \u001b[38;5;241m+\u001b[39m \u001b[38;5;241m1\u001b[39m) \u001b[38;5;241m<\u001b[39m\u001b[38;5;241m=\u001b[39m n): \u001b[38;5;66;03m# 방문할 수 있는 곳이면\u001b[39;00m\n\u001b[0;32m     16\u001b[0m         x \u001b[38;5;241m+\u001b[39m\u001b[38;5;241m=\u001b[39m \u001b[38;5;241m1\u001b[39m\n\u001b[0;32m     17\u001b[0m     \u001b[38;5;28;01melse\u001b[39;00m: \u001b[38;5;66;03m# 방문했거나 x + 1 > n이면\u001b[39;00m\n",
      "\u001b[1;31mIndexError\u001b[0m: list index out of range"
     ]
    }
   ],
   "source": [
    "def solution(n):\n",
    "    answer = []\n",
    "    total_length = (n * (n + 1)) // 2\n",
    "    graph = [[0] * i for i in range(1, n + 1)] # 숫자 하나씩 넣을 그래프\n",
    "    visited = [[False] * i for i in range(1, n + 1)] # 방문표시\n",
    "    move = 0 # down : 0, right : 1, up : 2 순서로 움직일거임\n",
    "    x = 0 # 움직일 좌표임\n",
    "    y = 0\n",
    "    for i in range(1, total_length + 1):\n",
    "        graph[x][y] = i\n",
    "        visited[x][y] = True\n",
    "        if i == total_length:\n",
    "            break\n",
    "        if move == 0: # down\n",
    "            if not visited[x+1][y] and ((x + 1) <= n): # 방문할 수 있는 곳이면\n",
    "                x += 1\n",
    "            else: # 방문했거나 x + 1 > n이면\n",
    "                y += 1\n",
    "                move = 1\n",
    "                \n",
    "        elif move == 1: # 오른쪽으로 움직이는 경우\n",
    "            if not visited[x][y + 1] and ((y + 1) <= n):\n",
    "                y += 1\n",
    "            else: # 위로 올라가는 경우\n",
    "                x -= 1\n",
    "                y -= 1\n",
    "                move = 2\n",
    "        else:\n",
    "            if not visited[x-1][y-1] and ((x-1) > 0 and (y - 1) > 0):\n",
    "                x -= 1\n",
    "                y -= 1\n",
    "            else:\n",
    "                x += 1\n",
    "                move = 0\n",
    "    print(graph)\n",
    "    print(visited)\n",
    "    return answer\n",
    "\n",
    "solution(4)"
   ]
  }
 ],
 "metadata": {
  "kernelspec": {
   "display_name": "Python 3",
   "language": "python",
   "name": "python3"
  },
  "language_info": {
   "codemirror_mode": {
    "name": "ipython",
    "version": 3
   },
   "file_extension": ".py",
   "mimetype": "text/x-python",
   "name": "python",
   "nbconvert_exporter": "python",
   "pygments_lexer": "ipython3",
   "version": "3.11.4"
  }
 },
 "nbformat": 4,
 "nbformat_minor": 2
}
