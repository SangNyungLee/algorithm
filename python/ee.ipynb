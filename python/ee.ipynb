{
 "cells": [
  {
   "cell_type": "code",
   "execution_count": 1,
   "metadata": {
    "ExecuteTime": {
     "end_time": "2025-04-13T05:10:43.551889Z",
     "start_time": "2025-04-13T05:10:38.843888Z"
    }
   },
   "outputs": [
    {
     "name": "stdout",
     "output_type": "stream",
     "text": [
      "ab3ca3\n"
     ]
    }
   ],
   "source": [
    "def fnCalculation(x,y):\n",
    "    result = 0\n",
    "    for i in range(len(x)):\n",
    "        temp = x[i : i + len(y)]\n",
    "        if temp == y:\n",
    "            result += 1\n",
    "    return result\n",
    "\n",
    "a = \"abdcabcabca\"\n",
    "p1 = \"ab\"\n",
    "p2 = \"ca\"\n",
    "\n",
    "out = f\"ab{fnCalculation(a, p1)}ca{fnCalculation(a, p2)}\"\n",
    "print(out)"
   ]
  },
  {
   "cell_type": "markdown",
   "metadata": {},
   "source": []
  }
 ],
 "metadata": {
  "kernelspec": {
   "display_name": "Python 3",
   "language": "python",
   "name": "python3"
  },
  "language_info": {
   "codemirror_mode": {
    "name": "ipython",
    "version": 3
   },
   "file_extension": ".py",
   "mimetype": "text/x-python",
   "name": "python",
   "nbconvert_exporter": "python",
   "pygments_lexer": "ipython3",
   "version": "3.9.6"
  }
 },
 "nbformat": 4,
 "nbformat_minor": 2
}
