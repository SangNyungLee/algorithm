{
 "cells": [
  {
   "cell_type": "code",
   "execution_count": 16,
   "metadata": {},
   "outputs": [
    {
     "name": "stdout",
     "output_type": "stream",
     "text": [
      "[[[False, False], [False, False], [False, False], [False, False]], [[False, False], [False, False], [False, False], [False, False]], [[False, False], [False, False], [False, False], [False, False]], [[False, False], [False, False], [False, False], [False, False]], [[False, False], [False, False], [False, False], [False, False]], [[False, False], [False, False], [False, False], [False, False]]]\n",
      "[[False, False, False, False], [False, False, False, False], [False, False, False, False], [False, False, False, False], [False, False, False, False], [False, False, False, False]]\n",
      "False\n"
     ]
    }
   ],
   "source": [
    "n = 6\n",
    "m = 4\n",
    "\n",
    "visited =[[[False] * 2] * (m) for _ in range(n)]\n",
    "visited2 = [[False] * m for _ in range(n)]\n",
    "print(visited)\n",
    "print(visited2)\n",
    "print(visited2[5][3])"
   ]
  }
 ],
 "metadata": {
  "kernelspec": {
   "display_name": "Python 3",
   "language": "python",
   "name": "python3"
  },
  "language_info": {
   "codemirror_mode": {
    "name": "ipython",
    "version": 3
   },
   "file_extension": ".py",
   "mimetype": "text/x-python",
   "name": "python",
   "nbconvert_exporter": "python",
   "pygments_lexer": "ipython3",
   "version": "3.9.6"
  }
 },
 "nbformat": 4,
 "nbformat_minor": 2
}
