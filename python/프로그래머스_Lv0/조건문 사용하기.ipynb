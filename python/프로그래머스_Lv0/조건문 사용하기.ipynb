{
 "cells": [
  {
   "cell_type": "code",
   "execution_count": null,
   "metadata": {},
   "outputs": [],
   "source": [
    "str = input()\n",
    "str2 = ''\n",
    "for i in str:\n",
    "    if i.islower():\n",
    "        str2 += i.upper()\n",
    "    elif i.isupper():\n",
    "        str2 += i.lower()\n",
    "print(str2)"
   ]
  }
 ],
 "metadata": {
  "language_info": {
   "name": "python"
  },
  "orig_nbformat": 4
 },
 "nbformat": 4,
 "nbformat_minor": 2
}
