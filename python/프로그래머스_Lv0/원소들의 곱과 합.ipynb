{
 "cells": [
  {
   "cell_type": "code",
   "execution_count": null,
   "metadata": {},
   "outputs": [],
   "source": [
    "def solution(num_list):\n",
    "    answer = 0\n",
    "    result = 1\n",
    "    result2 = 0\n",
    "    for i in num_list:\n",
    "        result *= i\n",
    "        result2 += i\n",
    "\n",
    "    if result > result2**2:\n",
    "        answer = 0\n",
    "    else:\n",
    "        answer = 1\n",
    "    return answer"
   ]
  }
 ],
 "metadata": {
  "language_info": {
   "name": "python"
  },
  "orig_nbformat": 4
 },
 "nbformat": 4,
 "nbformat_minor": 2
}
