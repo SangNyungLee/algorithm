{
 "cells": [
  {
   "cell_type": "code",
   "execution_count": 29,
   "metadata": {},
   "outputs": [
    {
     "name": "stdout",
     "output_type": "stream",
     "text": [
      "[1, 2, 3]\n"
     ]
    }
   ],
   "source": [
    "def solution(arr):\n",
    "    stk = []\n",
    "    i=0\n",
    "    while(True):\n",
    "        if i >= len(arr):\n",
    "            break\n",
    "        elif stk == []:\n",
    "            stk.append(arr[i])\n",
    "            i+=1\n",
    "        elif stk !=[] and stk[-1] < arr[i]:\n",
    "            stk.append(arr[i])\n",
    "            i+=1\n",
    "        elif stk !=[] and stk[-1] >= arr[i]:\n",
    "            del stk[-1]\n",
    "    return stk"
   ]
  }
 ],
 "metadata": {
  "kernelspec": {
   "display_name": "Python 3",
   "language": "python",
   "name": "python3"
  },
  "language_info": {
   "codemirror_mode": {
    "name": "ipython",
    "version": 3
   },
   "file_extension": ".py",
   "mimetype": "text/x-python",
   "name": "python",
   "nbconvert_exporter": "python",
   "pygments_lexer": "ipython3",
   "version": "3.11.4"
  },
  "orig_nbformat": 4
 },
 "nbformat": 4,
 "nbformat_minor": 2
}
