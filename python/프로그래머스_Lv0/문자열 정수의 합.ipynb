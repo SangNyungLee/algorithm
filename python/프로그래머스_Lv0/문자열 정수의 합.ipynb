{
 "cells": [
  {
   "cell_type": "code",
   "execution_count": null,
   "metadata": {},
   "outputs": [],
   "source": [
    "def solution(num_str):\n",
    "    answer = 0\n",
    "    for i in num_str:\n",
    "        answer += int(i)\n",
    "    return answer"
   ]
  }
 ],
 "metadata": {
  "language_info": {
   "name": "python"
  },
  "orig_nbformat": 4
 },
 "nbformat": 4,
 "nbformat_minor": 2
}
