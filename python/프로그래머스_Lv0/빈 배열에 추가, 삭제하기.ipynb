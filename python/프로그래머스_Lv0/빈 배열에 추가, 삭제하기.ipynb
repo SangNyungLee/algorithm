{
 "cells": [
  {
   "cell_type": "code",
   "execution_count": 19,
   "metadata": {},
   "outputs": [
    {
     "name": "stdout",
     "output_type": "stream",
     "text": [
      "[3, 3, 3, 3, 4, 4, 4, 4]\n"
     ]
    }
   ],
   "source": [
    "def solution(arr, flag):\n",
    "    answer = []\n",
    "    for idx, a in enumerate(flag):\n",
    "        if a:\n",
    "            for i in range(arr[idx]*2):\n",
    "                answer.append(arr[idx])\n",
    "        else:\n",
    "            for i in range(arr[idx]):\n",
    "                answer.pop()\n",
    "    return answer"
   ]
  }
 ],
 "metadata": {
  "kernelspec": {
   "display_name": "Python 3",
   "language": "python",
   "name": "python3"
  },
  "language_info": {
   "codemirror_mode": {
    "name": "ipython",
    "version": 3
   },
   "file_extension": ".py",
   "mimetype": "text/x-python",
   "name": "python",
   "nbconvert_exporter": "python",
   "pygments_lexer": "ipython3",
   "version": "3.11.4"
  },
  "orig_nbformat": 4
 },
 "nbformat": 4,
 "nbformat_minor": 2
}
