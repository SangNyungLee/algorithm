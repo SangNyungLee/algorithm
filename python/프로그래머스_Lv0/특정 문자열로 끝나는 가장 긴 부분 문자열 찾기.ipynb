{
 "cells": [
  {
   "cell_type": "code",
   "execution_count": null,
   "metadata": {},
   "outputs": [],
   "source": [
    "def solution(myString, pat):\n",
    "    answer = myString.rsplit(pat,1)\n",
    "    return answer[0]+pat\n"
   ]
  }
 ],
 "metadata": {
  "language_info": {
   "name": "python"
  },
  "orig_nbformat": 4
 },
 "nbformat": 4,
 "nbformat_minor": 2
}
