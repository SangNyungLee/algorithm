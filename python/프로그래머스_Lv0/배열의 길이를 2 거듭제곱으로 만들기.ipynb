{
 "cells": [
  {
   "cell_type": "code",
   "execution_count": 18,
   "metadata": {},
   "outputs": [
    {
     "name": "stdout",
     "output_type": "stream",
     "text": [
      "[0]\n"
     ]
    }
   ],
   "source": [
    "def solution(arr):\n",
    "    i=0\n",
    "    while True:\n",
    "        a = 2 ** i\n",
    "        if a == len(arr):\n",
    "            break\n",
    "        elif a < len(arr):\n",
    "            i += 1\n",
    "        elif a> len(arr):\n",
    "            for i in range(a-len(arr)):\n",
    "                arr.append(0)\n",
    "            break\n",
    "    return arr"
   ]
  }
 ],
 "metadata": {
  "kernelspec": {
   "display_name": "Python 3",
   "language": "python",
   "name": "python3"
  },
  "language_info": {
   "codemirror_mode": {
    "name": "ipython",
    "version": 3
   },
   "file_extension": ".py",
   "mimetype": "text/x-python",
   "name": "python",
   "nbconvert_exporter": "python",
   "pygments_lexer": "ipython3",
   "version": "3.11.4"
  },
  "orig_nbformat": 4
 },
 "nbformat": 4,
 "nbformat_minor": 2
}
