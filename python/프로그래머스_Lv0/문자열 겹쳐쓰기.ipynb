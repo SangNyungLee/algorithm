{
 "cells": [
  {
   "cell_type": "code",
   "execution_count": null,
   "metadata": {},
   "outputs": [],
   "source": [
    "def solution(my_string, overwrite_string, s):\n",
    "    #문자열 리스트로 바꿔주기\n",
    "    mylist = list(my_string)\n",
    "    overlist = list(overwrite_string)\n",
    "    \n",
    "    # s2 = overlist 문자열 길이\n",
    "    s2 = len(overlist) \n",
    "    \n",
    "    # s 부터 overlist문자열 길이까지 합쳐주기\n",
    "    mylist[s:s2+s] = overlist\n",
    "    \n",
    "    # 리스트 다시 문자열로 만들어주기\n",
    "    answer = \"\".join(mylist)\n",
    "    return answer"
   ]
  }
 ],
 "metadata": {
  "language_info": {
   "name": "python"
  },
  "orig_nbformat": 4
 },
 "nbformat": 4,
 "nbformat_minor": 2
}
