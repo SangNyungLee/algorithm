{
 "cells": [
  {
   "cell_type": "code",
   "execution_count": 10,
   "metadata": {},
   "outputs": [
    {
     "name": "stdout",
     "output_type": "stream",
     "text": [
      "rank2 [7, 2, 5, 4]\n",
      "[2, 4, 5]\n"
     ]
    },
    {
     "data": {
      "text/plain": [
       "20402"
      ]
     },
     "execution_count": 10,
     "metadata": {},
     "output_type": "execute_result"
    }
   ],
   "source": [
    "rank =[3, 7, 2, 5, 4, 6, 1]\n",
    "attendance = [False, True, True, True, True, False, False]\n",
    "rank2=[]\n",
    "for a,b in zip(rank,attendance):\n",
    "    if b == True:\n",
    "        rank2.append(a)\n",
    "print(\"rank2\",rank2)\n",
    "rank2.sort()\n",
    "print(rank2[0:3])\n",
    "10000*rank2[0]+ 100*rank2[1] + rank[2]\n"
   ]
  }
 ],
 "metadata": {
  "kernelspec": {
   "display_name": "Python 3",
   "language": "python",
   "name": "python3"
  },
  "language_info": {
   "codemirror_mode": {
    "name": "ipython",
    "version": 3
   },
   "file_extension": ".py",
   "mimetype": "text/x-python",
   "name": "python",
   "nbconvert_exporter": "python",
   "pygments_lexer": "ipython3",
   "version": "3.11.4"
  },
  "orig_nbformat": 4
 },
 "nbformat": 4,
 "nbformat_minor": 2
}
