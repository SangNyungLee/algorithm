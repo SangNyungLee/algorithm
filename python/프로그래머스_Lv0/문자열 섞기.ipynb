{
 "cells": [
  {
   "cell_type": "code",
   "execution_count": null,
   "metadata": {},
   "outputs": [],
   "source": [
    "def solution(str1, str2):\n",
    "    answer =''\n",
    "    s = len(str1)\n",
    "    list_str = list(str1)\n",
    "    list_str2 = list(str2)\n",
    "    \n",
    "    for i in range(s):\n",
    "        answer += list_str[i] + list_str2[i]\n",
    "    return answer"
   ]
  }
 ],
 "metadata": {
  "language_info": {
   "name": "python"
  },
  "orig_nbformat": 4
 },
 "nbformat": 4,
 "nbformat_minor": 2
}
