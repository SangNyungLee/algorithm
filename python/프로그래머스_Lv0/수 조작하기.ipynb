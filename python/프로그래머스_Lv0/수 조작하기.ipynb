{
 "cells": [
  {
   "cell_type": "code",
   "execution_count": null,
   "metadata": {},
   "outputs": [],
   "source": [
    "def solution(n, control):\n",
    "    \n",
    "    for i in control:\n",
    "        if i == \"w\":\n",
    "            n+= 1\n",
    "        elif i == \"s\":\n",
    "            n-= 1\n",
    "        elif i == \"d\":\n",
    "            n+=10\n",
    "        elif i == \"a\":\n",
    "            n-=10\n",
    "        \n",
    "    return n"
   ]
  }
 ],
 "metadata": {
  "language_info": {
   "name": "python"
  },
  "orig_nbformat": 4
 },
 "nbformat": 4,
 "nbformat_minor": 2
}
