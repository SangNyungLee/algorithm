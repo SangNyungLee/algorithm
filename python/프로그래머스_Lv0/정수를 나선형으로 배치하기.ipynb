{
 "cells": [
  {
   "cell_type": "code",
   "execution_count": 116,
   "metadata": {},
   "outputs": [
    {
     "ename": "SyntaxError",
     "evalue": "incomplete input (158751476.py, line 10)",
     "output_type": "error",
     "traceback": [
      "\u001b[1;36m  Cell \u001b[1;32mIn[116], line 10\u001b[1;36m\u001b[0m\n\u001b[1;33m    for i in range(1,17):\u001b[0m\n\u001b[1;37m                         ^\u001b[0m\n\u001b[1;31mSyntaxError\u001b[0m\u001b[1;31m:\u001b[0m incomplete input\n"
     ]
    }
   ],
   "source": [
    "n = 4\n",
    "arr = [[0]*n for i in range(n)]\n",
    "# mode 는 1~4까지감\n",
    "# 위 -> 아래 -> 왼 -> 오른 순으로 움직임\n",
    "mode = 1\n",
    "j=0\n",
    "k=0\n",
    "# print(arr)\n",
    "# 한쪽으로 계속 움직이는데 0이 아닌걸 만나면 mode에 1 더해서 넘어감\n",
    "for i in range(1,17):\n",
    "    "
   ]
  }
 ],
 "metadata": {
  "kernelspec": {
   "display_name": "Python 3",
   "language": "python",
   "name": "python3"
  },
  "language_info": {
   "codemirror_mode": {
    "name": "ipython",
    "version": 3
   },
   "file_extension": ".py",
   "mimetype": "text/x-python",
   "name": "python",
   "nbconvert_exporter": "python",
   "pygments_lexer": "ipython3",
   "version": "3.11.4"
  },
  "orig_nbformat": 4
 },
 "nbformat": 4,
 "nbformat_minor": 2
}
