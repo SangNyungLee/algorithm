{
 "cells": [
  {
   "cell_type": "code",
   "execution_count": null,
   "metadata": {},
   "outputs": [],
   "source": [
    "def solution(arr, queries):\n",
    "    answer = []\n",
    "    for a,b,c in enumerate(queries):\n",
    "        arr2 = []\n",
    "        for i, alpha in enumerate(arr):\n",
    "            num = 0\n",
    "            if i>= a and i<=b and alpha > c:\n",
    "                num+=1\n",
    "                arr2.append(alpha)\n",
    "        if not arr2:\n",
    "            arr2.append(-1)\n",
    "        answer.append(min(arr2))\n",
    "    return answer"
   ]
  }
 ],
 "metadata": {
  "language_info": {
   "name": "python"
  },
  "orig_nbformat": 4
 },
 "nbformat": 4,
 "nbformat_minor": 2
}
