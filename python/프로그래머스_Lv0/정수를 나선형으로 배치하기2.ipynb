{
 "cells": [
  {
   "cell_type": "code",
   "execution_count": 4,
   "metadata": {},
   "outputs": [
    {
     "name": "stdout",
     "output_type": "stream",
     "text": [
      "[[1, 2, 3, 4], [12, 13, 14, 5], [11, 16, 15, 6], [10, 9, 8, 7]]\n"
     ]
    }
   ],
   "source": [
    "n = 4\n",
    "arr = [[0]*n for i in range(n)]\n",
    "# mode 는 1~4까지감\n",
    "# 위 -> 아래 -> 왼 -> 오른 순으로 움직임\n",
    "mode = 1\n",
    "x=0\n",
    "y=0\n",
    "# print(arr)\n",
    "# 한쪽으로 계속 움직이는데 0이 아닌걸 만나면 mode에 1 더해서 넘어감\n",
    "# 0이 아니거나 \n",
    "\n",
    "for i in range(n*n):\n",
    "    arr[x][y] = i + 1\n",
    "    if mode%4 == 1:\n",
    "        y+=1\n",
    "        if y == n-1 or arr[x][y+1] != 0:\n",
    "            mode+=1\n",
    "    elif mode%4 == 2:\n",
    "        x+=1\n",
    "        if x == n-1 or arr[x+1][y] != 0:\n",
    "            mode+=1\n",
    "    elif mode%4 == 3:\n",
    "        y-=1\n",
    "        if y == n-1 or arr[x][y-1] != 0:\n",
    "            mode+=1\n",
    "    elif mode%4 == 0:\n",
    "        x-=1\n",
    "        if x == n-1 or arr[x-1][y] != 0:\n",
    "            mode+=1\n",
    "print(arr)\n"
   ]
  }
 ],
 "metadata": {
  "kernelspec": {
   "display_name": "Python 3",
   "language": "python",
   "name": "python3"
  },
  "language_info": {
   "codemirror_mode": {
    "name": "ipython",
    "version": 3
   },
   "file_extension": ".py",
   "mimetype": "text/x-python",
   "name": "python",
   "nbconvert_exporter": "python",
   "pygments_lexer": "ipython3",
   "version": "3.11.4"
  },
  "orig_nbformat": 4
 },
 "nbformat": 4,
 "nbformat_minor": 2
}
