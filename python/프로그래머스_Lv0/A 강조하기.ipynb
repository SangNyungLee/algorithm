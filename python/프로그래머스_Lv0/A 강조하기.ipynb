{
 "cells": [
  {
   "cell_type": "code",
   "execution_count": null,
   "metadata": {},
   "outputs": [],
   "source": [
    "def solution(myString):\n",
    "    answer = ''\n",
    "    for i in myString:\n",
    "        if i == 'a':\n",
    "            answer+='A'\n",
    "        elif i == 'A':\n",
    "            answer += 'A'\n",
    "        else:\n",
    "            answer+= i.lower()\n",
    "    return answer"
   ]
  }
 ],
 "metadata": {
  "language_info": {
   "name": "python"
  },
  "orig_nbformat": 4
 },
 "nbformat": 4,
 "nbformat_minor": 2
}
