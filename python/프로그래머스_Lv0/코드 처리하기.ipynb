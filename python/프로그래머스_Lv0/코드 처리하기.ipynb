{
 "cells": [
  {
   "cell_type": "code",
   "execution_count": null,
   "metadata": {},
   "outputs": [],
   "source": [
    "def solution(code):\n",
    "    answer = ''\n",
    "    mode = 0\n",
    "    for idx, alphabet in enumerate(code):\n",
    "\n",
    "        if alphabet == '1':\n",
    "            mode = 1 - mode\n",
    "            continue\n",
    "\n",
    "        if mode == 0 and idx % 2 == 0:\n",
    "            answer += alphabet\n",
    "        elif mode == 1 and idx % 2 == 1:\n",
    "            answer += alphabet\n",
    "\n",
    "    if answer == \"\":\n",
    "        answer = \"EMPTY\"\n",
    "    return answer"
   ]
  }
 ],
 "metadata": {
  "language_info": {
   "name": "python"
  },
  "orig_nbformat": 4
 },
 "nbformat": 4,
 "nbformat_minor": 2
}
