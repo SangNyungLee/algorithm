{
 "cells": [
  {
   "cell_type": "code",
   "execution_count": 39,
   "metadata": {},
   "outputs": [
    {
     "name": "stdout",
     "output_type": "stream",
     "text": [
      "----\n",
      "0\n",
      "[1, 1, 2, 3, 4]\n",
      "1\n",
      "[1, 2, 2, 3, 4]\n",
      "----\n",
      "1\n",
      "[1, 3, 2, 3, 4]\n",
      "2\n",
      "[1, 3, 3, 3, 4]\n",
      "----\n",
      "2\n",
      "[1, 3, 4, 3, 4]\n",
      "3\n",
      "[1, 3, 4, 4, 4]\n"
     ]
    }
   ],
   "source": [
    "def solution(arr, queries):\n",
    "    for a,b in queries:\n",
    "        for i in range(a,b+1):\n",
    "            arr[i]+=1\n",
    "    return arr"
   ]
  },
  {
   "cell_type": "code",
   "execution_count": 26,
   "metadata": {},
   "outputs": [
    {
     "name": "stdout",
     "output_type": "stream",
     "text": [
      "[2, 2, 3, 4, 5]\n"
     ]
    }
   ],
   "source": [
    "a = [1,2,3,4,5]\n",
    "\n",
    "a[0]+=1\n",
    "\n",
    "print(a)\n",
    "    "
   ]
  }
 ],
 "metadata": {
  "kernelspec": {
   "display_name": "Python 3",
   "language": "python",
   "name": "python3"
  },
  "language_info": {
   "codemirror_mode": {
    "name": "ipython",
    "version": 3
   },
   "file_extension": ".py",
   "mimetype": "text/x-python",
   "name": "python",
   "nbconvert_exporter": "python",
   "pygments_lexer": "ipython3",
   "version": "3.11.4"
  },
  "orig_nbformat": 4
 },
 "nbformat": 4,
 "nbformat_minor": 2
}
