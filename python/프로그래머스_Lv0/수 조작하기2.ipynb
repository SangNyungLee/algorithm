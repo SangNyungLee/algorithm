{
 "cells": [
  {
   "cell_type": "code",
   "execution_count": null,
   "metadata": {},
   "outputs": [],
   "source": [
    "def solution(numLog):\n",
    "    answer =\"\"\n",
    "    num = len(numLog)-1\n",
    "\n",
    "    for i in range(0,num):\n",
    "        num = numLog[i+1] - numLog[i]\n",
    "        if num == 1:\n",
    "            answer += \"w\"\n",
    "        elif num == -1:\n",
    "            answer += \"s\"\n",
    "        elif num == 10:\n",
    "            answer += \"d\"\n",
    "        elif num == -10:\n",
    "            answer += \"a\"\n",
    "    return answer"
   ]
  }
 ],
 "metadata": {
  "language_info": {
   "name": "python"
  },
  "orig_nbformat": 4
 },
 "nbformat": 4,
 "nbformat_minor": 2
}
