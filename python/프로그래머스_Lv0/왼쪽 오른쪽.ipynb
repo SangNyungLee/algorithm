{
 "cells": [
  {
   "cell_type": "code",
   "execution_count": 19,
   "metadata": {},
   "outputs": [
    {
     "name": "stdout",
     "output_type": "stream",
     "text": [
      "<function solution at 0x000001BA9E494F40>\n"
     ]
    }
   ],
   "source": [
    "def solution(str_list):\n",
    "    answer = []\n",
    "    \n",
    "    for i, j in enumerate(str_list):\n",
    "        if j == \"l\":\n",
    "            answer = str_list[:i]\n",
    "            break\n",
    "        elif j == \"r\":\n",
    "            answer = str_list[i+1:]\n",
    "            break\n",
    "    return answer"
   ]
  }
 ],
 "metadata": {
  "kernelspec": {
   "display_name": "Python 3",
   "language": "python",
   "name": "python3"
  },
  "language_info": {
   "codemirror_mode": {
    "name": "ipython",
    "version": 3
   },
   "file_extension": ".py",
   "mimetype": "text/x-python",
   "name": "python",
   "nbconvert_exporter": "python",
   "pygments_lexer": "ipython3",
   "version": "3.11.4"
  },
  "orig_nbformat": 4
 },
 "nbformat": 4,
 "nbformat_minor": 2
}
