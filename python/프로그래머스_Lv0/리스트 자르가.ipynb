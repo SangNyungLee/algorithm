{
 "cells": [
  {
   "cell_type": "code",
   "execution_count": 7,
   "metadata": {},
   "outputs": [
    {
     "name": "stdout",
     "output_type": "stream",
     "text": [
      "[2, 3, 4, 5, 6]\n"
     ]
    }
   ],
   "source": [
    "def solution(n, slicer, num_list):\n",
    "    a,b,c = slicer\n",
    "    answer = []\n",
    "    \n",
    "    if n==1:\n",
    "        answer = num_list[0:b+1]\n",
    "    elif n==2:\n",
    "        answer = num_list[a::]\n",
    "    elif n==3:\n",
    "        answer = num_list[a:b+1]\n",
    "    elif n==4:\n",
    "        answer = num_list[a:b+1:c]\n",
    "        \n",
    "    return answer"
   ]
  }
 ],
 "metadata": {
  "kernelspec": {
   "display_name": "Python 3",
   "language": "python",
   "name": "python3"
  },
  "language_info": {
   "codemirror_mode": {
    "name": "ipython",
    "version": 3
   },
   "file_extension": ".py",
   "mimetype": "text/x-python",
   "name": "python",
   "nbconvert_exporter": "python",
   "pygments_lexer": "ipython3",
   "version": "3.11.4"
  },
  "orig_nbformat": 4
 },
 "nbformat": 4,
 "nbformat_minor": 2
}
