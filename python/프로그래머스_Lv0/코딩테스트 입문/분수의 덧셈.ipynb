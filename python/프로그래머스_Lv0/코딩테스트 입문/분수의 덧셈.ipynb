{
 "cells": [
  {
   "cell_type": "code",
   "execution_count": 7,
   "metadata": {},
   "outputs": [],
   "source": [
    "import math\n",
    "def solution(numer1, denom1, numer2, denom2):\n",
    "    numer = numer1*denom2 + numer2*denom1\n",
    "    denom = denom1 * denom2\n",
    "    gcd = math.gcd(numer,denom)\n",
    "    \n",
    "    return numer/gcd, denom/gcd"
   ]
  }
 ],
 "metadata": {
  "kernelspec": {
   "display_name": "Python 3",
   "language": "python",
   "name": "python3"
  },
  "language_info": {
   "codemirror_mode": {
    "name": "ipython",
    "version": 3
   },
   "file_extension": ".py",
   "mimetype": "text/x-python",
   "name": "python",
   "nbconvert_exporter": "python",
   "pygments_lexer": "ipython3",
   "version": "3.11.4"
  },
  "orig_nbformat": 4
 },
 "nbformat": 4,
 "nbformat_minor": 2
}
