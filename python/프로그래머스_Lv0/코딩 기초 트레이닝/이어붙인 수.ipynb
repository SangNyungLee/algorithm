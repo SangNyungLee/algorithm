{
 "cells": [
  {
   "cell_type": "code",
   "execution_count": null,
   "metadata": {},
   "outputs": [],
   "source": [
    "def solution(num_list):\n",
    "    a =\"\"\n",
    "    b =\"\"\n",
    "    answer = 0\n",
    "    for i in num_list:\n",
    "        if i %2 == 0:\n",
    "            a+=str(i)\n",
    "        elif i%2 == 1:\n",
    "            b+=str(i)\n",
    "    answer = int(a)+int(b)\n",
    "    return answer"
   ]
  }
 ],
 "metadata": {
  "language_info": {
   "name": "python"
  },
  "orig_nbformat": 4
 },
 "nbformat": 4,
 "nbformat_minor": 2
}
