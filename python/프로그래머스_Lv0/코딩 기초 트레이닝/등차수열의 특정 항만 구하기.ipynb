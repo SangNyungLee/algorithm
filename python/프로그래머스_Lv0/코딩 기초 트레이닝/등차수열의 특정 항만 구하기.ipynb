{
 "cells": [
  {
   "cell_type": "code",
   "execution_count": null,
   "metadata": {},
   "outputs": [],
   "source": [
    "def solution(a, d, included):\n",
    "    answer = 0\n",
    "    for idx, alpha in enumerate(included):\n",
    "        if alpha == True:\n",
    "            answer += a+d*(idx)  \n",
    "    return answer"
   ]
  }
 ],
 "metadata": {
  "language_info": {
   "name": "python"
  },
  "orig_nbformat": 4
 },
 "nbformat": 4,
 "nbformat_minor": 2
}
