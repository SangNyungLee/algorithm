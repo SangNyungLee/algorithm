{
 "cells": [
  {
   "cell_type": "code",
   "execution_count": null,
   "metadata": {},
   "outputs": [],
   "source": [
    "def solution(arr, k):\n",
    "    answer = []\n",
    "    if k % 2 == 1:\n",
    "        for i in arr:\n",
    "            answer.append(i*k)\n",
    "    else:\n",
    "        for i in arr:\n",
    "            answer.append(i+k)\n",
    "    return answer"
   ]
  }
 ],
 "metadata": {
  "language_info": {
   "name": "python"
  },
  "orig_nbformat": 4
 },
 "nbformat": 4,
 "nbformat_minor": 2
}
