{
 "cells": [
  {
   "cell_type": "code",
   "execution_count": 34,
   "metadata": {},
   "outputs": [
    {
     "name": "stdout",
     "output_type": "stream",
     "text": [
      "BBBAA\n",
      "-1\n"
     ]
    }
   ],
   "source": [
    "def solution(myString, pat):\n",
    "    answer = 0\n",
    "    result = \"\"\n",
    "    for i in myString:\n",
    "        if i == \"A\":\n",
    "            result += i.replace(\"A\", \"B\")\n",
    "        elif i == \"B\":\n",
    "            result += i.replace(\"B\", \"A\")\n",
    "    if result.find(pat) != -1:\n",
    "        return 1\n",
    "    else:\n",
    "        return 0"
   ]
  }
 ],
 "metadata": {
  "kernelspec": {
   "display_name": "Python 3",
   "language": "python",
   "name": "python3"
  },
  "language_info": {
   "codemirror_mode": {
    "name": "ipython",
    "version": 3
   },
   "file_extension": ".py",
   "mimetype": "text/x-python",
   "name": "python",
   "nbconvert_exporter": "python",
   "pygments_lexer": "ipython3",
   "version": "3.11.4"
  },
  "orig_nbformat": 4
 },
 "nbformat": 4,
 "nbformat_minor": 2
}
