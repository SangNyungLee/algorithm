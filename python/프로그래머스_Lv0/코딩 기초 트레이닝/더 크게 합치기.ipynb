{
 "cells": [
  {
   "cell_type": "code",
   "execution_count": null,
   "metadata": {},
   "outputs": [],
   "source": [
    "def solution(a, b):\n",
    "    str1 = str(a)\n",
    "    str2 = str(b)\n",
    "    num1 = int(str1+str2)\n",
    "    num2 = int(str2+str1)\n",
    "    \n",
    "    if num1 > num2:\n",
    "        answer = num1\n",
    "    elif num1 < num2:\n",
    "        answer = num2\n",
    "    elif num1 == num2:\n",
    "        answer = num1\n",
    "    \n",
    "    answer = int(answer)\n",
    "    return answer"
   ]
  }
 ],
 "metadata": {
  "language_info": {
   "name": "python"
  },
  "orig_nbformat": 4
 },
 "nbformat": 4,
 "nbformat_minor": 2
}
