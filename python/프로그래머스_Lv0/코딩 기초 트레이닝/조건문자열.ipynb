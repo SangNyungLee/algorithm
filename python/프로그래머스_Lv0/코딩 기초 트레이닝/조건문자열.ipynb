{
 "cells": [
  {
   "cell_type": "code",
   "execution_count": 1,
   "metadata": {},
   "outputs": [],
   "source": [
    "def solution(ineq, eq, n, m):\n",
    "    \n",
    "    if ineq == \">\" and eq == \"=\":\n",
    "        if n>=m:\n",
    "            answer = 1\n",
    "        else:\n",
    "            answer = 0\n",
    "    elif ineq == \"<\" and eq == \"=\":\n",
    "        if n<=m:\n",
    "            answer = 1\n",
    "        else:\n",
    "            answer = 0\n",
    "    elif ineq == \">\" and eq == \"!\":\n",
    "        if n>m:\n",
    "            answer = 1\n",
    "        else:\n",
    "            answer = 0\n",
    "    elif ineq == \"<\" and eq == \"!\":\n",
    "        if n<m:\n",
    "            answer = 1\n",
    "        else:\n",
    "            answer = 0\n",
    "    return answer\n"
   ]
  },
  {
   "cell_type": "code",
   "execution_count": null,
   "metadata": {},
   "outputs": [],
   "source": [
    "# 깔끔한풀이\n",
    "# def solution(ineq, eq, n, m) {\n",
    "#     if (eq === '=' && n === m) return 1\n",
    "#     if (ineq === '<' && n < m) return 1\n",
    "#     if (ineq === '>' && n > m) return 1\n",
    "#     return 0\n",
    "# }"
   ]
  }
 ],
 "metadata": {
  "kernelspec": {
   "display_name": "Python 3",
   "language": "python",
   "name": "python3"
  },
  "language_info": {
   "codemirror_mode": {
    "name": "ipython",
    "version": 3
   },
   "file_extension": ".py",
   "mimetype": "text/x-python",
   "name": "python",
   "nbconvert_exporter": "python",
   "pygments_lexer": "ipython3",
   "version": "3.11.4"
  },
  "orig_nbformat": 4
 },
 "nbformat": 4,
 "nbformat_minor": 2
}
