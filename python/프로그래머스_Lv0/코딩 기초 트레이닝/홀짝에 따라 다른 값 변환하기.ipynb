{
 "cells": [
  {
   "cell_type": "code",
   "execution_count": null,
   "metadata": {},
   "outputs": [],
   "source": [
    "def solution(n):\n",
    "    answer = 0\n",
    "    \n",
    "    if n%2 == 1:\n",
    "        for i in range(1, n+1, 2):\n",
    "            answer+= i\n",
    "    elif n % 2 == 0:\n",
    "        for i in range(0, n+1, 2):\n",
    "            answer+= i*i\n",
    "            \n",
    "    return answer"
   ]
  }
 ],
 "metadata": {
  "language_info": {
   "name": "python"
  },
  "orig_nbformat": 4
 },
 "nbformat": 4,
 "nbformat_minor": 2
}
