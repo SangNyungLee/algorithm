{
 "cells": [
  {
   "cell_type": "code",
   "execution_count": 2,
   "metadata": {},
   "outputs": [],
   "source": [
    "def solution(l,r):\n",
    "    arr = []\n",
    "\n",
    "    n = [int(bin(x)[2:])*5 for x in range(1,65)]    ##5진수로 바꿈\n",
    "\n",
    "    for i in n:\n",
    "        if i>=l and i <= r:\n",
    "            arr.append(i)\n",
    "    if arr == []:\n",
    "        arr.append(-1)\n",
    "    print(arr)\n",
    "            \n"
   ]
  }
 ],
 "metadata": {
  "kernelspec": {
   "display_name": "Python 3",
   "language": "python",
   "name": "python3"
  },
  "language_info": {
   "codemirror_mode": {
    "name": "ipython",
    "version": 3
   },
   "file_extension": ".py",
   "mimetype": "text/x-python",
   "name": "python",
   "nbconvert_exporter": "python",
   "pygments_lexer": "ipython3",
   "version": "3.11.4"
  },
  "orig_nbformat": 4
 },
 "nbformat": 4,
 "nbformat_minor": 2
}
