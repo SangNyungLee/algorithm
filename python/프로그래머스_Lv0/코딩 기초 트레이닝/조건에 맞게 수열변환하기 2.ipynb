{
 "cells": [
  {
   "cell_type": "code",
   "execution_count": 42,
   "metadata": {},
   "outputs": [
    {
     "name": "stdout",
     "output_type": "stream",
     "text": [
      "5\n"
     ]
    }
   ],
   "source": [
    "def solution(arr):\n",
    "    arr2 = list(arr)\n",
    "    result = 0\n",
    "    while(result<6):\n",
    "        for i in range(0,len(arr)):\n",
    "            if arr[i] >= 50 and arr[i] %2 ==0:\n",
    "                arr[i] /=2\n",
    "            elif arr[i] <=50 and arr[i] %2 ==1:\n",
    "                arr[i] = arr[i]*2+1      \n",
    "        if arr2 == arr:\n",
    "            break\n",
    "        else:\n",
    "            arr2 = list(arr)\n",
    "            result+=1\n",
    "\n",
    "    return result"
   ]
  }
 ],
 "metadata": {
  "kernelspec": {
   "display_name": "Python 3",
   "language": "python",
   "name": "python3"
  },
  "language_info": {
   "codemirror_mode": {
    "name": "ipython",
    "version": 3
   },
   "file_extension": ".py",
   "mimetype": "text/x-python",
   "name": "python",
   "nbconvert_exporter": "python",
   "pygments_lexer": "ipython3",
   "version": "3.11.4"
  },
  "orig_nbformat": 4
 },
 "nbformat": 4,
 "nbformat_minor": 2
}
