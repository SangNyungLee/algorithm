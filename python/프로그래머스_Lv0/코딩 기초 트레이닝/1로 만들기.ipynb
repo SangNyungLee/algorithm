{
 "cells": [
  {
   "cell_type": "code",
   "execution_count": null,
   "metadata": {},
   "outputs": [],
   "source": [
    "def solution(num_list):\n",
    "    answer = 0\n",
    "    for i in num_list:\n",
    "        while i!=1:\n",
    "            if i % 2 == 0:\n",
    "                i/=2\n",
    "                answer +=1\n",
    "            elif i % 2 == 1:\n",
    "                i = (i-1)/2\n",
    "                answer+=1\n",
    "    return answer"
   ]
  }
 ],
 "metadata": {
  "language_info": {
   "name": "python"
  },
  "orig_nbformat": 4
 },
 "nbformat": 4,
 "nbformat_minor": 2
}
