{
 "cells": [
  {
   "cell_type": "code",
   "execution_count": 14,
   "metadata": {},
   "outputs": [
    {
     "name": "stdout",
     "output_type": "stream",
     "text": [
      "['a', 'p', 'p', 'o', 'r', 'o', 'o', 'g', 'r', 'a', 'p', 'e', 'm', 'm', 'e', 'm', 'p', 'r', 's']\n",
      "programmers\n"
     ]
    }
   ],
   "source": [
    "def solution(my_string, indices):\n",
    "    my_string = list(my_string)\n",
    "    answer = ''\n",
    "    for i in indices:\n",
    "        my_string[i] = \"\"\n",
    "    answer = \"\".join(my_string)        \n",
    "    return answer\n"
   ]
  }
 ],
 "metadata": {
  "kernelspec": {
   "display_name": "Python 3",
   "language": "python",
   "name": "python3"
  },
  "language_info": {
   "codemirror_mode": {
    "name": "ipython",
    "version": 3
   },
   "file_extension": ".py",
   "mimetype": "text/x-python",
   "name": "python",
   "nbconvert_exporter": "python",
   "pygments_lexer": "ipython3",
   "version": "3.11.4"
  },
  "orig_nbformat": 4
 },
 "nbformat": 4,
 "nbformat_minor": 2
}
