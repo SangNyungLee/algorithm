{
 "cells": [
  {
   "cell_type": "code",
   "execution_count": 43,
   "metadata": {},
   "outputs": [
    {
     "name": "stdout",
     "output_type": "stream",
     "text": [
      "[0, 1, -1, -1]\n"
     ]
    }
   ],
   "source": [
    "arr = [0, 1, 1, 1, 1]\n",
    "answer = []\n",
    "\n",
    "k = 4\n",
    "\n",
    "for i,a in enumerate(arr):\n",
    "    if arr[i] not in answer:\n",
    "        answer.append(arr[i]) \n",
    "        if len(answer) == k:\n",
    "            break\n",
    "\n",
    "if len(answer) < k:\n",
    "    for i in range(k-len(answer)):\n",
    "        answer.append(-1)                                                  \n",
    "print(answer)\n",
    "\n"
   ]
  }
 ],
 "metadata": {
  "kernelspec": {
   "display_name": "Python 3",
   "language": "python",
   "name": "python3"
  },
  "language_info": {
   "codemirror_mode": {
    "name": "ipython",
    "version": 3
   },
   "file_extension": ".py",
   "mimetype": "text/x-python",
   "name": "python",
   "nbconvert_exporter": "python",
   "pygments_lexer": "ipython3",
   "version": "3.11.4"
  },
  "orig_nbformat": 4
 },
 "nbformat": 4,
 "nbformat_minor": 2
}
