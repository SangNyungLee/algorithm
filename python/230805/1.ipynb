{
 "cells": [
  {
   "cell_type": "code",
   "execution_count": 10,
   "metadata": {},
   "outputs": [
    {
     "name": "stdout",
     "output_type": "stream",
     "text": [
      "[3, 2, 4, 6, 4]\n"
     ]
    }
   ],
   "source": [
    "# arr = [1,2,3]\n",
    "# plus = [1,1,1]\n",
    "\n",
    "# c = [x+y for x,y in zip(arr,plus)]\n",
    "\n",
    "# print(c)\n",
    "\n",
    "arr = [0,1,2,4,3]\n",
    "queries = [[0,4,1],[0,3,2],[0,3,3]]\n",
    "\n",
    "for s,e,k in queries:\n",
    "    for i in range(s, e+1):\n",
    "        if i%k == 0:\n",
    "            arr[i] +=1\n",
    "print(arr)\n"
   ]
  }
 ],
 "metadata": {
  "kernelspec": {
   "display_name": "Python 3",
   "language": "python",
   "name": "python3"
  },
  "language_info": {
   "codemirror_mode": {
    "name": "ipython",
    "version": 3
   },
   "file_extension": ".py",
   "mimetype": "text/x-python",
   "name": "python",
   "nbconvert_exporter": "python",
   "pygments_lexer": "ipython3",
   "version": "3.11.4"
  },
  "orig_nbformat": 4
 },
 "nbformat": 4,
 "nbformat_minor": 2
}
