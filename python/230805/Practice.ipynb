{
 "cells": [
  {
   "cell_type": "code",
   "execution_count": 11,
   "metadata": {},
   "outputs": [
    {
     "name": "stdout",
     "output_type": "stream",
     "text": [
      "21Sremm\n",
      "1S\n"
     ]
    }
   ],
   "source": [
    "my_string = \"Progra21Sremm3\"\n",
    "s=6\n",
    "e=12\n",
    "\n",
    "print(my_string[s: e + 1])\n",
    "print(my_string[s: e + 1][1:3])"
   ]
  },
  {
   "cell_type": "code",
   "execution_count": 12,
   "metadata": {},
   "outputs": [],
   "source": [
    "def solution(my_string, s, e):\n",
    "    return my_string[:s] + my_string[s: e + 1][::-1] + my_string[e + 1:]"
   ]
  },
  {
   "cell_type": "code",
   "execution_count": 32,
   "metadata": {},
   "outputs": [
    {
     "data": {
      "text/plain": [
       "True"
      ]
     },
     "execution_count": 32,
     "metadata": {},
     "output_type": "execute_result"
    }
   ],
   "source": [
    "a = \"aksodfkoae\"\n",
    "\n",
    "a.startswith(\"s\", a.find(\"s\"))\n",
    "# find는 \"s\"의 시작지점을 알려줌"
   ]
  },
  {
   "cell_type": "code",
   "execution_count": 35,
   "metadata": {},
   "outputs": [
    {
     "name": "stdout",
     "output_type": "stream",
     "text": [
      "True\n",
      "True\n"
     ]
    }
   ],
   "source": [
    "if 'p' in 'python':\n",
    "    print(True)\n",
    "else:\n",
    "    print(False)\n",
    "\n",
    "if 'l' not in 'python':\n",
    "    print(True)\n",
    "else:\n",
    "    print(False)"
   ]
  }
 ],
 "metadata": {
  "kernelspec": {
   "display_name": "Python 3",
   "language": "python",
   "name": "python3"
  },
  "language_info": {
   "codemirror_mode": {
    "name": "ipython",
    "version": 3
   },
   "file_extension": ".py",
   "mimetype": "text/x-python",
   "name": "python",
   "nbconvert_exporter": "python",
   "pygments_lexer": "ipython3",
   "version": "3.11.4"
  },
  "orig_nbformat": 4
 },
 "nbformat": 4,
 "nbformat_minor": 2
}
