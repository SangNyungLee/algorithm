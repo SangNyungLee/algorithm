{
 "cells": [
  {
   "cell_type": "code",
   "execution_count": 1,
   "metadata": {},
   "outputs": [
    {
     "name": "stdout",
     "output_type": "stream",
     "text": [
      "[78, 6, 6, 5, 4, 2, 1, 1]\n",
      "['v', 'u', 'q', 'p', 'e', 'b', 'a']\n"
     ]
    }
   ],
   "source": [
    "arr = [1,6,5,78,4,6,2,1]\n",
    "arr2 = [\"q\",\"e\",\"u\",\"v\",\"a\",\"b\",\"p\"]\n",
    "arr.sort(reverse=True)\n",
    "arr2.sort(reverse=True) \n",
    "print(arr)\n",
    "print(arr2)"
   ]
  }
 ],
 "metadata": {
  "kernelspec": {
   "display_name": "Python 3",
   "language": "python",
   "name": "python3"
  },
  "language_info": {
   "codemirror_mode": {
    "name": "ipython",
    "version": 3
   },
   "file_extension": ".py",
   "mimetype": "text/x-python",
   "name": "python",
   "nbconvert_exporter": "python",
   "pygments_lexer": "ipython3",
   "version": "3.11.4"
  },
  "orig_nbformat": 4
 },
 "nbformat": 4,
 "nbformat_minor": 2
}
