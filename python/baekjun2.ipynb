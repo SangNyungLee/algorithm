{
 "cells": [
  {
   "cell_type": "code",
   "execution_count": 12,
   "metadata": {},
   "outputs": [
    {
     "name": "stdout",
     "output_type": "stream",
     "text": [
      "0\n",
      "4\n",
      "20\n",
      "56\n",
      "120\n",
      "220\n"
     ]
    }
   ],
   "source": [
    "n = 10\n",
    "num = 0\n",
    "\n",
    "if n%2 == 1:\n",
    "    for i in range(1, n+1, 2):\n",
    "        num+= i\n",
    "        print(num)\n",
    "elif n % 2 == 0:\n",
    "    for i in range(0, n+1, 2):\n",
    "        num+= i*i\n",
    "        print(num)"
   ]
  },
  {
   "cell_type": "code",
   "execution_count": 31,
   "metadata": {},
   "outputs": [
    {
     "name": "stdout",
     "output_type": "stream",
     "text": [
      "0\n"
     ]
    }
   ],
   "source": [
    "ineq = \"<\"\n",
    "eq = \"=\"\n",
    "n = 50\n",
    "m = 20\n",
    "if ineq == \">\" and eq == \"=\":\n",
    "    if n>=m:\n",
    "        answer = 1\n",
    "    else:\n",
    "        answer = 0\n",
    "elif ineq == \"<\" and eq == \"=\":\n",
    "    if n<=m:\n",
    "        answer = 1\n",
    "    else:\n",
    "        answer = 0\n",
    "elif ineq == \">\" and eq == \"!\":\n",
    "    if n>m:\n",
    "        answer = 1\n",
    "    else:\n",
    "        answer = 0\n",
    "elif ineq == \"<\" and eq == \"!\":\n",
    "    if n<m:\n",
    "        answer = 1\n",
    "    else:\n",
    "        answer = 0"
   ]
  },
  {
   "cell_type": "code",
   "execution_count": 33,
   "metadata": {},
   "outputs": [
    {
     "name": "stdout",
     "output_type": "stream",
     "text": [
      "-11\n"
     ]
    }
   ],
   "source": [
    "flag = False\n",
    "a = -4\n",
    "b = 7\n",
    "answer = 0\n",
    "if flag == True:\n",
    "    answer = a + b\n",
    "else:\n",
    "    answer = a - b\n",
    "\n",
    "print(answer)\n"
   ]
  }
 ],
 "metadata": {
  "kernelspec": {
   "display_name": "Python 3",
   "language": "python",
   "name": "python3"
  },
  "language_info": {
   "codemirror_mode": {
    "name": "ipython",
    "version": 3
   },
   "file_extension": ".py",
   "mimetype": "text/x-python",
   "name": "python",
   "nbconvert_exporter": "python",
   "pygments_lexer": "ipython3",
   "version": "3.11.4"
  },
  "orig_nbformat": 4
 },
 "nbformat": 4,
 "nbformat_minor": 2
}
