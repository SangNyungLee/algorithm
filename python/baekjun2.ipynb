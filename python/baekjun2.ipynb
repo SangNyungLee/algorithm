{
 "cells": [
  {
   "cell_type": "code",
   "execution_count": 12,
   "metadata": {},
   "outputs": [
    {
     "name": "stdout",
     "output_type": "stream",
     "text": [
      "0\n",
      "4\n",
      "20\n",
      "56\n",
      "120\n",
      "220\n"
     ]
    }
   ],
   "source": [
    "n = 10\n",
    "num = 0\n",
    "\n",
    "if n%2 == 1:\n",
    "    for i in range(1, n+1, 2):\n",
    "        num+= i\n",
    "        print(num)\n",
    "elif n % 2 == 0:\n",
    "    for i in range(0, n+1, 2):\n",
    "        num+= i*i\n",
    "        print(num)"
   ]
  },
  {
   "cell_type": "code",
   "execution_count": 31,
   "metadata": {},
   "outputs": [
    {
     "name": "stdout",
     "output_type": "stream",
     "text": [
      "0\n"
     ]
    }
   ],
   "source": [
    "ineq = \"<\"\n",
    "eq = \"=\"\n",
    "n = 50\n",
    "m = 20\n",
    "if ineq == \">\" and eq == \"=\":\n",
    "    if n>=m:\n",
    "        answer = 1\n",
    "    else:\n",
    "        answer = 0\n",
    "elif ineq == \"<\" and eq == \"=\":\n",
    "    if n<=m:\n",
    "        answer = 1\n",
    "    else:\n",
    "        answer = 0\n",
    "elif ineq == \">\" and eq == \"!\":\n",
    "    if n>m:\n",
    "        answer = 1\n",
    "    else:\n",
    "        answer = 0\n",
    "elif ineq == \"<\" and eq == \"!\":\n",
    "    if n<m:\n",
    "        answer = 1\n",
    "    else:\n",
    "        answer = 0"
   ]
  },
  {
   "cell_type": "code",
   "execution_count": 1,
   "metadata": {},
   "outputs": [
    {
     "name": "stdout",
     "output_type": "stream",
     "text": [
      "-11\n"
     ]
    }
   ],
   "source": [
    "flag = False\n",
    "a = -4\n",
    "b = 7\n",
    "answer = 0\n",
    "if flag == True:\n",
    "    answer = a + b\n",
    "else:\n",
    "    answer = a - b\n",
    "\n",
    "print(answer)\n"
   ]
  },
  {
   "cell_type": "code",
   "execution_count": 5,
   "metadata": {},
   "outputs": [],
   "source": [
    "#코드처리하기\n",
    "\n",
    "def solution(code):\n",
    "    answer = ''\n",
    "    mode = 0\n",
    "    for idx, alphabet in enumerate(code) :\n",
    "        # alphabet == 1\n",
    "        # mode =1 or 0 \n",
    "\n",
    "        \n",
    "        if alphabet == '1':\n",
    "            # mode가 1이면 0, 0이면 1\n",
    "            mode = 1 - mode\n",
    "            continue\n",
    "        #mode에 따라서 idx을 본다음에, answer에다가 answer+= alphabet\n",
    "        if mode == 0 and idx % 2 == 0 :\n",
    "            answer += alphabet\n",
    "        elif mode == 1 and idx % 2 ==1 :\n",
    "            answer += alphabet\n",
    "    # 가장 쉽게 리턴하는 법\n",
    "    if answer == \"\":\n",
    "        answer = \"EMPTY\"\n",
    "    return answer\n",
    "\n",
    "    # 삼항연산자로 리턴 return answer if answer != \"\" else \"EMPTY\"\n",
    "    # 파이썬에서 or 를 이용한 꼼수 return answer or \"EMPTY\" 로 바꿀 수 있다. \n",
    "\n",
    "\n",
    "# 숙련되거나 수학좀 친다\n",
    "def solution2(code):\n",
    "    return \"\".join(code.split(\"1\"))[::2] or \"EMPTY\""
   ]
  },
  {
   "cell_type": "code",
   "execution_count": null,
   "metadata": {},
   "outputs": [],
   "source": []
  }
 ],
 "metadata": {
  "kernelspec": {
   "display_name": "Python 3",
   "language": "python",
   "name": "python3"
  },
  "language_info": {
   "codemirror_mode": {
    "name": "ipython",
    "version": 3
   },
   "file_extension": ".py",
   "mimetype": "text/x-python",
   "name": "python",
   "nbconvert_exporter": "python",
   "pygments_lexer": "ipython3",
   "version": "3.11.4"
  },
  "orig_nbformat": 4
 },
 "nbformat": 4,
 "nbformat_minor": 2
}
