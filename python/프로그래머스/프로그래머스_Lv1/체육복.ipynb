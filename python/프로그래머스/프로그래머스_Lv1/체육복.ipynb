{
 "cells": [
  {
   "cell_type": "code",
   "execution_count": null,
   "metadata": {},
   "outputs": [],
   "source": [
    "n = 5\n",
    "lost = [2,5]\n",
    "reserve = [1,3,5]\n",
    "# 양 옆에 사람에게만 체육복을 빌려줄 수 있음\n",
    "# 체육수업을 들을 수 있는 학생의 최댓값은?\n"
   ]
  }
 ],
 "metadata": {
  "language_info": {
   "name": "python"
  },
  "orig_nbformat": 4
 },
 "nbformat": 4,
 "nbformat_minor": 2
}
