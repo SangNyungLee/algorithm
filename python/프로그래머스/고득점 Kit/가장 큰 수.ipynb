{
 "cells": [
  {
   "cell_type": "code",
   "execution_count": 53,
   "metadata": {},
   "outputs": [
    {
     "name": "stdout",
     "output_type": "stream",
     "text": [
      "955034330221111010\n"
     ]
    }
   ],
   "source": [
    "def solution(numbers):\n",
    "    str_list = [str(item) for item in numbers]\n",
    "    str_list.sort(key=lambda x : x*3, reverse=True)\n",
    "    if(int(''.join(str_list)) == 0 ):\n",
    "        return \"0\"\n",
    "    else:\n",
    "        return ''.join(str_list)"
   ]
  }
 ],
 "metadata": {
  "kernelspec": {
   "display_name": "Python 3",
   "language": "python",
   "name": "python3"
  },
  "language_info": {
   "codemirror_mode": {
    "name": "ipython",
    "version": 3
   },
   "file_extension": ".py",
   "mimetype": "text/x-python",
   "name": "python",
   "nbconvert_exporter": "python",
   "pygments_lexer": "ipython3",
   "version": "3.11.4"
  },
  "orig_nbformat": 4
 },
 "nbformat": 4,
 "nbformat_minor": 2
}
