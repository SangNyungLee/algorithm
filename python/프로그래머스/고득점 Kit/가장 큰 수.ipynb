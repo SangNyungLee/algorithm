{
 "cells": [
  {
   "cell_type": "code",
   "execution_count": 54,
   "metadata": {},
   "outputs": [
    {
     "name": "stdout",
     "output_type": "stream",
     "text": [
      "['9', '5', '34', '30', '3']\n",
      "9\n",
      "5\n",
      "34\n",
      "30\n",
      "3\n"
     ]
    }
   ],
   "source": [
    "# a = [3, 30, 34, 5, 9]\n",
    "# str_list = [str(item) for item in a]\n",
    "# print(str_list)\n",
    "# new_list = sorted(str_list, reverse=True)\n",
    "# print(new_list)\n",
    "# print(''.join(new_list))\n",
    "\n",
    "number = ['3', '30', '34', '5','9']\n",
    "list = sorted(number, key=lambda x :x, reverse=True)\n",
    "print(list)\n",
    "\n",
    "number[1].find(\"0\")  \n",
    "for i in list:\n",
    "    print(i)  "
   ]
  }
 ],
 "metadata": {
  "kernelspec": {
   "display_name": "Python 3",
   "language": "python",
   "name": "python3"
  },
  "language_info": {
   "codemirror_mode": {
    "name": "ipython",
    "version": 3
   },
   "file_extension": ".py",
   "mimetype": "text/x-python",
   "name": "python",
   "nbconvert_exporter": "python",
   "pygments_lexer": "ipython3",
   "version": "3.11.4"
  },
  "orig_nbformat": 4
 },
 "nbformat": 4,
 "nbformat_minor": 2
}
