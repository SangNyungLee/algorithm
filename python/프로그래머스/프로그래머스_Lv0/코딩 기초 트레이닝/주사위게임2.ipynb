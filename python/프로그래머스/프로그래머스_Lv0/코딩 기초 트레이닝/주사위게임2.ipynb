{
 "cells": [
  {
   "cell_type": "code",
   "execution_count": null,
   "metadata": {},
   "outputs": [],
   "source": [
    "def solution(a, b, c):\n",
    "    answer = 0\n",
    "    \n",
    "    result = a+b+c\n",
    "    result2 = a**2 + b**2 + c**2\n",
    "    result3 = a**3 + b**3 + c**3\n",
    "    \n",
    "    if a != b != c != a:\n",
    "        answer = result\n",
    "    elif a == b == c:\n",
    "        answer= (result) * (result2) * (result3)\n",
    "    else:\n",
    "        answer = (result) * (result2)\n",
    "    return answer"
   ]
  }
 ],
 "metadata": {
  "language_info": {
   "name": "python"
  },
  "orig_nbformat": 4
 },
 "nbformat": 4,
 "nbformat_minor": 2
}
