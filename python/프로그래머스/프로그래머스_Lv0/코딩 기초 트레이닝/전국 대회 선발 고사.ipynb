{
 "cells": [
  {
   "cell_type": "code",
   "execution_count": 30,
   "metadata": {},
   "outputs": [
    {
     "name": "stdout",
     "output_type": "stream",
     "text": [
      "50200\n"
     ]
    }
   ],
   "source": [
    "def solution(rank, attendance):\n",
    "    answer = []\n",
    "    for (a,b),c in zip(enumerate(rank),attendance):\n",
    "        if c ==True:\n",
    "            answer.append((a,b))\n",
    "    answer.sort(key=lambda x:x[1])\n",
    "    return 10000*answer[0][0]+100*answer[1][0]+answer[2][0]"
   ]
  },
  {
   "cell_type": "code",
   "execution_count": 33,
   "metadata": {},
   "outputs": [
    {
     "name": "stdout",
     "output_type": "stream",
     "text": [
      "[(4, 5), (5, 2), (6, 0)]\n"
     ]
    }
   ],
   "source": [
    "arr = sorted([(x, i) for i, x in enumerate(rank) if attendance[i]])\n",
    "print(arr)"
   ]
  },
  {
   "cell_type": "code",
   "execution_count": 36,
   "metadata": {},
   "outputs": [
    {
     "name": "stdout",
     "output_type": "stream",
     "text": [
      "[(1, 5), (2, 2), (3, 1), (4, 6)]\n"
     ]
    }
   ],
   "source": [
    "a = [(2,2),(1,5),(4,6),(3,1)]\n",
    "b = sorted(a)\n",
    "print(b)"
   ]
  }
 ],
 "metadata": {
  "kernelspec": {
   "display_name": "Python 3",
   "language": "python",
   "name": "python3"
  },
  "language_info": {
   "codemirror_mode": {
    "name": "ipython",
    "version": 3
   },
   "file_extension": ".py",
   "mimetype": "text/x-python",
   "name": "python",
   "nbconvert_exporter": "python",
   "pygments_lexer": "ipython3",
   "version": "3.11.4"
  },
  "orig_nbformat": 4
 },
 "nbformat": 4,
 "nbformat_minor": 2
}
