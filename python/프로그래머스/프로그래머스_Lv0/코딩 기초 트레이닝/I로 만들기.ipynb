{
 "cells": [
  {
   "cell_type": "code",
   "execution_count": 3,
   "metadata": {},
   "outputs": [
    {
     "name": "stdout",
     "output_type": "stream",
     "text": [
      "IIIIIvwxyz\n"
     ]
    }
   ],
   "source": [
    "def solution(myString):\n",
    "    answer = ''\n",
    "    for i in myString:\n",
    "        if i < \"l\":\n",
    "            answer +=\"l\"\n",
    "        else:\n",
    "            answer += i\n",
    "    return answer"
   ]
  }
 ],
 "metadata": {
  "kernelspec": {
   "display_name": "Python 3",
   "language": "python",
   "name": "python3"
  },
  "language_info": {
   "codemirror_mode": {
    "name": "ipython",
    "version": 3
   },
   "file_extension": ".py",
   "mimetype": "text/x-python",
   "name": "python",
   "nbconvert_exporter": "python",
   "pygments_lexer": "ipython3",
   "version": "3.11.4"
  },
  "orig_nbformat": 4
 },
 "nbformat": 4,
 "nbformat_minor": 2
}
