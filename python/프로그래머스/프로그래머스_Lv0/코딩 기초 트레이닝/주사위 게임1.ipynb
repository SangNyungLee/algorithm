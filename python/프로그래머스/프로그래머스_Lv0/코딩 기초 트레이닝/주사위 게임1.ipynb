{
 "cells": [
  {
   "cell_type": "code",
   "execution_count": null,
   "metadata": {},
   "outputs": [],
   "source": [
    "def solution(a, b):\n",
    "    if a%2 == 1 and b%2 == 1:\n",
    "        return a**2+b**2\n",
    "    elif a%2 == 0 and b%2 ==0:\n",
    "        return abs(a-b)\n",
    "    else:\n",
    "        return 2*(a+b)"
   ]
  }
 ],
 "metadata": {
  "language_info": {
   "name": "python"
  },
  "orig_nbformat": 4
 },
 "nbformat": 4,
 "nbformat_minor": 2
}
