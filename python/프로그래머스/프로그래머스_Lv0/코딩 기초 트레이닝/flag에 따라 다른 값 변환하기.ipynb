{
 "cells": [
  {
   "cell_type": "code",
   "execution_count": null,
   "metadata": {},
   "outputs": [],
   "source": [
    "flag = False\n",
    "a = -4\n",
    "b = 7\n",
    "answer = 0\n",
    "if flag == True:\n",
    "    answer = a + b\n",
    "else:\n",
    "    answer = a - b\n",
    "\n",
    "print(answer)"
   ]
  }
 ],
 "metadata": {
  "language_info": {
   "name": "python"
  },
  "orig_nbformat": 4
 },
 "nbformat": 4,
 "nbformat_minor": 2
}
