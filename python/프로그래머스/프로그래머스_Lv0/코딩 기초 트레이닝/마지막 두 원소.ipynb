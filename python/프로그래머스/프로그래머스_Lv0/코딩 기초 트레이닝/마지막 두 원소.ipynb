{
 "cells": [
  {
   "cell_type": "code",
   "execution_count": null,
   "metadata": {},
   "outputs": [],
   "source": [
    "def solution(num_list):\n",
    "    answer = num_list\n",
    "    res=0\n",
    "    i = len(num_list)-1\n",
    "    if num_list[i] > num_list[i-1]:\n",
    "        res = num_list[i]-num_list[i-1]\n",
    "    else:\n",
    "        res = num_list[i]*2\n",
    "        \n",
    "    answer.append(res)\n",
    "    \n",
    "    return answer"
   ]
  }
 ],
 "metadata": {
  "language_info": {
   "name": "python"
  },
  "orig_nbformat": 4
 },
 "nbformat": 4,
 "nbformat_minor": 2
}
