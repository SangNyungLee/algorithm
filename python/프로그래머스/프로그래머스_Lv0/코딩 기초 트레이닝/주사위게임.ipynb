{
 "cells": [
  {
   "cell_type": "code",
   "execution_count": 102,
   "metadata": {},
   "outputs": [
    {
     "name": "stdout",
     "output_type": "stream",
     "text": [
      "3 5 5 4\n",
      "12\n"
     ]
    }
   ],
   "source": [
    "\n",
    "# a,b,c,d =3,5,5,4\n",
    "# answer = 0\n",
    "# print (a,b,c,d)\n",
    "# if(a==b==c==d):\n",
    "#     answer = 1111*a\n",
    "# #10*같은+다른\n",
    "# elif a==b==c and a!=d and b!=d and c!=d:\n",
    "#     answer = (10*a+d)**2\n",
    "# elif b==c==d and b!=a and c!=a and d!=a:\n",
    "#     answer = (10*b+a)**2\n",
    "# elif a==b==d and a!=c and b!=c and d!=c:\n",
    "#     answer = (10*a+c)**2\n",
    "# elif c==d==a and c!=b and d!=b and a!=b:\n",
    "#     answer = (10*c+b)**2\n",
    "\n",
    "# elif a==b and c==d and a!=c and a!=d and b!=c and b!=d:\n",
    "#     answer = (a+c)*abs(a-c)\n",
    "# elif b==c and a==d and b!=d and b!=a and c!=d and c!=a:\n",
    "#     answer = (b+d)*abs(b-d)\n",
    "# elif a==c and b==d and a!=b and a!=d and c!=b and c!=d:\n",
    "#     answer = (a+b)*abs(a-b)\n",
    "# elif a==d and b==c and a!=b and a!=c and d!=b and d!=c:\n",
    "#     answer = (a+b)*abs(a-b)    \n",
    "\n",
    "# elif a==b and c!=d and a!=c and a!=d and b!=c and b!=d:\n",
    "#     answer = c*d      \n",
    "# elif b==c and d!=a and b!=d and b!=a and c!=d and c!=a:\n",
    "#     answer = d*a\n",
    "# elif a==c and b!=d and a!=b and a!=d and c!=b and c!=d:\n",
    "#     answer = b*d\n",
    "# elif a==d and b!=c and a!=b and a!=c and d!=b and d!=c:\n",
    "#     answer = b*c\n",
    "# elif c==d and a!=b and c!=a and c!=b and d!=a and d!=b:\n",
    "#     answer = a*b\n",
    "# elif b==d and a!=c and b!=a and b!=c and d!=a and d!=c:\n",
    "#     answer = a*c\n",
    "\n",
    "# elif a!=b and a!=c and a!=d and b!=c and b!=d and d!=a:\n",
    "#     answer = min(a,b,c,d)\n",
    "# print(answer)"
   ]
  },
  {
   "cell_type": "code",
   "execution_count": 118,
   "metadata": {},
   "outputs": [
    {
     "name": "stdout",
     "output_type": "stream",
     "text": [
      "[1, 3, 3, 3]\n"
     ]
    }
   ],
   "source": [
    "def solution(a, b, c, d):\n",
    "    nums = [a, b, c, d]\n",
    "    counts = [nums.count(i) for i in nums]\n",
    "    if max(counts) == 4:\n",
    "        return a * 1111\n",
    "    elif max(counts) == 3:\n",
    "        p = nums[counts.index(3)]\n",
    "        q = nums[counts.index(1)]\n",
    "        return (10 * p + q) ** 2\n",
    "    elif max(counts) == 2:\n",
    "        if min(counts) == 2:\n",
    "            return (a + c) * abs(a - c) if a == b else (a + b) * abs(a - b)\n",
    "        else:\n",
    "            p = nums[counts.index(2)]\n",
    "            return (a * b * c * d) / p**2\n",
    "    else:\n",
    "        return min(nums)"
   ]
  }
 ],
 "metadata": {
  "kernelspec": {
   "display_name": "Python 3",
   "language": "python",
   "name": "python3"
  },
  "language_info": {
   "codemirror_mode": {
    "name": "ipython",
    "version": 3
   },
   "file_extension": ".py",
   "mimetype": "text/x-python",
   "name": "python",
   "nbconvert_exporter": "python",
   "pygments_lexer": "ipython3",
   "version": "3.11.4"
  },
  "orig_nbformat": 4
 },
 "nbformat": 4,
 "nbformat_minor": 2
}
