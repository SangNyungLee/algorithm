{
 "cells": [
  {
   "cell_type": "code",
   "execution_count": 4,
   "metadata": {},
   "outputs": [
    {
     "name": "stdout",
     "output_type": "stream",
     "text": [
      "{'a': 1, 'b': 1, 'd': 2}\n"
     ]
    }
   ],
   "source": [
    "d1 = dict(a=1, b=2)\n",
    "d2 = dict(b=1, d=2)\n",
    "\n",
    "d1.update(d2)\n",
    "print(d1)"
   ]
  },
  {
   "cell_type": "code",
   "execution_count": 1,
   "metadata": {},
   "outputs": [
    {
     "ename": "NameError",
     "evalue": "name 'd2' is not defined",
     "output_type": "error",
     "traceback": [
      "\u001b[1;31m---------------------------------------------------------------------------\u001b[0m",
      "\u001b[1;31mNameError\u001b[0m                                 Traceback (most recent call last)",
      "\u001b[1;32mc:\\Users\\SANGYOUNG\\Desktop\\github\\algorithm\\python\\연습장.ipynb Cell 2\u001b[0m line \u001b[0;36m2\n\u001b[0;32m      <a href='vscode-notebook-cell:/c%3A/Users/SANGYOUNG/Desktop/github/algorithm/python/%EC%97%B0%EC%8A%B5%EC%9E%A5.ipynb#W1sZmlsZQ%3D%3D?line=0'>1</a>\u001b[0m d3 \u001b[39m=\u001b[39m \u001b[39mdict\u001b[39m(c\u001b[39m=\u001b[39m\u001b[39m3\u001b[39m, d\u001b[39m=\u001b[39m\u001b[39m4\u001b[39m)\n\u001b[1;32m----> <a href='vscode-notebook-cell:/c%3A/Users/SANGYOUNG/Desktop/github/algorithm/python/%EC%97%B0%EC%8A%B5%EC%9E%A5.ipynb#W1sZmlsZQ%3D%3D?line=1'>2</a>\u001b[0m d4 \u001b[39m=\u001b[39m \u001b[39mdict\u001b[39m(d2, \u001b[39m*\u001b[39m\u001b[39m*\u001b[39md3)\n\u001b[0;32m      <a href='vscode-notebook-cell:/c%3A/Users/SANGYOUNG/Desktop/github/algorithm/python/%EC%97%B0%EC%8A%B5%EC%9E%A5.ipynb#W1sZmlsZQ%3D%3D?line=2'>3</a>\u001b[0m \u001b[39mprint\u001b[39m(d3[\u001b[39m\"\u001b[39m\u001b[39mc\u001b[39m\u001b[39m\"\u001b[39m])\n",
      "\u001b[1;31mNameError\u001b[0m: name 'd2' is not defined"
     ]
    }
   ],
   "source": [
    "d3 = dict(c=3, d=4)\n",
    "d4 = dict(d2, **d3)\n",
    "print(d3[\"c\"])"
   ]
  },
  {
   "cell_type": "code",
   "execution_count": 31,
   "metadata": {},
   "outputs": [
    {
     "name": "stdout",
     "output_type": "stream",
     "text": [
      "[(1, 0), (2, 0), (3, 0), (4, 0), (5, 0)]\n"
     ]
    }
   ],
   "source": [
    "a = [5,1,3,4,2]\n",
    "dic = {a : 0 for a in a}\n",
    "dic = sorted(dic.items(), key=lambda x : x[0])\n",
    "print(dic)"
   ]
  },
  {
   "cell_type": "code",
   "execution_count": 4,
   "metadata": {},
   "outputs": [
    {
     "name": "stdout",
     "output_type": "stream",
     "text": [
      "4\n",
      "2.23606797749979\n"
     ]
    }
   ],
   "source": [
    "print(int(7/2+0.5))\n",
    "\n",
    "print(5**(1/2))"
   ]
  },
  {
   "cell_type": "code",
   "execution_count": 1,
   "metadata": {},
   "outputs": [
    {
     "ename": "ValueError",
     "evalue": "invalid literal for int() with base 10: ''",
     "output_type": "error",
     "traceback": [
      "\u001b[1;31m---------------------------------------------------------------------------\u001b[0m",
      "\u001b[1;31mValueError\u001b[0m                                Traceback (most recent call last)",
      "\u001b[1;32mc:\\Users\\SANGYOUNG\\Desktop\\github\\algorithm\\python\\연습장.ipynb Cell 5\u001b[0m line \u001b[0;36m1\n\u001b[1;32m----> <a href='vscode-notebook-cell:/c%3A/Users/SANGYOUNG/Desktop/github/algorithm/python/%EC%97%B0%EC%8A%B5%EC%9E%A5.ipynb#W4sZmlsZQ%3D%3D?line=0'>1</a>\u001b[0m n \u001b[39m=\u001b[39m \u001b[39mint\u001b[39;49m(\u001b[39minput\u001b[39;49m())\n\u001b[0;32m      <a href='vscode-notebook-cell:/c%3A/Users/SANGYOUNG/Desktop/github/algorithm/python/%EC%97%B0%EC%8A%B5%EC%9E%A5.ipynb#W4sZmlsZQ%3D%3D?line=1'>2</a>\u001b[0m arr \u001b[39m=\u001b[39m \u001b[39mlist\u001b[39m(\u001b[39mmap\u001b[39m(\u001b[39mint\u001b[39m, \u001b[39minput\u001b[39m()\u001b[39m.\u001b[39msplit()))\n\u001b[0;32m      <a href='vscode-notebook-cell:/c%3A/Users/SANGYOUNG/Desktop/github/algorithm/python/%EC%97%B0%EC%8A%B5%EC%9E%A5.ipynb#W4sZmlsZQ%3D%3D?line=2'>3</a>\u001b[0m m \u001b[39m=\u001b[39m \u001b[39mint\u001b[39m(\u001b[39minput\u001b[39m())\n",
      "\u001b[1;31mValueError\u001b[0m: invalid literal for int() with base 10: ''"
     ]
    }
   ],
   "source": [
    "n = int(input())\n",
    "arr = list(map(int, input().split()))\n",
    "m = int(input())\n",
    "arr2 = list(map(int, input().split()))\n",
    "dic = {i: 0 for i in arr2}\n",
    "\n",
    "for i in arr:\n",
    "    if i in dic:\n",
    "        dic[i] += 1\n",
    "\n",
    "print(\" \".join(map(str, dic.values())))"
   ]
  },
  {
   "cell_type": "code",
   "execution_count": 5,
   "metadata": {},
   "outputs": [
    {
     "name": "stdout",
     "output_type": "stream",
     "text": [
      "a\n",
      "b\n",
      "c\n",
      "d\n",
      "e\n"
     ]
    }
   ],
   "source": [
    "arr =['a','b','c','d','e']\n",
    "dic1 = {value : index for index,value in enumerate(arr)}\n",
    "for i in dic1:\n",
    "    print(i)\n"
   ]
  },
  {
   "cell_type": "code",
   "execution_count": 4,
   "metadata": {},
   "outputs": [
    {
     "name": "stdout",
     "output_type": "stream",
     "text": [
      "1\n",
      "84\n"
     ]
    }
   ],
   "source": [
    "import math\n",
    "\n",
    "a = 12\n",
    "b = 7\n",
    "\n",
    "\n",
    "print(math.gcd(a,b))\n",
    "print(math.lcm(a,b))"
   ]
  }
 ],
 "metadata": {
  "kernelspec": {
   "display_name": "Python 3",
   "language": "python",
   "name": "python3"
  },
  "language_info": {
   "codemirror_mode": {
    "name": "ipython",
    "version": 3
   },
   "file_extension": ".py",
   "mimetype": "text/x-python",
   "name": "python",
   "nbconvert_exporter": "python",
   "pygments_lexer": "ipython3",
   "version": "3.11.4"
  }
 },
 "nbformat": 4,
 "nbformat_minor": 2
}
