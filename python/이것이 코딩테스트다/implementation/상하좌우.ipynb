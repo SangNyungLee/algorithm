{
 "cells": [
  {
   "cell_type": "code",
   "execution_count": 15,
   "metadata": {},
   "outputs": [
    {
     "name": "stdout",
     "output_type": "stream",
     "text": [
      "5 5\n"
     ]
    }
   ],
   "source": [
    "n=int(input())\n",
    "x, y = 1, 1\n",
    "walk = input()\n",
    "for i in walk:\n",
    "    #R일때\n",
    "    if i == \"R\":\n",
    "        if y >= n:\n",
    "            continue\n",
    "        else:\n",
    "            y+=1\n",
    "    elif i == \"L\":\n",
    "        if y <= 1:\n",
    "            continue\n",
    "        else:\n",
    "            y-=1\n",
    "    elif i == \"U\":\n",
    "        if x <=1:\n",
    "            continue\n",
    "        else:\n",
    "            x -=1\n",
    "    elif i == \"D\":\n",
    "        if x >= n:\n",
    "            continue\n",
    "        else:\n",
    "            x +=1\n",
    "print(x,y)\n",
    "    \n",
    "        \n",
    "\n"
   ]
  },
  {
   "cell_type": "code",
   "execution_count": null,
   "metadata": {},
   "outputs": [],
   "source": []
  }
 ],
 "metadata": {
  "kernelspec": {
   "display_name": "Python 3",
   "language": "python",
   "name": "python3"
  },
  "language_info": {
   "codemirror_mode": {
    "name": "ipython",
    "version": 3
   },
   "file_extension": ".py",
   "mimetype": "text/x-python",
   "name": "python",
   "nbconvert_exporter": "python",
   "pygments_lexer": "ipython3",
   "version": "3.11.4"
  },
  "orig_nbformat": 4
 },
 "nbformat": 4,
 "nbformat_minor": 2
}
