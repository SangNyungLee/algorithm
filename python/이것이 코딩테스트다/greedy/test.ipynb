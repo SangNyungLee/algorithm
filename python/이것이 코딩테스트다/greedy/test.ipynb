{
 "cells": [
  {
   "cell_type": "code",
   "execution_count": 54,
   "metadata": {},
   "outputs": [
    {
     "name": "stdout",
     "output_type": "stream",
     "text": [
      "3\n"
     ]
    }
   ],
   "source": [
    "x = int(input())\n",
    "result = 0\n",
    "while(True):\n",
    "    if x == 1:\n",
    "        break\n",
    "    if x % 3 == 0:\n",
    "        x /= 3\n",
    "        result +=1\n",
    "    elif x %2 ==0:\n",
    "        if (x-1) % 3 ==0:\n",
    "            x -= 1\n",
    "            result +=1\n",
    "        else:\n",
    "            x /=2\n",
    "            result+=1\n",
    "    else:\n",
    "        x -=1\n",
    "        result +=1\n",
    "print(result)"
   ]
  }
 ],
 "metadata": {
  "kernelspec": {
   "display_name": "Python 3",
   "language": "python",
   "name": "python3"
  },
  "language_info": {
   "codemirror_mode": {
    "name": "ipython",
    "version": 3
   },
   "file_extension": ".py",
   "mimetype": "text/x-python",
   "name": "python",
   "nbconvert_exporter": "python",
   "pygments_lexer": "ipython3",
   "version": "3.11.4"
  },
  "orig_nbformat": 4
 },
 "nbformat": 4,
 "nbformat_minor": 2
}
